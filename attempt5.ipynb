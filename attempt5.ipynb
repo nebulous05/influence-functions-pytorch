{
  "nbformat": 4,
  "nbformat_minor": 0,
  "metadata": {
    "colab": {
      "provenance": [],
      "authorship_tag": "ABX9TyPqGbQf+3Ww2S1YNfZ/VSqt",
      "include_colab_link": true
    },
    "kernelspec": {
      "name": "python3",
      "display_name": "Python 3"
    },
    "language_info": {
      "name": "python"
    }
  },
  "cells": [
    {
      "cell_type": "markdown",
      "metadata": {
        "id": "view-in-github",
        "colab_type": "text"
      },
      "source": [
        "<a href=\"https://colab.research.google.com/github/nebulous05/influence-functions-pytorch/blob/main/attempt5.ipynb\" target=\"_parent\"><img src=\"https://colab.research.google.com/assets/colab-badge.svg\" alt=\"Open In Colab\"/></a>"
      ]
    },
    {
      "cell_type": "code",
      "execution_count": 1,
      "metadata": {
        "id": "qGTMWLxNjUJz"
      },
      "outputs": [],
      "source": [
        "import torch\n",
        "import torch.nn as nn\n",
        "import torch.nn.functional as F\n",
        "import torch.optim as optim\n",
        "from torchvision import datasets, transforms\n",
        "from torch.utils.data import DataLoader, random_split, Subset\n",
        "from torchsummary import summary\n",
        "import matplotlib.pyplot as plt\n",
        "import numpy as np\n",
        "import random\n",
        "import copy"
      ]
    },
    {
      "cell_type": "code",
      "source": [
        "transform = transforms.Compose(\n",
        "        [\n",
        "            transforms.ToTensor(),\n",
        "            transforms.Normalize((0.1307,), (0.3081,)),\n",
        "        ],\n",
        "    )\n",
        "train_set = datasets.MNIST(\"./data\", train=True, download=True, transform=transform)\n",
        "test_set = datasets.MNIST(\"./data\", train=False, download=True, transform=transform)"
      ],
      "metadata": {
        "colab": {
          "base_uri": "https://localhost:8080/"
        },
        "id": "HRUgSyyal9H-",
        "outputId": "08d05d2b-a4a0-4993-f577-25c69093bbd0"
      },
      "execution_count": 2,
      "outputs": [
        {
          "output_type": "stream",
          "name": "stdout",
          "text": [
            "Downloading http://yann.lecun.com/exdb/mnist/train-images-idx3-ubyte.gz\n",
            "Failed to download (trying next):\n",
            "HTTP Error 403: Forbidden\n",
            "\n",
            "Downloading https://ossci-datasets.s3.amazonaws.com/mnist/train-images-idx3-ubyte.gz\n",
            "Downloading https://ossci-datasets.s3.amazonaws.com/mnist/train-images-idx3-ubyte.gz to ./data/MNIST/raw/train-images-idx3-ubyte.gz\n"
          ]
        },
        {
          "output_type": "stream",
          "name": "stderr",
          "text": [
            "100%|██████████| 9912422/9912422 [00:00<00:00, 38358329.63it/s]\n"
          ]
        },
        {
          "output_type": "stream",
          "name": "stdout",
          "text": [
            "Extracting ./data/MNIST/raw/train-images-idx3-ubyte.gz to ./data/MNIST/raw\n",
            "\n",
            "Downloading http://yann.lecun.com/exdb/mnist/train-labels-idx1-ubyte.gz\n",
            "Failed to download (trying next):\n",
            "HTTP Error 403: Forbidden\n",
            "\n",
            "Downloading https://ossci-datasets.s3.amazonaws.com/mnist/train-labels-idx1-ubyte.gz\n",
            "Downloading https://ossci-datasets.s3.amazonaws.com/mnist/train-labels-idx1-ubyte.gz to ./data/MNIST/raw/train-labels-idx1-ubyte.gz\n"
          ]
        },
        {
          "output_type": "stream",
          "name": "stderr",
          "text": [
            "100%|██████████| 28881/28881 [00:00<00:00, 2527609.68it/s]"
          ]
        },
        {
          "output_type": "stream",
          "name": "stdout",
          "text": [
            "Extracting ./data/MNIST/raw/train-labels-idx1-ubyte.gz to ./data/MNIST/raw\n",
            "\n",
            "Downloading http://yann.lecun.com/exdb/mnist/t10k-images-idx3-ubyte.gz\n"
          ]
        },
        {
          "output_type": "stream",
          "name": "stderr",
          "text": [
            "\n"
          ]
        },
        {
          "output_type": "stream",
          "name": "stdout",
          "text": [
            "Failed to download (trying next):\n",
            "HTTP Error 403: Forbidden\n",
            "\n",
            "Downloading https://ossci-datasets.s3.amazonaws.com/mnist/t10k-images-idx3-ubyte.gz\n",
            "Downloading https://ossci-datasets.s3.amazonaws.com/mnist/t10k-images-idx3-ubyte.gz to ./data/MNIST/raw/t10k-images-idx3-ubyte.gz\n"
          ]
        },
        {
          "output_type": "stream",
          "name": "stderr",
          "text": [
            "100%|██████████| 1648877/1648877 [00:00<00:00, 13245865.19it/s]\n"
          ]
        },
        {
          "output_type": "stream",
          "name": "stdout",
          "text": [
            "Extracting ./data/MNIST/raw/t10k-images-idx3-ubyte.gz to ./data/MNIST/raw\n",
            "\n",
            "Downloading http://yann.lecun.com/exdb/mnist/t10k-labels-idx1-ubyte.gz\n",
            "Failed to download (trying next):\n",
            "HTTP Error 403: Forbidden\n",
            "\n",
            "Downloading https://ossci-datasets.s3.amazonaws.com/mnist/t10k-labels-idx1-ubyte.gz\n",
            "Downloading https://ossci-datasets.s3.amazonaws.com/mnist/t10k-labels-idx1-ubyte.gz to ./data/MNIST/raw/t10k-labels-idx1-ubyte.gz\n"
          ]
        },
        {
          "output_type": "stream",
          "name": "stderr",
          "text": [
            "100%|██████████| 4542/4542 [00:00<00:00, 3930375.24it/s]"
          ]
        },
        {
          "output_type": "stream",
          "name": "stdout",
          "text": [
            "Extracting ./data/MNIST/raw/t10k-labels-idx1-ubyte.gz to ./data/MNIST/raw\n",
            "\n"
          ]
        },
        {
          "output_type": "stream",
          "name": "stderr",
          "text": [
            "\n"
          ]
        }
      ]
    },
    {
      "cell_type": "code",
      "source": [
        "random.seed(42)\n",
        "# take subsets of train/test set to speed up runtime\n",
        "train_indices = random.sample(range(len(train_set)), 10000)\n",
        "test_indices = random.sample(range(len(test_set)), 100)\n",
        "\n",
        "train_subset = Subset(train_set, train_indices)\n",
        "test_subset = Subset(test_set, test_indices)\n",
        "\n",
        "train_loader = torch.utils.data.DataLoader(train_subset, batch_size=1000, shuffle=False)\n",
        "test_loader = torch.utils.data.DataLoader(test_subset, batch_size=100, shuffle=False)"
      ],
      "metadata": {
        "id": "rs8uOOCDmAZ1"
      },
      "execution_count": 3,
      "outputs": []
    },
    {
      "cell_type": "code",
      "source": [
        "# some functions to retrieve/view data\n",
        "def get_item(index, dataset='train'):\n",
        "    ''' returns a pair (image_tensor, label_int) '''\n",
        "    if dataset == 'train':\n",
        "        return train_subset[index]\n",
        "    elif dataset == 'test':\n",
        "        return test_subset[index]\n",
        "\n",
        "def show_image(index, dataset='train'):\n",
        "    ''' show an image with matplotlib '''\n",
        "    if dataset == 'train':\n",
        "        img = train_subset[index][0].numpy().reshape(28, 28)\n",
        "    elif dataset == 'test':\n",
        "        img = test_subset[index][0].numpy().reshape(28, 28)\n",
        "    plt.imshow(img, cmap='gray')\n",
        "    plt.show()"
      ],
      "metadata": {
        "id": "Va2Ypf7bmMj_"
      },
      "execution_count": 4,
      "outputs": []
    },
    {
      "cell_type": "code",
      "source": [
        "class LogReg(nn.Module):\n",
        "    def __init__(self):\n",
        "        super(LogReg, self).__init__()\n",
        "        self.linear = nn.Linear(784, 10, bias=False)\n",
        "\n",
        "    def forward(self, x):\n",
        "        x = x.view(-1, 784)\n",
        "        return self.linear(x)\n",
        "\n",
        "def train_mnist_lr(dataloader, seed, epochs):\n",
        "    torch.manual_seed(seed)\n",
        "    np.random.seed(seed)\n",
        "    random.seed(seed)\n",
        "\n",
        "    model = LogReg()\n",
        "    loss_fn = nn.CrossEntropyLoss()\n",
        "    optimizer = optim.SGD(model.parameters(), lr=0.01, weight_decay=0.01)\n",
        "\n",
        "    model.train()\n",
        "    for epoch in range(epochs):\n",
        "        epoch_loss = 0.0\n",
        "        for inputs, labels in dataloader:\n",
        "            optimizer.zero_grad()\n",
        "            outputs = model(inputs)\n",
        "            loss = loss_fn(outputs, labels)\n",
        "            epoch_loss += loss.item()\n",
        "            loss.backward()\n",
        "            optimizer.step()\n",
        "        print(\"Epoch \" + str(epoch) + \" loss: \" + str(epoch_loss / len(dataloader)))\n",
        "\n",
        "    return model"
      ],
      "metadata": {
        "id": "v7_qbWummP8V"
      },
      "execution_count": 5,
      "outputs": []
    },
    {
      "cell_type": "code",
      "source": [
        "model = train_mnist_lr(train_loader, 42, 20)"
      ],
      "metadata": {
        "colab": {
          "base_uri": "https://localhost:8080/"
        },
        "id": "ByX90QZ2mgyp",
        "outputId": "65b4c56f-b7ef-4299-d78c-0a3ca25e8495"
      },
      "execution_count": 6,
      "outputs": [
        {
          "output_type": "stream",
          "name": "stdout",
          "text": [
            "Epoch 0 loss: 1.9264041543006898\n",
            "Epoch 1 loss: 1.3512792348861695\n",
            "Epoch 2 loss: 1.081665849685669\n",
            "Epoch 3 loss: 0.928858506679535\n",
            "Epoch 4 loss: 0.83067786693573\n",
            "Epoch 5 loss: 0.7620778501033783\n",
            "Epoch 6 loss: 0.7112449944019318\n",
            "Epoch 7 loss: 0.6719158351421356\n",
            "Epoch 8 loss: 0.6404694080352783\n",
            "Epoch 9 loss: 0.6146686613559723\n",
            "Epoch 10 loss: 0.593056857585907\n",
            "Epoch 11 loss: 0.5746440947055816\n",
            "Epoch 12 loss: 0.5587335228919983\n",
            "Epoch 13 loss: 0.5448199689388276\n",
            "Epoch 14 loss: 0.5325279772281647\n",
            "Epoch 15 loss: 0.5215720772743225\n",
            "Epoch 16 loss: 0.5117315530776978\n",
            "Epoch 17 loss: 0.5028326749801636\n",
            "Epoch 18 loss: 0.4947367489337921\n",
            "Epoch 19 loss: 0.4873316675424576\n"
          ]
        }
      ]
    },
    {
      "cell_type": "code",
      "source": [
        "wrongly_classified_indices = []\n",
        "\n",
        "model.eval()\n",
        "num_correct = 0\n",
        "for i in range(len(test_subset)):\n",
        "    input, label = test_subset[i]\n",
        "    output = model(input)\n",
        "    if torch.argmax(output) != label:\n",
        "        wrongly_classified_indices.append(i)\n",
        "    else:\n",
        "      num_correct += 1\n",
        "print(\"Test set accuracy: \" + str(num_correct / len(test_subset)) + \" (\" + str(num_correct) + \"/\" + str(len(test_subset)) + \")\")"
      ],
      "metadata": {
        "colab": {
          "base_uri": "https://localhost:8080/"
        },
        "id": "yo7vJNRHmxBC",
        "outputId": "341797f2-f3e2-4bf1-dbab-3e769a56b779"
      },
      "execution_count": 7,
      "outputs": [
        {
          "output_type": "stream",
          "name": "stdout",
          "text": [
            "Test set accuracy: 0.91 (91/100)\n"
          ]
        }
      ]
    },
    {
      "cell_type": "code",
      "source": [
        "random.seed(42)\n",
        "model.eval()\n",
        "z_idx = wrongly_classified_indices[random.randint(0, len(wrongly_classified_indices)-1)]\n",
        "z_input, z_label = test_subset[z_idx]\n",
        "prediction = torch.argmax(model(z_input))\n",
        "print(\"z_label: \" + str(z_label))\n",
        "print(\"prediction: \" + str(prediction))\n",
        "show_image(z_idx, dataset='test')"
      ],
      "metadata": {
        "colab": {
          "base_uri": "https://localhost:8080/",
          "height": 465
        },
        "id": "JNihkjHUm5Dm",
        "outputId": "5b30847c-9743-4c03-a5b1-c9a946b91527"
      },
      "execution_count": 11,
      "outputs": [
        {
          "output_type": "stream",
          "name": "stdout",
          "text": [
            "z_label: 9\n",
            "prediction: tensor(7)\n"
          ]
        },
        {
          "output_type": "display_data",
          "data": {
            "text/plain": [
              "<Figure size 640x480 with 1 Axes>"
            ],
            "image/png": "[encoded data removed]"
          },
          "metadata": {}
        }
      ]
    },
    {
      "cell_type": "code",
      "source": [
        "def compute_gradient(my_model, input, label):\n",
        "    ''' returns a Tensor representing the gradient of the loss\n",
        "        wrt the model parameters (7840)'''\n",
        "    my_model.eval()\n",
        "    output = my_model(input)\n",
        "    loss_fn = nn.CrossEntropyLoss()\n",
        "    loss = loss_fn(output, torch.tensor([label], dtype=torch.long))\n",
        "    grad_vector = torch.autograd.grad(loss, my_model.parameters(), create_graph=True)\n",
        "    return grad_vector[0].view(-1)\n",
        "\n",
        "def compute_hvp(my_model, input, label, v):\n",
        "    grad = compute_gradient(my_model, input, label)\n",
        "    grad_v_product = torch.dot(grad, v)\n",
        "    hvp = torch.autograd.grad(grad_v_product, my_model.parameters(), retain_graph=True)\n",
        "    return hvp[0].view(-1)\n",
        "\n",
        "def compute_s_test(my_model, training_set, z_input, z_label, recursion_depth=1000,\n",
        "                   num_repeats=10, scale=100, damp=0.01):\n",
        "    my_model.eval()\n",
        "    v = compute_gradient(model, z_input, z_label) # shape==[7840]\n",
        "    s_test = None\n",
        "\n",
        "    for i in range(num_repeats):\n",
        "        print(\"Repeat \" + str(i))\n",
        "        cur_estimate = v.clone()\n",
        "        for j in range(recursion_depth):\n",
        "            train_idx = random.randint(0, len(training_set)-1)\n",
        "            input, label = training_set[train_idx]\n",
        "\n",
        "            hvp = compute_hvp(my_model, input, label, cur_estimate)\n",
        "            hvp = hvp.detach()\n",
        "\n",
        "            cur_estimate = v + (1 - damp) * cur_estimate - hvp / scale\n",
        "\n",
        "            cur_estimate = cur_estimate.detach()\n",
        "\n",
        "            if j % 100 == 0:\n",
        "              print(\"Iteration \" + str(j))\n",
        "              print(\"Norm of cur_estimate: \" + str(torch.norm(cur_estimate)))\n",
        "\n",
        "        if s_test is None:\n",
        "            s_test = cur_estimate / scale\n",
        "        else:\n",
        "            s_test += (cur_estimate / scale)\n",
        "\n",
        "    return s_test / num_repeats"
      ],
      "metadata": {
        "id": "4iFG_v49nDu1"
      },
      "execution_count": 20,
      "outputs": []
    },
    {
      "cell_type": "code",
      "source": [
        "torch.manual_seed(42)\n",
        "np.random.seed(42)\n",
        "random.seed(42)\n",
        "s_test = compute_s_test(model, train_subset, z_input, z_label)"
      ],
      "metadata": {
        "colab": {
          "base_uri": "https://localhost:8080/"
        },
        "id": "bBZ9tm2FokxB",
        "outputId": "953d55d7-1a8d-4ede-925e-30372a867063"
      },
      "execution_count": 21,
      "outputs": [
        {
          "output_type": "stream",
          "name": "stdout",
          "text": [
            "Repeat 0\n",
            "Iteration 0\n",
            "Norm of cur_estimate: tensor(58.5807)\n",
            "Iteration 100\n",
            "Norm of cur_estimate: tensor(1605.7977)\n",
            "Iteration 200\n",
            "Norm of cur_estimate: tensor(2036.2773)\n",
            "Iteration 300\n",
            "Norm of cur_estimate: tensor(2238.8843)\n",
            "Iteration 400\n",
            "Norm of cur_estimate: tensor(2245.0750)\n",
            "Iteration 500\n",
            "Norm of cur_estimate: tensor(1893.2063)\n",
            "Iteration 600\n",
            "Norm of cur_estimate: tensor(2206.6213)\n",
            "Iteration 700\n",
            "Norm of cur_estimate: tensor(2238.3320)\n",
            "Iteration 800\n",
            "Norm of cur_estimate: tensor(2272.7551)\n",
            "Iteration 900\n",
            "Norm of cur_estimate: tensor(2073.0115)\n",
            "Repeat 1\n",
            "Iteration 0\n",
            "Norm of cur_estimate: tensor(58.6831)\n",
            "Iteration 100\n",
            "Norm of cur_estimate: tensor(1535.1434)\n",
            "Iteration 200\n",
            "Norm of cur_estimate: tensor(1997.2250)\n",
            "Iteration 300\n",
            "Norm of cur_estimate: tensor(2074.8386)\n",
            "Iteration 400\n",
            "Norm of cur_estimate: tensor(1900.1631)\n",
            "Iteration 500\n",
            "Norm of cur_estimate: tensor(2084.7068)\n",
            "Iteration 600\n",
            "Norm of cur_estimate: tensor(1969.6156)\n",
            "Iteration 700\n",
            "Norm of cur_estimate: tensor(2118.3206)\n",
            "Iteration 800\n",
            "Norm of cur_estimate: tensor(2258.7690)\n",
            "Iteration 900\n",
            "Norm of cur_estimate: tensor(2076.2727)\n",
            "Repeat 2\n",
            "Iteration 0\n",
            "Norm of cur_estimate: tensor(58.0651)\n",
            "Iteration 100\n",
            "Norm of cur_estimate: tensor(1567.9139)\n",
            "Iteration 200\n",
            "Norm of cur_estimate: tensor(2131.0603)\n",
            "Iteration 300\n",
            "Norm of cur_estimate: tensor(2167.0310)\n",
            "Iteration 400\n",
            "Norm of cur_estimate: tensor(2316.4431)\n",
            "Iteration 500\n",
            "Norm of cur_estimate: tensor(2239.5510)\n",
            "Iteration 600\n",
            "Norm of cur_estimate: tensor(2318.7317)\n",
            "Iteration 700\n",
            "Norm of cur_estimate: tensor(2219.6177)\n",
            "Iteration 800\n",
            "Norm of cur_estimate: tensor(2138.4460)\n",
            "Iteration 900\n",
            "Norm of cur_estimate: tensor(1983.9581)\n",
            "Repeat 3\n",
            "Iteration 0\n",
            "Norm of cur_estimate: tensor(58.6235)\n",
            "Iteration 100\n",
            "Norm of cur_estimate: tensor(1668.4584)\n",
            "Iteration 200\n",
            "Norm of cur_estimate: tensor(2081.7209)\n",
            "Iteration 300\n",
            "Norm of cur_estimate: tensor(2227.8005)\n",
            "Iteration 400\n",
            "Norm of cur_estimate: tensor(1973.3512)\n",
            "Iteration 500\n",
            "Norm of cur_estimate: tensor(2047.3120)\n",
            "Iteration 600\n",
            "Norm of cur_estimate: tensor(2244.4294)\n",
            "Iteration 700\n",
            "Norm of cur_estimate: tensor(2266.5193)\n",
            "Iteration 800\n",
            "Norm of cur_estimate: tensor(2257.9001)\n",
            "Iteration 900\n",
            "Norm of cur_estimate: tensor(2196.0151)\n",
            "Repeat 4\n",
            "Iteration 0\n",
            "Norm of cur_estimate: tensor(60.7147)\n",
            "Iteration 100\n",
            "Norm of cur_estimate: tensor(1569.3243)\n",
            "Iteration 200\n",
            "Norm of cur_estimate: tensor(1797.8878)\n",
            "Iteration 300\n",
            "Norm of cur_estimate: tensor(2050.4529)\n",
            "Iteration 400\n",
            "Norm of cur_estimate: tensor(2200.6831)\n",
            "Iteration 500\n",
            "Norm of cur_estimate: tensor(2178.0520)\n",
            "Iteration 600\n",
            "Norm of cur_estimate: tensor(2277.6650)\n",
            "Iteration 700\n",
            "Norm of cur_estimate: tensor(2249.2524)\n",
            "Iteration 800\n",
            "Norm of cur_estimate: tensor(2123.8987)\n",
            "Iteration 900\n",
            "Norm of cur_estimate: tensor(2052.1660)\n",
            "Repeat 5\n",
            "Iteration 0\n",
            "Norm of cur_estimate: tensor(58.6324)\n",
            "Iteration 100\n",
            "Norm of cur_estimate: tensor(1525.0656)\n",
            "Iteration 200\n",
            "Norm of cur_estimate: tensor(1867.9810)\n",
            "Iteration 300\n",
            "Norm of cur_estimate: tensor(2021.6420)\n",
            "Iteration 400\n",
            "Norm of cur_estimate: tensor(2219.2180)\n",
            "Iteration 500\n",
            "Norm of cur_estimate: tensor(2192.4517)\n",
            "Iteration 600\n",
            "Norm of cur_estimate: tensor(2212.5798)\n",
            "Iteration 700\n",
            "Norm of cur_estimate: tensor(2294.8721)\n",
            "Iteration 800\n",
            "Norm of cur_estimate: tensor(2291.0630)\n",
            "Iteration 900\n",
            "Norm of cur_estimate: tensor(2265.0300)\n",
            "Repeat 6\n",
            "Iteration 0\n",
            "Norm of cur_estimate: tensor(58.6859)\n",
            "Iteration 100\n",
            "Norm of cur_estimate: tensor(1587.9467)\n",
            "Iteration 200\n",
            "Norm of cur_estimate: tensor(2150.5232)\n",
            "Iteration 300\n",
            "Norm of cur_estimate: tensor(2056.2402)\n",
            "Iteration 400\n",
            "Norm of cur_estimate: tensor(2174.2876)\n",
            "Iteration 500\n",
            "Norm of cur_estimate: tensor(2322.6655)\n",
            "Iteration 600\n",
            "Norm of cur_estimate: tensor(2153.7815)\n",
            "Iteration 700\n",
            "Norm of cur_estimate: tensor(2160.3069)\n",
            "Iteration 800\n",
            "Norm of cur_estimate: tensor(2188.8389)\n",
            "Iteration 900\n",
            "Norm of cur_estimate: tensor(2119.2385)\n",
            "Repeat 7\n",
            "Iteration 0\n",
            "Norm of cur_estimate: tensor(57.6315)\n",
            "Iteration 100\n",
            "Norm of cur_estimate: tensor(1669.2981)\n",
            "Iteration 200\n",
            "Norm of cur_estimate: tensor(1981.8462)\n",
            "Iteration 300\n",
            "Norm of cur_estimate: tensor(2077.6790)\n",
            "Iteration 400\n",
            "Norm of cur_estimate: tensor(2240.8899)\n",
            "Iteration 500\n",
            "Norm of cur_estimate: tensor(2811.5906)\n",
            "Iteration 600\n",
            "Norm of cur_estimate: tensor(2297.3337)\n",
            "Iteration 700\n",
            "Norm of cur_estimate: tensor(2577.9299)\n",
            "Iteration 800\n",
            "Norm of cur_estimate: tensor(2259.0115)\n",
            "Iteration 900\n",
            "Norm of cur_estimate: tensor(2317.8545)\n",
            "Repeat 8\n",
            "Iteration 0\n",
            "Norm of cur_estimate: tensor(58.5376)\n",
            "Iteration 100\n",
            "Norm of cur_estimate: tensor(1606.8987)\n",
            "Iteration 200\n",
            "Norm of cur_estimate: tensor(2094.6047)\n",
            "Iteration 300\n",
            "Norm of cur_estimate: tensor(2215.3911)\n",
            "Iteration 400\n",
            "Norm of cur_estimate: tensor(2067.7947)\n",
            "Iteration 500\n",
            "Norm of cur_estimate: tensor(2072.3943)\n",
            "Iteration 600\n",
            "Norm of cur_estimate: tensor(2194.7466)\n",
            "Iteration 700\n",
            "Norm of cur_estimate: tensor(2102.5723)\n",
            "Iteration 800\n",
            "Norm of cur_estimate: tensor(2188.5293)\n",
            "Iteration 900\n",
            "Norm of cur_estimate: tensor(2184.0637)\n",
            "Repeat 9\n",
            "Iteration 0\n",
            "Norm of cur_estimate: tensor(58.5500)\n",
            "Iteration 100\n",
            "Norm of cur_estimate: tensor(1629.7513)\n",
            "Iteration 200\n",
            "Norm of cur_estimate: tensor(1810.7380)\n",
            "Iteration 300\n",
            "Norm of cur_estimate: tensor(1995.1428)\n",
            "Iteration 400\n",
            "Norm of cur_estimate: tensor(2089.9009)\n",
            "Iteration 500\n",
            "Norm of cur_estimate: tensor(2193.6538)\n",
            "Iteration 600\n",
            "Norm of cur_estimate: tensor(2193.7820)\n",
            "Iteration 700\n",
            "Norm of cur_estimate: tensor(2240.9033)\n",
            "Iteration 800\n",
            "Norm of cur_estimate: tensor(2308.2173)\n",
            "Iteration 900\n",
            "Norm of cur_estimate: tensor(2411.1379)\n"
          ]
        }
      ]
    },
    {
      "cell_type": "code",
      "source": [
        "def compute_influence(my_model, training_set, s_test):\n",
        "    my_model.eval()\n",
        "    influence_scores = {}\n",
        "    for i in range(len(training_set)):\n",
        "        input, label = training_set[i]\n",
        "        grads = compute_gradient(model, input, label)\n",
        "        influence_scores[i] = -1 * (torch.dot(grads, s_test).item())\n",
        "    return influence_scores\n",
        "\n",
        "influence_scores = compute_influence(model, train_subset, s_test)"
      ],
      "metadata": {
        "id": "rOOR5DAmovTb"
      },
      "execution_count": 22,
      "outputs": []
    },
    {
      "cell_type": "code",
      "source": [
        "def select_top_influential_points(influence_scores, top_n=500):\n",
        "    # Sort the dictionary by the absolute value of the influence scores in descending order\n",
        "    sorted_influences = sorted(influence_scores.items(), key=lambda item: abs(item[1]), reverse=True)\n",
        "\n",
        "    # Select the top N most influential points\n",
        "    top_influential_dict = dict(sorted_influences[:top_n])\n",
        "\n",
        "    return top_influential_dict\n",
        "\n",
        "top_influential_dict = select_top_influential_points(influence_scores, 50)\n",
        "print(top_influential_dict)"
      ],
      "metadata": {
        "colab": {
          "base_uri": "https://localhost:8080/"
        },
        "id": "T4tYe0FRpb71",
        "outputId": "f6f15811-1849-4998-a29e-b361c07c1cd0"
      },
      "execution_count": 23,
      "outputs": [
        {
          "output_type": "stream",
          "name": "stdout",
          "text": [
            "{5967: -341.27545166015625, 7603: -298.6144714355469, 2447: -256.7047119140625, 3708: -236.0272674560547, 7382: -233.33685302734375, 9497: -229.86166381835938, 5013: -229.18020629882812, 6524: -224.89715576171875, 1078: -221.08145141601562, 8674: -212.8681182861328, 2848: -198.59710693359375, 7111: -193.3084716796875, 1306: -189.207275390625, 348: -179.60508728027344, 7610: -177.8206787109375, 6815: -177.52268981933594, 1388: -171.8701171875, 5535: -170.36119079589844, 2912: -168.1494140625, 1215: -167.17530822753906, 5360: -163.7813720703125, 9569: -158.24014282226562, 1345: -151.54605102539062, 215: -145.5293426513672, 9337: -144.87228393554688, 1390: -140.00692749023438, 8922: -135.49374389648438, 6945: -129.4011688232422, 9048: -128.9105224609375, 8356: -123.71358489990234, 6163: -123.68424987792969, 8338: -120.88836669921875, 8698: -116.91468811035156, 8666: -112.71609497070312, 3024: 110.97483825683594, 6267: -109.35186767578125, 8305: 107.69244384765625, 7877: -105.63428497314453, 3304: -105.13102722167969, 3177: -99.62515258789062, 8450: -99.34707641601562, 1392: -99.30189514160156, 472: -98.1134033203125, 1643: -96.90525817871094, 3176: 92.07357025146484, 1383: -90.83476257324219, 8741: -89.15095520019531, 1153: -86.03048706054688, 194: 83.90374755859375, 3630: -82.91905212402344}\n"
          ]
        }
      ]
    },
    {
      "cell_type": "code",
      "source": [
        "def show_images(indices, num):\n",
        "    ''' show an image with matplotlib '''\n",
        "    fig, axs = plt.subplots(1, num);\n",
        "    imgs = []\n",
        "    for i in range(num):\n",
        "      imgs.append(train_subset[indices[i]][0].numpy().reshape(28, 28))\n",
        "    for i in range(num):\n",
        "      axs[i].imshow(imgs[i], cmap='gray')\n",
        "      axs[i].set_title(str(indices[i]))\n",
        "\n",
        "show_images(list(top_influential_dict.keys()), 5)"
      ],
      "metadata": {
        "colab": {
          "base_uri": "https://localhost:8080/",
          "height": 168
        },
        "id": "5XweXYAcphmP",
        "outputId": "f2b3bb47-7473-430e-c5b7-5df1dc8805fe"
      },
      "execution_count": 24,
      "outputs": [
        {
          "output_type": "display_data",
          "data": {
            "text/plain": [
              "<Figure size 640x480 with 5 Axes>"
            ],
            "image/png": "[encoded data removed]"
          },
          "metadata": {}
        }
      ]
    },
    {
      "cell_type": "code",
      "source": [
        "show_image(3024)"
      ],
      "metadata": {
        "colab": {
          "base_uri": "https://localhost:8080/",
          "height": 430
        },
        "id": "ufux1c5eFWOq",
        "outputId": "8402a8d7-baf6-4c15-a05d-53f8d22fafb6"
      },
      "execution_count": 25,
      "outputs": [
        {
          "output_type": "display_data",
          "data": {
            "text/plain": [
              "<Figure size 640x480 with 1 Axes>"
            ],
            "image/png": "[encoded data removed]"
          },
          "metadata": {}
        }
      ]
    },
    {
      "cell_type": "code",
      "source": [
        "torch.save(model.state_dict(), 'model_params.pth')"
      ],
      "metadata": {
        "id": "CPtYU3oJyQly"
      },
      "execution_count": 43,
      "outputs": []
    },
    {
      "cell_type": "code",
      "source": [
        "def verify_influence_score(idx, epochs):\n",
        "  torch.manual_seed(42)\n",
        "  np.random.seed(42)\n",
        "  random.seed(42)\n",
        "\n",
        "  model.eval()\n",
        "  loss_fn = nn.CrossEntropyLoss()\n",
        "  initial_loss = loss_fn(model(z_input), torch.tensor([z_label])).item()\n",
        "\n",
        "  new_model = LogReg()\n",
        "  new_model.load_state_dict(torch.load('model_params.pth'))\n",
        "  new_model.eval()\n",
        "\n",
        "  new_subset = Subset(train_subset, [i for i in range(len(train_subset)) if i != idx])\n",
        "  new_loader = DataLoader(new_subset, batch_size=64, shuffle=True)\n",
        "  new_optimizer = optim.SGD(new_model.parameters(), lr=0.0001, weight_decay=0.01)\n",
        "\n",
        "  for epoch in range(epochs):\n",
        "    new_model.train()\n",
        "    for inputs, labels in new_loader:\n",
        "      new_optimizer.zero_grad()\n",
        "      outputs = new_model(inputs)\n",
        "      loss = loss_fn(outputs, labels)\n",
        "      loss.backward()\n",
        "      new_optimizer.step()\n",
        "    new_model.eval()\n",
        "    curr_loss = loss_fn(new_model(z_input), torch.tensor([z_label])).item()\n",
        "    print(\"Epoch \" + str(epoch) + \" new - old: \" + str(curr_loss - initial_loss))\n",
        "\n",
        "  new_loss = loss_fn(new_model(z_input), torch.tensor([z_label])).item()\n",
        "\n",
        "  print(\"Initial loss: \" + str(initial_loss))\n",
        "  print(\"New loss: \" + str(new_loss))\n",
        "  return new_loss - initial_loss"
      ],
      "metadata": {
        "id": "BkmKj_2Ep1bu"
      },
      "execution_count": 46,
      "outputs": []
    },
    {
      "cell_type": "code",
      "source": [
        "ret = verify_influence_score(5967, 10) # [0.001]"
      ],
      "metadata": {
        "colab": {
          "base_uri": "https://localhost:8080/"
        },
        "id": "gNWTDGCfxSxz",
        "outputId": "f1c7e9d4-329c-4343-ac52-134130c7d0c4"
      },
      "execution_count": 48,
      "outputs": [
        {
          "output_type": "stream",
          "name": "stderr",
          "text": [
            "<ipython-input-46-b7a72020fa7b>:11: FutureWarning: You are using `torch.load` with `weights_only=False` (the current default value), which uses the default pickle module implicitly. It is possible to construct malicious pickle data which will execute arbitrary code during unpickling (See https://github.com/pytorch/pytorch/blob/main/SECURITY.md#untrusted-models for more details). In a future release, the default value for `weights_only` will be flipped to `True`. This limits the functions that could be executed during unpickling. Arbitrary objects will no longer be allowed to be loaded via this mode unless they are explicitly allowlisted by the user via `torch.serialization.add_safe_globals`. We recommend you start setting `weights_only=True` for any use case where you don't have full control of the loaded file. Please open an issue on GitHub for any issues related to this experimental feature.\n",
            "  new_model.load_state_dict(torch.load('model_params.pth'))\n"
          ]
        },
        {
          "output_type": "stream",
          "name": "stdout",
          "text": [
            "Epoch 0 new - old: -2.9802322387695312e-05\n",
            "Epoch 1 new - old: -0.001232147216796875\n",
            "Epoch 2 new - old: -0.0047206878662109375\n",
            "Epoch 3 new - old: -0.006493806838989258\n",
            "Epoch 4 new - old: -0.008824348449707031\n",
            "Epoch 5 new - old: -0.010685205459594727\n",
            "Epoch 6 new - old: -0.012551069259643555\n",
            "Epoch 7 new - old: -0.014585256576538086\n",
            "Epoch 8 new - old: -0.01703500747680664\n",
            "Epoch 9 new - old: -0.018017292022705078\n",
            "Initial loss: 2.077019453048706\n",
            "New loss: 2.059002161026001\n"
          ]
        }
      ]
    },
    {
      "cell_type": "code",
      "source": [
        "!git clone https://github.com/TRAIS-Lab/dattri"
      ],
      "metadata": {
        "colab": {
          "base_uri": "https://localhost:8080/"
        },
        "id": "qdKYYiwp0nCU",
        "outputId": "0b9b2d34-8354-40b0-a691-42441ff3473f"
      },
      "execution_count": 27,
      "outputs": [
        {
          "output_type": "stream",
          "name": "stdout",
          "text": [
            "Cloning into 'dattri'...\n",
            "remote: Enumerating objects: 1853, done.\u001b[K\n",
            "remote: Counting objects: 100% (723/723), done.\u001b[K\n",
            "remote: Compressing objects: 100% (530/530), done.\u001b[K\n",
            "remote: Total 1853 (delta 469), reused 193 (delta 193), pack-reused 1130 (from 1)\u001b[K\n",
            "Receiving objects: 100% (1853/1853), 3.78 MiB | 14.19 MiB/s, done.\n",
            "Resolving deltas: 100% (939/939), done.\n"
          ]
        }
      ]
    },
    {
      "cell_type": "code",
      "source": [
        "%cd dattri"
      ],
      "metadata": {
        "colab": {
          "base_uri": "https://localhost:8080/"
        },
        "id": "15T6knqB8s_5",
        "outputId": "1f1dac5d-5111-4b77-c2f0-59c8fbbb8229"
      },
      "execution_count": 28,
      "outputs": [
        {
          "output_type": "stream",
          "name": "stdout",
          "text": [
            "/content/dattri\n"
          ]
        }
      ]
    },
    {
      "cell_type": "code",
      "source": [
        "!pip install -e ."
      ],
      "metadata": {
        "colab": {
          "base_uri": "https://localhost:8080/"
        },
        "id": "_caHY2t680bl",
        "outputId": "73590b8f-47c1-485f-eee7-064c4a6700e6"
      },
      "execution_count": 29,
      "outputs": [
        {
          "output_type": "stream",
          "name": "stdout",
          "text": [
            "Obtaining file:///content/dattri\n",
            "  Installing build dependencies ... \u001b[?25l\u001b[?25hdone\n",
            "  Checking if build backend supports build_editable ... \u001b[?25l\u001b[?25hdone\n",
            "  Getting requirements to build editable ... \u001b[?25l\u001b[?25hdone\n",
            "  Preparing editable metadata (pyproject.toml) ... \u001b[?25l\u001b[?25hdone\n",
            "Requirement already satisfied: numpy>=1.25 in /usr/local/lib/python3.10/dist-packages (from dattri==0.0.1.dev0) (1.26.4)\n",
            "Requirement already satisfied: scipy>=1.11 in /usr/local/lib/python3.10/dist-packages (from dattri==0.0.1.dev0) (1.13.1)\n",
            "Requirement already satisfied: pyyaml in /usr/local/lib/python3.10/dist-packages (from dattri==0.0.1.dev0) (6.0.2)\n",
            "Building wheels for collected packages: dattri\n",
            "  Building editable for dattri (pyproject.toml) ... \u001b[?25l\u001b[?25hdone\n",
            "  Created wheel for dattri: filename=dattri-0.0.1.dev0-0.editable-py3-none-any.whl size=8070 sha256=597a396be54baf2cea73c866e7f3b7426449cb3e9ab56ab2479c5c1f9244ab29\n",
            "  Stored in directory: /tmp/pip-ephem-wheel-cache-86i_aagl/wheels/11/81/48/6368c1bdb7b3c8f78e7ff6b69997b067b0c1d7454a72265ece\n",
            "Successfully built dattri\n",
            "Installing collected packages: dattri\n",
            "Successfully installed dattri-0.0.1.dev0\n"
          ]
        }
      ]
    },
    {
      "cell_type": "code",
      "source": [
        "from dattri.algorithm import IFAttributorCG\n",
        "from dattri.task import AttributionTask"
      ],
      "metadata": {
        "id": "UiaDmGKC9N33"
      },
      "execution_count": 30,
      "outputs": []
    },
    {
      "cell_type": "code",
      "source": [
        "def f(params, data_target_pair):\n",
        "    x, y = data_target_pair\n",
        "    loss = nn.CrossEntropyLoss()\n",
        "    yhat = torch.func.functional_call(model, params, x)\n",
        "    return loss(yhat, y)\n",
        "\n",
        "task = AttributionTask(loss_func=f,\n",
        "                       model=model,\n",
        "                       checkpoints=model.state_dict())\n",
        "\n",
        "attributor = IFAttributorCG(\n",
        "    task=task,\n",
        "    max_iter=10,\n",
        "    regularization=1e-2\n",
        ")\n",
        "\n",
        "attributor.cache(train_loader)\n",
        "with torch.no_grad():\n",
        "    score = attributor.attribute(train_loader, test_loader)"
      ],
      "metadata": {
        "colab": {
          "base_uri": "https://localhost:8080/"
        },
        "id": "FalNgEnz8-1d",
        "outputId": "c5e6d6b7-4966-45a7-87f0-a8d78208636e"
      },
      "execution_count": 31,
      "outputs": [
        {
          "output_type": "stream",
          "name": "stderr",
          "text": [
            "calculating gradient of training set...:   0%|          | 0/10 [00:00<?, ?it/s]\n",
            "calculating gradient of test set...:   0%|          | 0/1 [00:00<?, ?it/s]\u001b[A\n",
            "calculating gradient of test set...: 100%|██████████| 1/1 [00:23<00:00, 23.18s/it]\u001b[A\n",
            "calculating gradient of training set...:  10%|█         | 1/10 [00:24<03:36, 24.06s/it]\n",
            "calculating gradient of test set...:   0%|          | 0/1 [00:00<?, ?it/s]\u001b[A\n",
            "calculating gradient of test set...: 100%|██████████| 1/1 [00:18<00:00, 18.14s/it]\u001b[A\n",
            "calculating gradient of training set...:  20%|██        | 2/10 [00:42<02:46, 20.86s/it]\n",
            "calculating gradient of test set...:   0%|          | 0/1 [00:00<?, ?it/s]\u001b[A\n",
            "calculating gradient of test set...: 100%|██████████| 1/1 [00:17<00:00, 17.41s/it]\u001b[A\n",
            "calculating gradient of training set...:  30%|███       | 3/10 [01:00<02:16, 19.43s/it]\n",
            "calculating gradient of test set...:   0%|          | 0/1 [00:00<?, ?it/s]\u001b[A\n",
            "calculating gradient of test set...: 100%|██████████| 1/1 [00:18<00:00, 18.05s/it]\u001b[A\n",
            "calculating gradient of training set...:  40%|████      | 4/10 [01:18<01:54, 19.01s/it]\n",
            "calculating gradient of test set...:   0%|          | 0/1 [00:00<?, ?it/s]\u001b[A\n",
            "calculating gradient of test set...: 100%|██████████| 1/1 [00:18<00:00, 18.07s/it]\u001b[A\n",
            "calculating gradient of training set...:  50%|█████     | 5/10 [01:37<01:34, 18.82s/it]\n",
            "calculating gradient of test set...:   0%|          | 0/1 [00:00<?, ?it/s]\u001b[A\n",
            "calculating gradient of test set...: 100%|██████████| 1/1 [00:19<00:00, 19.08s/it]\u001b[A\n",
            "calculating gradient of training set...:  60%|██████    | 6/10 [01:56<01:16, 19.01s/it]\n",
            "calculating gradient of test set...:   0%|          | 0/1 [00:00<?, ?it/s]\u001b[A\n",
            "calculating gradient of test set...: 100%|██████████| 1/1 [00:18<00:00, 18.68s/it]\u001b[A\n",
            "calculating gradient of training set...:  70%|███████   | 7/10 [02:15<00:57, 19.00s/it]\n",
            "calculating gradient of test set...:   0%|          | 0/1 [00:00<?, ?it/s]\u001b[A\n",
            "calculating gradient of test set...: 100%|██████████| 1/1 [00:17<00:00, 17.45s/it]\u001b[A\n",
            "calculating gradient of training set...:  80%|████████  | 8/10 [02:33<00:37, 18.60s/it]\n",
            "calculating gradient of test set...:   0%|          | 0/1 [00:00<?, ?it/s]\u001b[A\n",
            "calculating gradient of test set...: 100%|██████████| 1/1 [00:17<00:00, 17.46s/it]\u001b[A\n",
            "calculating gradient of training set...:  90%|█████████ | 9/10 [02:51<00:18, 18.35s/it]\n",
            "calculating gradient of test set...:   0%|          | 0/1 [00:00<?, ?it/s]\u001b[A\n",
            "calculating gradient of test set...: 100%|██████████| 1/1 [00:18<00:00, 18.59s/it]\u001b[A\n"
          ]
        }
      ]
    },
    {
      "cell_type": "code",
      "source": [
        "print(z_idx)\n",
        "print(score.shape)"
      ],
      "metadata": {
        "colab": {
          "base_uri": "https://localhost:8080/"
        },
        "id": "3q_XSrfqBLfR",
        "outputId": "8900f2ee-a881-4ea9-a998-ed22493ea6a8"
      },
      "execution_count": 32,
      "outputs": [
        {
          "output_type": "stream",
          "name": "stdout",
          "text": [
            "26\n",
            "torch.Size([10000, 100])\n"
          ]
        }
      ]
    },
    {
      "cell_type": "code",
      "source": [
        "# show the 7th col of score\n",
        "actual_scores = score[:, 26]"
      ],
      "metadata": {
        "id": "arNAI8cGBMVh"
      },
      "execution_count": 33,
      "outputs": []
    },
    {
      "cell_type": "code",
      "source": [
        "print(actual_scores.shape)"
      ],
      "metadata": {
        "colab": {
          "base_uri": "https://localhost:8080/"
        },
        "id": "T0hvh7T-CgIm",
        "outputId": "766a157f-9054-474e-9819-2896e93a8d60"
      },
      "execution_count": 34,
      "outputs": [
        {
          "output_type": "stream",
          "name": "stdout",
          "text": [
            "torch.Size([10000])\n"
          ]
        }
      ]
    },
    {
      "cell_type": "code",
      "source": [
        "actual_influence = {}\n",
        "for i in range(len(train_subset)):\n",
        "  actual_influence[i] = actual_scores[i].item()"
      ],
      "metadata": {
        "id": "SbfmZS1PC4tN"
      },
      "execution_count": 35,
      "outputs": []
    },
    {
      "cell_type": "code",
      "source": [
        "print(actual_influence[3024])"
      ],
      "metadata": {
        "colab": {
          "base_uri": "https://localhost:8080/"
        },
        "id": "Dy5Z61rHDC1Z",
        "outputId": "28edb4c2-aad6-43e7-82c7-44ac4aac5271"
      },
      "execution_count": 37,
      "outputs": [
        {
          "output_type": "stream",
          "name": "stdout",
          "text": [
            "-5266.9140625\n"
          ]
        }
      ]
    },
    {
      "cell_type": "code",
      "source": [
        "print(actual_influence[5967])"
      ],
      "metadata": {
        "colab": {
          "base_uri": "https://localhost:8080/"
        },
        "id": "b6L6BP37G13d",
        "outputId": "72b8b9d3-cdbe-42be-ae80-3c3438a6f875"
      },
      "execution_count": 38,
      "outputs": [
        {
          "output_type": "stream",
          "name": "stdout",
          "text": [
            "21765.646484375\n"
          ]
        }
      ]
    },
    {
      "cell_type": "code",
      "source": [
        "print(actual_influence[7603])"
      ],
      "metadata": {
        "colab": {
          "base_uri": "https://localhost:8080/"
        },
        "id": "wDADa3X0JcBT",
        "outputId": "87218223-ee3e-41a6-d3b3-5c50125e7042"
      },
      "execution_count": 39,
      "outputs": [
        {
          "output_type": "stream",
          "name": "stdout",
          "text": [
            "22016.12890625\n"
          ]
        }
      ]
    },
    {
      "cell_type": "code",
      "source": [
        "print(actual_influence[2447])"
      ],
      "metadata": {
        "colab": {
          "base_uri": "https://localhost:8080/"
        },
        "id": "IpYU8Y8aJfMK",
        "outputId": "64db08e7-9407-4cb2-89e8-1f85eddeb577"
      },
      "execution_count": 40,
      "outputs": [
        {
          "output_type": "stream",
          "name": "stdout",
          "text": [
            "12532.810546875\n"
          ]
        }
      ]
    },
    {
      "cell_type": "code",
      "source": [],
      "metadata": {
        "id": "SqlcRPqjJm3r"
      },
      "execution_count": null,
      "outputs": []
    }
  ]
}
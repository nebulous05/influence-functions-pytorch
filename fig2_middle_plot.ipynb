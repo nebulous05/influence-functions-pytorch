{
  "nbformat": 4,
  "nbformat_minor": 0,
  "metadata": {
    "colab": {
      "provenance": [],
      "authorship_tag": "ABX9TyMRoLpAn23z23exsxN+YusI",
      "include_colab_link": true
    },
    "kernelspec": {
      "name": "python3",
      "display_name": "Python 3"
    },
    "language_info": {
      "name": "python"
    }
  },
  "cells": [
    {
      "cell_type": "markdown",
      "metadata": {
        "id": "view-in-github",
        "colab_type": "text"
      },
      "source": [
        "<a href=\"https://colab.research.google.com/github/nebulous05/influence-functions-pytorch/blob/main/fig2_middle_plot.ipynb\" target=\"_parent\"><img src=\"https://colab.research.google.com/assets/colab-badge.svg\" alt=\"Open In Colab\"/></a>"
      ]
    },
    {
      "cell_type": "code",
      "source": [
        "### PROCEDURE ###\n",
        "\n",
        "# Step 1: Train a model on the 10-class MNIST dataset\n",
        "# Step 2: Arbitrarily select a wrongly-classified test point, z_test\n",
        "# Step 3: Compute the influence I_up,loss(z, z_test) for every training point z\n",
        "# Step 4: Select the 500 training points with the largest |I_up,loss(z, z_test)|\n",
        "# Step 5: Compute the actual change in test loss after removing the point and\n",
        "#         retraining for each of the 500 points\n",
        "# Step 6: Plot -1/n (I_up,loss(z, z_test)) vs. actual change in test loss for\n",
        "#         each of the 500 points"
      ],
      "metadata": {
        "id": "J2QDScO9mR5s"
      },
      "execution_count": 1,
      "outputs": []
    },
    {
      "cell_type": "code",
      "source": [
        "# Step 1: Train a model on the 10-class MNIST dataset"
      ],
      "metadata": {
        "id": "mVuujdT-oNOb"
      },
      "execution_count": 2,
      "outputs": []
    },
    {
      "cell_type": "code",
      "source": [
        "import torch\n",
        "import torch.nn as nn\n",
        "import torch.nn.functional as F\n",
        "import torch.optim as optim\n",
        "import torchvision\n",
        "from torchvision import datasets, transforms\n",
        "from torch.utils.data import DataLoader, random_split\n",
        "import matplotlib.pyplot as plt\n",
        "import numpy as np\n",
        "import random\n",
        "from torch.autograd import grad\n",
        "from torch.utils.data import Subset"
      ],
      "metadata": {
        "id": "cwQH8J4ipnyh"
      },
      "execution_count": 3,
      "outputs": []
    },
    {
      "cell_type": "code",
      "source": [
        "# load train data: 60,000 samples\n",
        "train_dataset = datasets.MNIST(root='./data', train=True, download=True, transform=transforms.ToTensor())\n",
        "\n",
        "# split train dataset into train and validation\n",
        "train_size = 55000\n",
        "val_size = 5000\n",
        "train_data, val_data = random_split(train_dataset, [train_size, val_size])\n",
        "\n",
        "# load test data: 10,000 samples\n",
        "test_data = datasets.MNIST(root='./data', train=False, transform=transforms.ToTensor())"
      ],
      "metadata": {
        "id": "0VzLbKHKpszA",
        "colab": {
          "base_uri": "https://localhost:8080/"
        },
        "outputId": "2cbc9c44-1074-40ee-c87d-f55d1a712b90"
      },
      "execution_count": 4,
      "outputs": [
        {
          "output_type": "stream",
          "name": "stdout",
          "text": [
            "Downloading http://yann.lecun.com/exdb/mnist/train-images-idx3-ubyte.gz\n",
            "Failed to download (trying next):\n",
            "HTTP Error 403: Forbidden\n",
            "\n",
            "Downloading https://ossci-datasets.s3.amazonaws.com/mnist/train-images-idx3-ubyte.gz\n",
            "Downloading https://ossci-datasets.s3.amazonaws.com/mnist/train-images-idx3-ubyte.gz to ./data/MNIST/raw/train-images-idx3-ubyte.gz\n"
          ]
        },
        {
          "output_type": "stream",
          "name": "stderr",
          "text": [
            "100%|██████████| 9912422/9912422 [00:00<00:00, 59190595.79it/s]\n"
          ]
        },
        {
          "output_type": "stream",
          "name": "stdout",
          "text": [
            "Extracting ./data/MNIST/raw/train-images-idx3-ubyte.gz to ./data/MNIST/raw\n",
            "\n",
            "Downloading http://yann.lecun.com/exdb/mnist/train-labels-idx1-ubyte.gz\n",
            "Failed to download (trying next):\n",
            "HTTP Error 403: Forbidden\n",
            "\n",
            "Downloading https://ossci-datasets.s3.amazonaws.com/mnist/train-labels-idx1-ubyte.gz\n",
            "Downloading https://ossci-datasets.s3.amazonaws.com/mnist/train-labels-idx1-ubyte.gz to ./data/MNIST/raw/train-labels-idx1-ubyte.gz\n"
          ]
        },
        {
          "output_type": "stream",
          "name": "stderr",
          "text": [
            "100%|██████████| 28881/28881 [00:00<00:00, 2151267.01it/s]"
          ]
        },
        {
          "output_type": "stream",
          "name": "stdout",
          "text": [
            "Extracting ./data/MNIST/raw/train-labels-idx1-ubyte.gz to ./data/MNIST/raw\n",
            "\n",
            "Downloading http://yann.lecun.com/exdb/mnist/t10k-images-idx3-ubyte.gz\n"
          ]
        },
        {
          "output_type": "stream",
          "name": "stderr",
          "text": [
            "\n"
          ]
        },
        {
          "output_type": "stream",
          "name": "stdout",
          "text": [
            "Failed to download (trying next):\n",
            "HTTP Error 403: Forbidden\n",
            "\n",
            "Downloading https://ossci-datasets.s3.amazonaws.com/mnist/t10k-images-idx3-ubyte.gz\n",
            "Downloading https://ossci-datasets.s3.amazonaws.com/mnist/t10k-images-idx3-ubyte.gz to ./data/MNIST/raw/t10k-images-idx3-ubyte.gz\n"
          ]
        },
        {
          "output_type": "stream",
          "name": "stderr",
          "text": [
            "100%|██████████| 1648877/1648877 [00:00<00:00, 13828934.03it/s]\n"
          ]
        },
        {
          "output_type": "stream",
          "name": "stdout",
          "text": [
            "Extracting ./data/MNIST/raw/t10k-images-idx3-ubyte.gz to ./data/MNIST/raw\n",
            "\n",
            "Downloading http://yann.lecun.com/exdb/mnist/t10k-labels-idx1-ubyte.gz\n",
            "Failed to download (trying next):\n",
            "HTTP Error 403: Forbidden\n",
            "\n",
            "Downloading https://ossci-datasets.s3.amazonaws.com/mnist/t10k-labels-idx1-ubyte.gz\n",
            "Downloading https://ossci-datasets.s3.amazonaws.com/mnist/t10k-labels-idx1-ubyte.gz to ./data/MNIST/raw/t10k-labels-idx1-ubyte.gz\n"
          ]
        },
        {
          "output_type": "stream",
          "name": "stderr",
          "text": [
            "100%|██████████| 4542/4542 [00:00<00:00, 3660747.27it/s]"
          ]
        },
        {
          "output_type": "stream",
          "name": "stdout",
          "text": [
            "Extracting ./data/MNIST/raw/t10k-labels-idx1-ubyte.gz to ./data/MNIST/raw\n",
            "\n"
          ]
        },
        {
          "output_type": "stream",
          "name": "stderr",
          "text": [
            "\n"
          ]
        }
      ]
    },
    {
      "cell_type": "code",
      "source": [
        "# create data loaders with batch size 1400\n",
        "train_loader = DataLoader(dataset=train_data, batch_size=1400, shuffle=False)\n",
        "val_loader = DataLoader(dataset=val_data, batch_size=1400, shuffle=False)"
      ],
      "metadata": {
        "id": "q8Mv4mBIfMrv"
      },
      "execution_count": 5,
      "outputs": []
    },
    {
      "cell_type": "code",
      "source": [
        "# some functions to retrieve/view data\n",
        "def get_item(index, dataset='train'):\n",
        "    ''' returns a pair (image_tensor, label_int) '''\n",
        "    if dataset == 'train':\n",
        "        return train_data[index]\n",
        "    elif dataset == 'test':\n",
        "        return test_data[index]\n",
        "    elif dataset == 'val':\n",
        "        return val_data[index]\n",
        "\n",
        "def show_image(index, dataset='train'):\n",
        "    ''' show an image with matplotlib '''\n",
        "    if dataset == 'train':\n",
        "        img = train_data[index][0].numpy().reshape(28, 28)\n",
        "    elif dataset == 'test':\n",
        "        img = test_data[index][0].numpy().reshape(28, 28)\n",
        "    elif dataset == 'val':\n",
        "        img = val_data[index][0].numpy().reshape(28, 28)\n",
        "    plt.imshow(img, cmap='gray')\n",
        "    plt.show()"
      ],
      "metadata": {
        "id": "306JWBg3jXg9"
      },
      "execution_count": 6,
      "outputs": []
    },
    {
      "cell_type": "code",
      "source": [
        "# custom module for logistic regression\n",
        "class LRModel(nn.Module):\n",
        "    def __init__(self):\n",
        "        super(LRModel, self).__init__()\n",
        "        self.linear = nn.Linear(28*28, 10)\n",
        "\n",
        "    def forward(self, x):\n",
        "        x = x.view(-1, 28*28)\n",
        "        return self.linear(x)"
      ],
      "metadata": {
        "id": "_s9RXb1Elzs2"
      },
      "execution_count": 7,
      "outputs": []
    },
    {
      "cell_type": "code",
      "source": [
        "# instantiate the model\n",
        "model = LRModel()\n",
        "\n",
        "# save the model\n",
        "torch.save(model.state_dict(), 'initial_model_weights.pth')"
      ],
      "metadata": {
        "id": "qfbNFl2ImU5F"
      },
      "execution_count": 8,
      "outputs": []
    },
    {
      "cell_type": "code",
      "source": [
        "# define model training function\n",
        "def train_model(model, train_loader, val_loader, epochs=3, lr=0.001):\n",
        "    # set random seeds to avoid stochasicity\n",
        "    torch.manual_seed(42)\n",
        "    np.random.seed(42)\n",
        "    random.seed(42)\n",
        "\n",
        "    optimizer = optim.LBFGS(model.parameters(), lr=lr) # use LBFGS optimizer\n",
        "    criterion = nn.CrossEntropyLoss()\n",
        "\n",
        "    for epoch in range(epochs):\n",
        "        model.train()\n",
        "        running_loss = 0.0\n",
        "\n",
        "        for images, labels in train_loader:\n",
        "            def closure():\n",
        "              optimizer.zero_grad()\n",
        "              outputs = model(images)\n",
        "              loss = criterion(outputs, labels)\n",
        "              loss.backward()\n",
        "              return loss\n",
        "\n",
        "            loss = optimizer.step(closure)\n",
        "\n",
        "            running_loss += loss.item()\n",
        "\n",
        "        print(f\"Epoch {epoch+1}, Loss: {running_loss/len(train_loader)}\")\n",
        "\n",
        "        # Validation Step\n",
        "        model.eval()\n",
        "        correct = 0\n",
        "        total = 0\n",
        "        with torch.no_grad():\n",
        "            for images, labels in val_loader:\n",
        "                outputs = model(images)\n",
        "                _, predicted = torch.max(outputs, 1)\n",
        "                total += labels.size(0)\n",
        "                correct += (predicted == labels).sum().item()\n",
        "\n",
        "        print(f'Validation Accuracy: {100 * correct / total}%')"
      ],
      "metadata": {
        "id": "PpoXOYS9m5_Q"
      },
      "execution_count": 9,
      "outputs": []
    },
    {
      "cell_type": "code",
      "source": [
        "# fit the model to the train data\n",
        "train_model(model, train_loader, val_loader)"
      ],
      "metadata": {
        "colab": {
          "base_uri": "https://localhost:8080/"
        },
        "id": "H_eFX0_7qmFG",
        "outputId": "7ccb503d-59f7-46fd-e4b9-9ca3fbfeb571"
      },
      "execution_count": 10,
      "outputs": [
        {
          "output_type": "stream",
          "name": "stdout",
          "text": [
            "Epoch 1, Loss: 1.3658491536974906\n",
            "Validation Accuracy: 89.56%\n",
            "Epoch 2, Loss: 0.6465988501906395\n",
            "Validation Accuracy: 91.06%\n",
            "Epoch 3, Loss: 0.4210507899522781\n",
            "Validation Accuracy: 91.7%\n"
          ]
        }
      ]
    },
    {
      "cell_type": "code",
      "source": [
        "# check on example\n",
        "image_example = get_item(5)\n",
        "\n",
        "outputs = model(image_example[0])\n",
        "print(outputs)\n",
        "print(\"label: \", image_example[1])\n",
        "\n",
        "show_image(5)"
      ],
      "metadata": {
        "colab": {
          "base_uri": "https://localhost:8080/",
          "height": 482
        },
        "id": "BOaMKKDHudQo",
        "outputId": "216c5500-8384-44ca-b34b-d024e0c8476e"
      },
      "execution_count": 11,
      "outputs": [
        {
          "output_type": "stream",
          "name": "stdout",
          "text": [
            "tensor([[ 1.0265, -1.6564, -0.0584, -0.9634,  2.1960,  4.6798,  0.4425, -1.0354,\n",
            "         -0.2503, -2.1560]], grad_fn=<AddmmBackward0>)\n",
            "label:  5\n"
          ]
        },
        {
          "output_type": "display_data",
          "data": {
            "text/plain": [
              "<Figure size 640x480 with 1 Axes>"
            ],
            "image/png": "[encoded data removed]"
          },
          "metadata": {}
        }
      ]
    },
    {
      "cell_type": "code",
      "source": [
        "# find all misclassified test points\n",
        "def find_misclassified_indices(model, test_data=test_data):\n",
        "  ''' returns a list of indices of all incorrectly labeled test points '''\n",
        "  model.eval()\n",
        "  indices = []\n",
        "  for i in range(len(test_data)):\n",
        "    image, label = get_item(i, dataset='test')\n",
        "    with torch.no_grad():\n",
        "      outputs = model(image)\n",
        "      _, predicted = torch.max(outputs, 1)\n",
        "      if predicted != label:\n",
        "        indices.append(i)\n",
        "  return indices\n",
        "\n",
        "mislabeled_indices = find_misclassified_indices(model)\n",
        "print(\"Number of misidentified testing points: \", len(mislabeled_indices))\n",
        "print(\"Misidentified index: \", random.choice(mislabeled_indices))"
      ],
      "metadata": {
        "id": "WLxcBz5SvHbY",
        "colab": {
          "base_uri": "https://localhost:8080/"
        },
        "outputId": "f13a5496-2a4d-4fca-fb60-710db17789de"
      },
      "execution_count": 12,
      "outputs": [
        {
          "output_type": "stream",
          "name": "stdout",
          "text": [
            "Number of misidentified testing points:  824\n",
            "Misidentified index:  6981\n"
          ]
        }
      ]
    },
    {
      "cell_type": "code",
      "source": [
        "# show the misidentified point\n",
        "bad_index = 6981\n",
        "\n",
        "image, label = get_item(bad_index, dataset='test')\n",
        "print(\"label: \", label)\n",
        "output = model(image)\n",
        "_, predicted = torch.max(output, 1)\n",
        "print(\"prediction: \", predicted)\n",
        "\n",
        "show_image(bad_index, dataset='test')"
      ],
      "metadata": {
        "colab": {
          "base_uri": "https://localhost:8080/",
          "height": 465
        },
        "id": "I-6p3dCmAepT",
        "outputId": "f469077f-4618-49a2-9bb6-6770e3e338a6"
      },
      "execution_count": 13,
      "outputs": [
        {
          "output_type": "stream",
          "name": "stdout",
          "text": [
            "label:  5\n",
            "prediction:  tensor([6])\n"
          ]
        },
        {
          "output_type": "display_data",
          "data": {
            "text/plain": [
              "<Figure size 640x480 with 1 Axes>"
            ],
            "image/png": "[encoded data removed]"
          },
          "metadata": {}
        }
      ]
    },
    {
      "cell_type": "code",
      "source": [
        "# Step 3: Compute the influence I_up,loss(z, z_test) for every training point z"
      ],
      "metadata": {
        "id": "LgSa26dJA_jw"
      },
      "execution_count": 14,
      "outputs": []
    },
    {
      "cell_type": "code",
      "source": [
        "# get gradient of loss wrt params to kick off LiSSA\n",
        "def compute_v(model, z_test, z_test_label):\n",
        "    loss_fn = nn.CrossEntropyLoss()\n",
        "    model.eval()\n",
        "\n",
        "    model.zero_grad()\n",
        "    output = model(z_test)\n",
        "    z_test_label = torch.tensor([z_test_label], dtype=torch.long)\n",
        "    loss = loss_fn(output, z_test_label)\n",
        "\n",
        "    v = grad(loss, model.parameters())\n",
        "    return v\n",
        "\n",
        "# returns list of torch tensors containing product of Hessian and v.\n",
        "def hvp(y, w, v):\n",
        "    # First backprop: Compute the gradient of y with respect to w\n",
        "    first_grads = grad(y, w, retain_graph=True, create_graph=True)\n",
        "\n",
        "    # Elementwise products\n",
        "    elemwise_products = 0\n",
        "    for grad_elem, v_elem in zip(first_grads, v):\n",
        "        elemwise_products += torch.sum(grad_elem * v_elem)\n",
        "\n",
        "    # Second backprop: Compute gradient of elementwise product with respect to w\n",
        "    return_grads = grad(elemwise_products, w, create_graph=True)\n",
        "\n",
        "    return return_grads\n",
        "\n",
        "# Precompute s_test using stochastic estimation, now using a mini-batch from the training data\n",
        "def compute_s_test(model, z_test, v, scale=25, recursion_depth=5000, damping=0.07, batch_size=1, num_samples=10):\n",
        "    loss_fn = nn.CrossEntropyLoss()\n",
        "    model.eval()\n",
        "    s_test = None\n",
        "\n",
        "    for j in range(num_samples):\n",
        "        print(\"Beginning of repeat #\", j+1)\n",
        "        h_estimate = v  # Start with the gradient of z_test\n",
        "\n",
        "        for i in range(recursion_depth):\n",
        "            # Sample a random mini-batch from the training data\n",
        "            batch_indices = random.sample(range(len(train_data)), batch_size)\n",
        "            train_batch = [train_data[i] for i in batch_indices]\n",
        "            train_batch_inputs = torch.stack([x[0].squeeze() for x in train_batch])\n",
        "            train_batch_labels = torch.tensor([x[1] for x in train_batch])\n",
        "\n",
        "            model.zero_grad()\n",
        "            output = model(train_batch_inputs)\n",
        "            loss = loss_fn(output, train_batch_labels)\n",
        "\n",
        "            # Compute the Hessian-vector product\n",
        "            hv = hvp(loss, list(model.parameters()), h_estimate)\n",
        "\n",
        "            # Recursively update h_estimate\n",
        "            h_estimate = [\n",
        "                _v + (1 - damping) * _h_e - _hv / scale\n",
        "                for _v, _h_e, _hv in zip(v, h_estimate, hv)\n",
        "            ]\n",
        "\n",
        "            # Detach to prevent graph retention and memory buildup\n",
        "            h_estimate = [h.detach() for h in h_estimate]\n",
        "\n",
        "            if i%1000 == 0:\n",
        "              print(\"Completed \", i, \" iterations\")\n",
        "\n",
        "        if s_test is None:\n",
        "            s_test = h_estimate\n",
        "        else:\n",
        "            s_test = [s + h for s, h in zip(s_test, h_estimate)]\n",
        "\n",
        "    # Average over the number of samples\n",
        "    s_test = [s / num_samples for s in s_test]\n",
        "\n",
        "    return s_test"
      ],
      "metadata": {
        "id": "KkOEDmcABHzq"
      },
      "execution_count": 40,
      "outputs": []
    },
    {
      "cell_type": "code",
      "source": [
        "z_test = get_item(bad_index, dataset='test')[0]\n",
        "z_test_label = get_item(bad_index, dataset='test')[1]\n",
        "\n",
        "v = compute_v(model, z_test, z_test_label)\n",
        "s_test = compute_s_test(model, z_test, v)"
      ],
      "metadata": {
        "colab": {
          "base_uri": "https://localhost:8080/"
        },
        "id": "M0SLbZz8CUCE",
        "outputId": "5d8e6787-ee23-4f23-a574-bd4b008014e4"
      },
      "execution_count": 41,
      "outputs": [
        {
          "output_type": "stream",
          "name": "stdout",
          "text": [
            "Beginning of repeat # 1\n",
            "Completed  0  iterations\n",
            "Completed  1000  iterations\n",
            "Completed  2000  iterations\n",
            "Completed  3000  iterations\n",
            "Completed  4000  iterations\n",
            "Beginning of repeat # 2\n",
            "Completed  0  iterations\n",
            "Completed  1000  iterations\n",
            "Completed  2000  iterations\n",
            "Completed  3000  iterations\n",
            "Completed  4000  iterations\n",
            "Beginning of repeat # 3\n",
            "Completed  0  iterations\n",
            "Completed  1000  iterations\n",
            "Completed  2000  iterations\n",
            "Completed  3000  iterations\n",
            "Completed  4000  iterations\n",
            "Beginning of repeat # 4\n",
            "Completed  0  iterations\n",
            "Completed  1000  iterations\n",
            "Completed  2000  iterations\n",
            "Completed  3000  iterations\n",
            "Completed  4000  iterations\n",
            "Beginning of repeat # 5\n",
            "Completed  0  iterations\n",
            "Completed  1000  iterations\n",
            "Completed  2000  iterations\n",
            "Completed  3000  iterations\n",
            "Completed  4000  iterations\n",
            "Beginning of repeat # 6\n",
            "Completed  0  iterations\n",
            "Completed  1000  iterations\n",
            "Completed  2000  iterations\n",
            "Completed  3000  iterations\n",
            "Completed  4000  iterations\n",
            "Beginning of repeat # 7\n",
            "Completed  0  iterations\n",
            "Completed  1000  iterations\n",
            "Completed  2000  iterations\n",
            "Completed  3000  iterations\n",
            "Completed  4000  iterations\n",
            "Beginning of repeat # 8\n",
            "Completed  0  iterations\n",
            "Completed  1000  iterations\n",
            "Completed  2000  iterations\n",
            "Completed  3000  iterations\n",
            "Completed  4000  iterations\n",
            "Beginning of repeat # 9\n",
            "Completed  0  iterations\n",
            "Completed  1000  iterations\n",
            "Completed  2000  iterations\n",
            "Completed  3000  iterations\n",
            "Completed  4000  iterations\n",
            "Beginning of repeat # 10\n",
            "Completed  0  iterations\n",
            "Completed  1000  iterations\n",
            "Completed  2000  iterations\n",
            "Completed  3000  iterations\n",
            "Completed  4000  iterations\n"
          ]
        }
      ]
    },
    {
      "cell_type": "code",
      "source": [
        "# returns a list where the ith index is the value of the influence for index i\n",
        "# of the training set\n",
        "def compute_influence(model, train_dataset, s_test):\n",
        "    loss_fn = nn.CrossEntropyLoss()\n",
        "    model.eval()\n",
        "\n",
        "    # List to store influence scores for each training point\n",
        "    influence_scores = []\n",
        "\n",
        "    # Loop over each data point in the training set\n",
        "    for z in train_dataset:\n",
        "        # Extract input and label from training dataset point\n",
        "        z_input = z[0]\n",
        "        z_label = torch.tensor([z[1]])\n",
        "\n",
        "        # Compute the gradient of the loss of the training point wrt the model parameters (v)\n",
        "        v = compute_v(model, z_input, z_label)\n",
        "\n",
        "        # Now compute the dot product between s_test and v\n",
        "        influence = 0\n",
        "        for s, v_i in zip(s_test, v):\n",
        "            influence += torch.sum(s * v_i)\n",
        "\n",
        "        # Store the negative of the influence as we want -s_test . v\n",
        "        influence_scores.append(-influence.item())  # Append scalar value to the list\n",
        "\n",
        "    return influence_scores\n",
        "\n",
        "influence_scores = compute_influence(model, train_data, s_test)"
      ],
      "metadata": {
        "id": "nad765uzCen8"
      },
      "execution_count": 42,
      "outputs": []
    },
    {
      "cell_type": "code",
      "source": [
        "def select_top_influential_points(influence_scores, top_n=500):\n",
        "    # Create a dictionary mapping index i to the influence score\n",
        "    influence_dict = {i: influence_scores[i] for i in range(len(influence_scores))}\n",
        "\n",
        "    # Sort the dictionary by the absolute value of the influence scores in descending order\n",
        "    sorted_influences = sorted(influence_dict.items(), key=lambda item: abs(item[1]), reverse=True)\n",
        "\n",
        "    # Select the top N most influential points\n",
        "    top_influential_dict = dict(sorted_influences[:top_n])\n",
        "\n",
        "    return top_influential_dict\n",
        "\n",
        "top_influential_dict = select_top_influential_points(influence_scores, 50)\n",
        "print(top_influential_dict)"
      ],
      "metadata": {
        "colab": {
          "base_uri": "https://localhost:8080/"
        },
        "id": "ehv_KwAQDEaN",
        "outputId": "16d79824-842c-45a0-9c2c-0c97504f7071"
      },
      "execution_count": 60,
      "outputs": [
        {
          "output_type": "stream",
          "name": "stdout",
          "text": [
            "{17788: -762.6057739257812, 27827: -707.573486328125, 23464: 698.8442993164062, 27874: -696.0543212890625, 53124: -691.8523559570312, 31803: -680.803955078125, 50013: 676.812255859375, 37679: -650.6370239257812, 44666: 633.424072265625, 18432: -619.485107421875, 53914: 598.6224975585938, 30919: -596.4232177734375, 32950: -592.2591552734375, 16734: -584.3699951171875, 4773: -584.3406372070312, 9198: -581.0454711914062, 27689: -578.9169921875, 35352: -575.1119384765625, 34951: 573.5508422851562, 39042: -568.401123046875, 30215: -558.7312622070312, 9464: -557.5653076171875, 54763: -557.4906005859375, 18114: -545.0367431640625, 11094: 543.8623046875, 41138: -540.70458984375, 25441: -538.1350708007812, 40616: -527.7494506835938, 53540: -518.00146484375, 11364: 514.80517578125, 16749: -509.6557312011719, 31129: -509.2782287597656, 33494: -505.60528564453125, 12171: 504.2859191894531, 12836: -503.3863525390625, 5228: 501.0224304199219, 13759: -493.80633544921875, 33318: -487.9809875488281, 28388: 486.0384826660156, 37885: -481.26763916015625, 1956: -473.8996276855469, 42892: -473.671875, 4658: -469.4404296875, 14849: -468.1703796386719, 33746: -464.76678466796875, 17363: -458.7445983886719, 50847: -456.7069396972656, 10127: -454.6148986816406, 51026: -453.1611633300781, 54287: -450.0624694824219}\n"
          ]
        }
      ]
    },
    {
      "cell_type": "code",
      "source": [
        "show_image(41138, dataset='train')\n",
        "print(get_item(41138, dataset='train')[1])"
      ],
      "metadata": {
        "colab": {
          "base_uri": "https://localhost:8080/",
          "height": 447
        },
        "id": "UgCZY9HnDUAS",
        "outputId": "4ab1d5c9-c9e9-4aeb-b6f1-d72c66e3811b"
      },
      "execution_count": 67,
      "outputs": [
        {
          "output_type": "display_data",
          "data": {
            "text/plain": [
              "<Figure size 640x480 with 1 Axes>"
            ],
            "image/png": "[encoded data removed]"
          },
          "metadata": {}
        },
        {
          "output_type": "stream",
          "name": "stdout",
          "text": [
            "5\n"
          ]
        }
      ]
    },
    {
      "cell_type": "code",
      "source": [
        "def remove_element_from_dataset(dataset, remove_index):\n",
        "    # Get the list of all indices except the one to be removed\n",
        "    indices = list(range(len(dataset)))\n",
        "    indices.pop(remove_index)\n",
        "\n",
        "    # Create a new dataset as a subset using the remaining indices\n",
        "    new_dataset = Subset(dataset, indices)\n",
        "\n",
        "    return new_dataset\n",
        "\n",
        "def leave_one_out_retrain(z_test, z_test_label, old_model, top_influential=top_influential_dict):\n",
        "  loss_fn = nn.CrossEntropyLoss()\n",
        "  # compute old test loss\n",
        "  old_model.eval()\n",
        "  old_loss = loss_fn(old_model(z_test), torch.tensor([z_test_label], dtype=torch.long))\n",
        "  print(\"Old test loss: \", old_loss.item())\n",
        "\n",
        "  change_in_test_loss = []\n",
        "\n",
        "  count = 0\n",
        "  for idx, val in top_influential.items():\n",
        "    new_train_dataset = remove_element_from_dataset(train_data, remove_index=idx)\n",
        "    new_train_loader = DataLoader(dataset=new_train_dataset, batch_size=1400, shuffle=False)\n",
        "\n",
        "    new_model = LRModel()\n",
        "    new_model.load_state_dict(torch.load('initial_model_weights.pth', weights_only=True))\n",
        "    count += 1\n",
        "    print(\"Retraining model #\", count, \" (idx=\", idx, \")\")\n",
        "\n",
        "    train_model(new_model, new_train_loader, val_loader)\n",
        "    new_loss = loss_fn(new_model(z_test), torch.tensor([z_test_label], dtype=torch.long))\n",
        "    change_in_test_loss.append(new_loss - old_loss)\n",
        "    print()\n",
        "    print(\"Change in test loss: \", change_in_test_loss[-1].item())\n",
        "    print()\n",
        "\n",
        "  return change_in_test_loss"
      ],
      "metadata": {
        "id": "AJkuiXDPDbvp"
      },
      "execution_count": 63,
      "outputs": []
    },
    {
      "cell_type": "code",
      "source": [
        "change_in_test_loss = leave_one_out_retrain(z_test, z_test_label, model)\n",
        "print(change_in_test_loss)"
      ],
      "metadata": {
        "colab": {
          "base_uri": "https://localhost:8080/"
        },
        "id": "0fJYIRZ-J2sn",
        "outputId": "a7a3e07d-d304-45ab-82f2-a007213d8bde"
      },
      "execution_count": 64,
      "outputs": [
        {
          "output_type": "stream",
          "name": "stdout",
          "text": [
            "Old test loss:  1.165305495262146\n",
            "Retraining model # 1  (idx= 17788 )\n",
            "Epoch 1, Loss: 1.3645132511854172\n",
            "Validation Accuracy: 89.56%\n",
            "Epoch 2, Loss: 0.6443393126130104\n",
            "Validation Accuracy: 91.06%\n",
            "Epoch 3, Loss: 0.4200751677155495\n",
            "Validation Accuracy: 91.78%\n",
            "\n",
            "Change in test loss:  0.010448217391967773\n",
            "\n",
            "Retraining model # 2  (idx= 27827 )\n",
            "Epoch 1, Loss: 1.3652991756796837\n",
            "Validation Accuracy: 89.56%\n",
            "Epoch 2, Loss: 0.6454876095056534\n",
            "Validation Accuracy: 91.06%\n",
            "Epoch 3, Loss: 0.4205560557544231\n",
            "Validation Accuracy: 91.8%\n",
            "\n",
            "Change in test loss:  0.016147375106811523\n",
            "\n",
            "Retraining model # 3  (idx= 23464 )\n",
            "Epoch 1, Loss: 1.3649997591972352\n",
            "Validation Accuracy: 89.54%\n",
            "Epoch 2, Loss: 0.6455323293805122\n",
            "Validation Accuracy: 91.08%\n",
            "Epoch 3, Loss: 0.42057744041085243\n",
            "Validation Accuracy: 91.74%\n",
            "\n",
            "Change in test loss:  -0.0035605430603027344\n",
            "\n",
            "Retraining model # 4  (idx= 27874 )\n",
            "Epoch 1, Loss: 1.3653376758098603\n",
            "Validation Accuracy: 89.56%\n",
            "Epoch 2, Loss: 0.6457755640149117\n",
            "Validation Accuracy: 91.06%\n",
            "Epoch 3, Loss: 0.4209457688033581\n",
            "Validation Accuracy: 91.8%\n",
            "\n",
            "Change in test loss:  -0.00033545494079589844\n",
            "\n",
            "Retraining model # 5  (idx= 53124 )\n",
            "Epoch 1, Loss: 1.3657980293035508\n",
            "Validation Accuracy: 89.54%\n",
            "Epoch 2, Loss: 0.646393733471632\n",
            "Validation Accuracy: 91.04%\n",
            "Epoch 3, Loss: 0.4211259789764881\n",
            "Validation Accuracy: 91.74%\n",
            "\n",
            "Change in test loss:  0.012960314750671387\n",
            "\n",
            "Retraining model # 6  (idx= 31803 )\n",
            "Epoch 1, Loss: 1.3658925905823707\n",
            "Validation Accuracy: 89.54%\n",
            "Epoch 2, Loss: 0.6465484701097012\n",
            "Validation Accuracy: 91.04%\n",
            "Epoch 3, Loss: 0.4208812043070793\n",
            "Validation Accuracy: 91.76%\n",
            "\n",
            "Change in test loss:  0.010628223419189453\n",
            "\n",
            "Retraining model # 7  (idx= 50013 )\n",
            "Epoch 1, Loss: 1.3658134147524834\n",
            "Validation Accuracy: 89.54%\n",
            "Epoch 2, Loss: 0.6472130864858627\n",
            "Validation Accuracy: 91.08%\n",
            "Epoch 3, Loss: 0.42164255008101464\n",
            "Validation Accuracy: 91.76%\n",
            "\n",
            "Change in test loss:  -0.0047533512115478516\n",
            "\n",
            "Retraining model # 8  (idx= 37679 )\n",
            "Epoch 1, Loss: 1.365620532631874\n",
            "Validation Accuracy: 89.56%\n",
            "Epoch 2, Loss: 0.6460551835596562\n",
            "Validation Accuracy: 91.06%\n",
            "Epoch 3, Loss: 0.421220513433218\n",
            "Validation Accuracy: 91.8%\n",
            "\n",
            "Change in test loss:  0.01060783863067627\n",
            "\n",
            "Retraining model # 9  (idx= 44666 )\n",
            "Epoch 1, Loss: 1.3658239021897316\n",
            "Validation Accuracy: 89.54%\n",
            "Epoch 2, Loss: 0.6463767364621162\n",
            "Validation Accuracy: 91.04%\n",
            "Epoch 3, Loss: 0.42085436210036276\n",
            "Validation Accuracy: 91.78%\n",
            "\n",
            "Change in test loss:  0.0030251741409301758\n",
            "\n",
            "Retraining model # 10  (idx= 18432 )\n",
            "Epoch 1, Loss: 1.3655030891299247\n",
            "Validation Accuracy: 89.54%\n",
            "Epoch 2, Loss: 0.6459325663745403\n",
            "Validation Accuracy: 91.04%\n",
            "Epoch 3, Loss: 0.4208402529358864\n",
            "Validation Accuracy: 91.78%\n",
            "\n",
            "Change in test loss:  0.020723819732666016\n",
            "\n",
            "Retraining model # 11  (idx= 53914 )\n",
            "Epoch 1, Loss: 1.3658236384391784\n",
            "Validation Accuracy: 89.56%\n",
            "Epoch 2, Loss: 0.6464926585555076\n",
            "Validation Accuracy: 91.04%\n",
            "Epoch 3, Loss: 0.42090705037117004\n",
            "Validation Accuracy: 91.76%\n",
            "\n",
            "Change in test loss:  -0.004827737808227539\n",
            "\n",
            "Retraining model # 12  (idx= 30919 )\n",
            "Epoch 1, Loss: 1.365463250875473\n",
            "Validation Accuracy: 89.54%\n",
            "Epoch 2, Loss: 0.645252625644207\n",
            "Validation Accuracy: 91.04%\n",
            "Epoch 3, Loss: 0.42092777192592623\n",
            "Validation Accuracy: 91.82%\n",
            "\n",
            "Change in test loss:  0.005530118942260742\n",
            "\n",
            "Retraining model # 13  (idx= 32950 )\n",
            "Epoch 1, Loss: 1.3652272298932076\n",
            "Validation Accuracy: 89.54%\n",
            "Epoch 2, Loss: 0.644872424006462\n",
            "Validation Accuracy: 91.06%\n",
            "Epoch 3, Loss: 0.42003185451030733\n",
            "Validation Accuracy: 91.72%\n",
            "\n",
            "Change in test loss:  0.019639968872070312\n",
            "\n",
            "Retraining model # 14  (idx= 16734 )\n",
            "Epoch 1, Loss: 1.365001955628395\n",
            "Validation Accuracy: 89.54%\n",
            "Epoch 2, Loss: 0.646147134155035\n",
            "Validation Accuracy: 91.06%\n",
            "Epoch 3, Loss: 0.4209062986075878\n",
            "Validation Accuracy: 91.76%\n",
            "\n",
            "Change in test loss:  0.009031414985656738\n",
            "\n",
            "Retraining model # 15  (idx= 4773 )\n",
            "Epoch 1, Loss: 1.362897801399231\n",
            "Validation Accuracy: 89.5%\n",
            "Epoch 2, Loss: 0.6460135653614998\n",
            "Validation Accuracy: 91.06%\n",
            "Epoch 3, Loss: 0.4208967313170433\n",
            "Validation Accuracy: 91.74%\n",
            "\n",
            "Change in test loss:  0.013604521751403809\n",
            "\n",
            "Retraining model # 16  (idx= 9198 )\n",
            "Epoch 1, Loss: 1.3625021815299987\n",
            "Validation Accuracy: 89.52%\n",
            "Epoch 2, Loss: 0.6439534448087215\n",
            "Validation Accuracy: 91.08%\n",
            "Epoch 3, Loss: 0.41958598494529725\n",
            "Validation Accuracy: 91.72%\n",
            "\n",
            "Change in test loss:  0.019617795944213867\n",
            "\n",
            "Retraining model # 17  (idx= 27689 )\n",
            "Epoch 1, Loss: 1.365340730547905\n",
            "Validation Accuracy: 89.54%\n",
            "Epoch 2, Loss: 0.6454419486224652\n",
            "Validation Accuracy: 91.06%\n",
            "Epoch 3, Loss: 0.4203949861228466\n",
            "Validation Accuracy: 91.74%\n",
            "\n",
            "Change in test loss:  0.015741705894470215\n",
            "\n",
            "Retraining model # 18  (idx= 35352 )\n",
            "Epoch 1, Loss: 1.3655691951513291\n",
            "Validation Accuracy: 89.56%\n",
            "Epoch 2, Loss: 0.6455719172954559\n",
            "Validation Accuracy: 91.04%\n",
            "Epoch 3, Loss: 0.420930690318346\n",
            "Validation Accuracy: 91.82%\n",
            "\n",
            "Change in test loss:  0.018840670585632324\n",
            "\n",
            "Retraining model # 19  (idx= 34951 )\n",
            "Epoch 1, Loss: 1.3654354259371757\n",
            "Validation Accuracy: 89.58%\n",
            "Epoch 2, Loss: 0.6456213548779488\n",
            "Validation Accuracy: 91.06%\n",
            "Epoch 3, Loss: 0.4206377275288105\n",
            "Validation Accuracy: 91.8%\n",
            "\n",
            "Change in test loss:  0.003938555717468262\n",
            "\n",
            "Retraining model # 20  (idx= 39042 )\n",
            "Epoch 1, Loss: 1.3658728078007698\n",
            "Validation Accuracy: 89.56%\n",
            "Epoch 2, Loss: 0.6466357864439487\n",
            "Validation Accuracy: 91.06%\n",
            "Epoch 3, Loss: 0.42122751995921137\n",
            "Validation Accuracy: 91.8%\n",
            "\n",
            "Change in test loss:  0.012046575546264648\n",
            "\n",
            "Retraining model # 21  (idx= 30215 )\n",
            "Epoch 1, Loss: 1.365465347468853\n",
            "Validation Accuracy: 89.54%\n",
            "Epoch 2, Loss: 0.6454634077847003\n",
            "Validation Accuracy: 91.04%\n",
            "Epoch 3, Loss: 0.4206408873200417\n",
            "Validation Accuracy: 91.76%\n",
            "\n",
            "Change in test loss:  0.018567800521850586\n",
            "\n",
            "Retraining model # 22  (idx= 9464 )\n",
            "Epoch 1, Loss: 1.3625964850187302\n",
            "Validation Accuracy: 89.52%\n",
            "Epoch 2, Loss: 0.6445249177515506\n",
            "Validation Accuracy: 91.04%\n",
            "Epoch 3, Loss: 0.41975012198090556\n",
            "Validation Accuracy: 91.74%\n",
            "\n",
            "Change in test loss:  0.030129075050354004\n",
            "\n",
            "Retraining model # 23  (idx= 54763 )\n",
            "Epoch 1, Loss: 1.3656818360090255\n",
            "Validation Accuracy: 89.58%\n",
            "Epoch 2, Loss: 0.6459263518452645\n",
            "Validation Accuracy: 91.06%\n",
            "Epoch 3, Loss: 0.4205286853015423\n",
            "Validation Accuracy: 91.74%\n",
            "\n",
            "Change in test loss:  0.028012752532958984\n",
            "\n",
            "Retraining model # 24  (idx= 18114 )\n",
            "Epoch 1, Loss: 1.3655150309205055\n",
            "Validation Accuracy: 89.54%\n",
            "Epoch 2, Loss: 0.6479026153683662\n",
            "Validation Accuracy: 91.04%\n",
            "Epoch 3, Loss: 0.42161075323820113\n",
            "Validation Accuracy: 91.8%\n",
            "\n",
            "Change in test loss:  -0.0016685724258422852\n",
            "\n",
            "Retraining model # 25  (idx= 11094 )\n",
            "Epoch 1, Loss: 1.3637248620390892\n",
            "Validation Accuracy: 89.5%\n",
            "Epoch 2, Loss: 0.6446890071034431\n",
            "Validation Accuracy: 91.04%\n",
            "Epoch 3, Loss: 0.42004780620336535\n",
            "Validation Accuracy: 91.74%\n",
            "\n",
            "Change in test loss:  0.010136723518371582\n",
            "\n",
            "Retraining model # 26  (idx= 41138 )\n",
            "Epoch 1, Loss: 1.3658910870552063\n",
            "Validation Accuracy: 89.5%\n",
            "Epoch 2, Loss: 0.6469873026013374\n",
            "Validation Accuracy: 91.04%\n",
            "Epoch 3, Loss: 0.4212344571948051\n",
            "Validation Accuracy: 91.78%\n",
            "\n",
            "Change in test loss:  0.013930082321166992\n",
            "\n",
            "Retraining model # 27  (idx= 25441 )\n",
            "Epoch 1, Loss: 1.3653196930885314\n",
            "Validation Accuracy: 89.56%\n",
            "Epoch 2, Loss: 0.6460710875689983\n",
            "Validation Accuracy: 91.08%\n",
            "Epoch 3, Loss: 0.42127418145537376\n",
            "Validation Accuracy: 91.8%\n",
            "\n",
            "Change in test loss:  0.010077595710754395\n",
            "\n",
            "Retraining model # 28  (idx= 40616 )\n",
            "Epoch 1, Loss: 1.3658255010843277\n",
            "Validation Accuracy: 89.54%\n",
            "Epoch 2, Loss: 0.6468050554394722\n",
            "Validation Accuracy: 91.02%\n",
            "Epoch 3, Loss: 0.42144142612814905\n",
            "Validation Accuracy: 91.74%\n",
            "\n",
            "Change in test loss:  0.014972090721130371\n",
            "\n",
            "Retraining model # 29  (idx= 53540 )\n",
            "Epoch 1, Loss: 1.365815506875515\n",
            "Validation Accuracy: 89.56%\n",
            "Epoch 2, Loss: 0.6463147431612015\n",
            "Validation Accuracy: 91.06%\n",
            "Epoch 3, Loss: 0.42105539366602895\n",
            "Validation Accuracy: 91.76%\n",
            "\n",
            "Change in test loss:  -0.0027037858963012695\n",
            "\n",
            "Retraining model # 30  (idx= 11364 )\n",
            "Epoch 1, Loss: 1.3628798216581344\n",
            "Validation Accuracy: 89.54%\n",
            "Epoch 2, Loss: 0.644378649443388\n",
            "Validation Accuracy: 91.06%\n",
            "Epoch 3, Loss: 0.42051310911774636\n",
            "Validation Accuracy: 91.74%\n",
            "\n",
            "Change in test loss:  0.0034716129302978516\n",
            "\n",
            "Retraining model # 31  (idx= 16749 )\n",
            "Epoch 1, Loss: 1.364892341196537\n",
            "Validation Accuracy: 89.54%\n",
            "Epoch 2, Loss: 0.6463249415159226\n",
            "Validation Accuracy: 91.04%\n",
            "Epoch 3, Loss: 0.4214112251996994\n",
            "Validation Accuracy: 91.78%\n",
            "\n",
            "Change in test loss:  0.012362837791442871\n",
            "\n",
            "Retraining model # 32  (idx= 31129 )\n",
            "Epoch 1, Loss: 1.3654645025730132\n",
            "Validation Accuracy: 89.56%\n",
            "Epoch 2, Loss: 0.6456323832273483\n",
            "Validation Accuracy: 91.06%\n",
            "Epoch 3, Loss: 0.42009959295392035\n",
            "Validation Accuracy: 91.78%\n",
            "\n",
            "Change in test loss:  0.013013720512390137\n",
            "\n",
            "Retraining model # 33  (idx= 33494 )\n",
            "Epoch 1, Loss: 1.3653314515948296\n",
            "Validation Accuracy: 89.52%\n",
            "Epoch 2, Loss: 0.6450558625161648\n",
            "Validation Accuracy: 91.04%\n",
            "Epoch 3, Loss: 0.420256220549345\n",
            "Validation Accuracy: 91.76%\n",
            "\n",
            "Change in test loss:  -0.002779364585876465\n",
            "\n",
            "Retraining model # 34  (idx= 12171 )\n",
            "Epoch 1, Loss: 1.3628202319145202\n",
            "Validation Accuracy: 89.58%\n",
            "Epoch 2, Loss: 0.6441056519746781\n",
            "Validation Accuracy: 91.06%\n",
            "Epoch 3, Loss: 0.419709675014019\n",
            "Validation Accuracy: 91.74%\n",
            "\n",
            "Change in test loss:  0.00014483928680419922\n",
            "\n",
            "Retraining model # 35  (idx= 12836 )\n",
            "Epoch 1, Loss: 1.3630688190460205\n",
            "Validation Accuracy: 89.54%\n",
            "Epoch 2, Loss: 0.644180954247713\n",
            "Validation Accuracy: 91.06%\n",
            "Epoch 3, Loss: 0.4199415810406208\n",
            "Validation Accuracy: 91.78%\n",
            "\n",
            "Change in test loss:  0.002844691276550293\n",
            "\n",
            "Retraining model # 36  (idx= 5228 )\n",
            "Epoch 1, Loss: 1.3646149352192878\n",
            "Validation Accuracy: 89.56%\n",
            "Epoch 2, Loss: 0.6454839840531349\n",
            "Validation Accuracy: 91.04%\n",
            "Epoch 3, Loss: 0.4202077388763428\n",
            "Validation Accuracy: 91.8%\n",
            "\n",
            "Change in test loss:  -0.0010516643524169922\n",
            "\n",
            "Retraining model # 37  (idx= 13759 )\n",
            "Epoch 1, Loss: 1.3628639489412309\n",
            "Validation Accuracy: 89.52%\n",
            "Epoch 2, Loss: 0.6448532253503799\n",
            "Validation Accuracy: 91.06%\n",
            "Epoch 3, Loss: 0.4203770510852337\n",
            "Validation Accuracy: 91.78%\n",
            "\n",
            "Change in test loss:  0.017017602920532227\n",
            "\n",
            "Retraining model # 38  (idx= 33318 )\n",
            "Epoch 1, Loss: 1.3657610073685647\n",
            "Validation Accuracy: 89.52%\n",
            "Epoch 2, Loss: 0.6462713591754436\n",
            "Validation Accuracy: 91.04%\n",
            "Epoch 3, Loss: 0.42131196707487106\n",
            "Validation Accuracy: 91.8%\n",
            "\n",
            "Change in test loss:  0.001475691795349121\n",
            "\n",
            "Retraining model # 39  (idx= 28388 )\n",
            "Epoch 1, Loss: 1.365290215611458\n",
            "Validation Accuracy: 89.54%\n",
            "Epoch 2, Loss: 0.6451749987900257\n",
            "Validation Accuracy: 91.04%\n",
            "Epoch 3, Loss: 0.420452244579792\n",
            "Validation Accuracy: 91.76%\n",
            "\n",
            "Change in test loss:  -0.014406681060791016\n",
            "\n",
            "Retraining model # 40  (idx= 37885 )\n",
            "Epoch 1, Loss: 1.365819478034973\n",
            "Validation Accuracy: 89.54%\n",
            "Epoch 2, Loss: 0.646100091189146\n",
            "Validation Accuracy: 91.06%\n",
            "Epoch 3, Loss: 0.4211385175585747\n",
            "Validation Accuracy: 91.72%\n",
            "\n",
            "Change in test loss:  0.0121307373046875\n",
            "\n",
            "Retraining model # 41  (idx= 1956 )\n",
            "Epoch 1, Loss: 1.3632671698927878\n",
            "Validation Accuracy: 89.58%\n",
            "Epoch 2, Loss: 0.6453624852001667\n",
            "Validation Accuracy: 91.08%\n",
            "Epoch 3, Loss: 0.4209708198904991\n",
            "Validation Accuracy: 91.76%\n",
            "\n",
            "Change in test loss:  -0.00023984909057617188\n",
            "\n",
            "Retraining model # 42  (idx= 42892 )\n",
            "Epoch 1, Loss: 1.3657869070768356\n",
            "Validation Accuracy: 89.56%\n",
            "Epoch 2, Loss: 0.6465892247855664\n",
            "Validation Accuracy: 91.06%\n",
            "Epoch 3, Loss: 0.42100621983408926\n",
            "Validation Accuracy: 91.78%\n",
            "\n",
            "Change in test loss:  0.010158538818359375\n",
            "\n",
            "Retraining model # 43  (idx= 4658 )\n",
            "Epoch 1, Loss: 1.3591339468955994\n",
            "Validation Accuracy: 89.58%\n",
            "Epoch 2, Loss: 0.6415866479277611\n",
            "Validation Accuracy: 91.08%\n",
            "Epoch 3, Loss: 0.41939154267311096\n",
            "Validation Accuracy: 91.8%\n",
            "\n",
            "Change in test loss:  -0.009403705596923828\n",
            "\n",
            "Retraining model # 44  (idx= 14849 )\n",
            "Epoch 1, Loss: 1.3636755779385568\n",
            "Validation Accuracy: 89.52%\n",
            "Epoch 2, Loss: 0.645251726359129\n",
            "Validation Accuracy: 91.04%\n",
            "Epoch 3, Loss: 0.4208544120192528\n",
            "Validation Accuracy: 91.78%\n",
            "\n",
            "Change in test loss:  0.004067063331604004\n",
            "\n",
            "Retraining model # 45  (idx= 33746 )\n",
            "Epoch 1, Loss: 1.3657107949256897\n",
            "Validation Accuracy: 89.54%\n",
            "Epoch 2, Loss: 0.644942644238472\n",
            "Validation Accuracy: 91.06%\n",
            "Epoch 3, Loss: 0.42022863775491714\n",
            "Validation Accuracy: 91.78%\n",
            "\n",
            "Change in test loss:  0.022401928901672363\n",
            "\n",
            "Retraining model # 46  (idx= 17363 )\n",
            "Epoch 1, Loss: 1.3658580839633943\n",
            "Validation Accuracy: 89.52%\n",
            "Epoch 2, Loss: 0.6462723173201084\n",
            "Validation Accuracy: 91.04%\n",
            "Epoch 3, Loss: 0.42135300040245055\n",
            "Validation Accuracy: 91.78%\n",
            "\n",
            "Change in test loss:  -0.00328981876373291\n",
            "\n",
            "Retraining model # 47  (idx= 50847 )\n",
            "Epoch 1, Loss: 1.3658523261547089\n",
            "Validation Accuracy: 89.56%\n",
            "Epoch 2, Loss: 0.647046434879303\n",
            "Validation Accuracy: 91.06%\n",
            "Epoch 3, Loss: 0.421515267342329\n",
            "Validation Accuracy: 91.76%\n",
            "\n",
            "Change in test loss:  0.009633421897888184\n",
            "\n",
            "Retraining model # 48  (idx= 10127 )\n",
            "Epoch 1, Loss: 1.3620816349983216\n",
            "Validation Accuracy: 89.56%\n",
            "Epoch 2, Loss: 0.6452929623425007\n",
            "Validation Accuracy: 91.06%\n",
            "Epoch 3, Loss: 0.42053957358002664\n",
            "Validation Accuracy: 91.78%\n",
            "\n",
            "Change in test loss:  -0.0015016794204711914\n",
            "\n",
            "Retraining model # 49  (idx= 51026 )\n",
            "Epoch 1, Loss: 1.3658690124750137\n",
            "Validation Accuracy: 89.56%\n",
            "Epoch 2, Loss: 0.6471109218895436\n",
            "Validation Accuracy: 91.06%\n",
            "Epoch 3, Loss: 0.42114881351590155\n",
            "Validation Accuracy: 91.7%\n",
            "\n",
            "Change in test loss:  -0.0003305673599243164\n",
            "\n",
            "Retraining model # 50  (idx= 54287 )\n",
            "Epoch 1, Loss: 1.3658031851053238\n",
            "Validation Accuracy: 89.56%\n",
            "Epoch 2, Loss: 0.6464384622871876\n",
            "Validation Accuracy: 91.04%\n",
            "Epoch 3, Loss: 0.42128672525286676\n",
            "Validation Accuracy: 91.76%\n",
            "\n",
            "Change in test loss:  -0.0016214847564697266\n",
            "\n",
            "[tensor(0.0104, grad_fn=<SubBackward0>), tensor(0.0161, grad_fn=<SubBackward0>), tensor(-0.0036, grad_fn=<SubBackward0>), tensor(-0.0003, grad_fn=<SubBackward0>), tensor(0.0130, grad_fn=<SubBackward0>), tensor(0.0106, grad_fn=<SubBackward0>), tensor(-0.0048, grad_fn=<SubBackward0>), tensor(0.0106, grad_fn=<SubBackward0>), tensor(0.0030, grad_fn=<SubBackward0>), tensor(0.0207, grad_fn=<SubBackward0>), tensor(-0.0048, grad_fn=<SubBackward0>), tensor(0.0055, grad_fn=<SubBackward0>), tensor(0.0196, grad_fn=<SubBackward0>), tensor(0.0090, grad_fn=<SubBackward0>), tensor(0.0136, grad_fn=<SubBackward0>), tensor(0.0196, grad_fn=<SubBackward0>), tensor(0.0157, grad_fn=<SubBackward0>), tensor(0.0188, grad_fn=<SubBackward0>), tensor(0.0039, grad_fn=<SubBackward0>), tensor(0.0120, grad_fn=<SubBackward0>), tensor(0.0186, grad_fn=<SubBackward0>), tensor(0.0301, grad_fn=<SubBackward0>), tensor(0.0280, grad_fn=<SubBackward0>), tensor(-0.0017, grad_fn=<SubBackward0>), tensor(0.0101, grad_fn=<SubBackward0>), tensor(0.0139, grad_fn=<SubBackward0>), tensor(0.0101, grad_fn=<SubBackward0>), tensor(0.0150, grad_fn=<SubBackward0>), tensor(-0.0027, grad_fn=<SubBackward0>), tensor(0.0035, grad_fn=<SubBackward0>), tensor(0.0124, grad_fn=<SubBackward0>), tensor(0.0130, grad_fn=<SubBackward0>), tensor(-0.0028, grad_fn=<SubBackward0>), tensor(0.0001, grad_fn=<SubBackward0>), tensor(0.0028, grad_fn=<SubBackward0>), tensor(-0.0011, grad_fn=<SubBackward0>), tensor(0.0170, grad_fn=<SubBackward0>), tensor(0.0015, grad_fn=<SubBackward0>), tensor(-0.0144, grad_fn=<SubBackward0>), tensor(0.0121, grad_fn=<SubBackward0>), tensor(-0.0002, grad_fn=<SubBackward0>), tensor(0.0102, grad_fn=<SubBackward0>), tensor(-0.0094, grad_fn=<SubBackward0>), tensor(0.0041, grad_fn=<SubBackward0>), tensor(0.0224, grad_fn=<SubBackward0>), tensor(-0.0033, grad_fn=<SubBackward0>), tensor(0.0096, grad_fn=<SubBackward0>), tensor(-0.0015, grad_fn=<SubBackward0>), tensor(-0.0003, grad_fn=<SubBackward0>), tensor(-0.0016, grad_fn=<SubBackward0>)]\n"
          ]
        }
      ]
    },
    {
      "cell_type": "code",
      "source": [
        "# plot scatter plot between actual diff in loss and predicted diff in loss\n",
        "actual_diff_in_loss = [x.item() for x in change_in_test_loss]\n",
        "predicted_diff_in_loss = [(-1/len(train_data))* x for x in top_influential_dict.values()]\n",
        "\n",
        "\n",
        "plt.scatter(actual_diff_in_loss, predicted_diff_in_loss)\n",
        "\n",
        "# plot a line of best fit\n",
        "m, b = np.polyfit(actual_diff_in_loss, predicted_diff_in_loss, 1)\n",
        "plt.plot(actual_diff_in_loss, m*np.array(actual_diff_in_loss) + b, color='gray')\n",
        "plt.xlabel(\"Actual diff in loss\")\n",
        "plt.ylabel(\"Predicted diff in loss\")"
      ],
      "metadata": {
        "colab": {
          "base_uri": "https://localhost:8080/",
          "height": 466
        },
        "id": "6iII_6vWRfix",
        "outputId": "1e550de1-f962-4748-c7df-0003ac58d462"
      },
      "execution_count": 65,
      "outputs": [
        {
          "output_type": "execute_result",
          "data": {
            "text/plain": [
              "Text(0, 0.5, 'Predicted diff in loss')"
            ]
          },
          "metadata": {},
          "execution_count": 65
        },
        {
          "output_type": "display_data",
          "data": {
            "text/plain": [
              "<Figure size 640x480 with 1 Axes>"
            ],
            "image/png": "[encoded data removed]"
          },
          "metadata": {}
        }
      ]
    },
    {
      "cell_type": "code",
      "source": [
        "\n"
      ],
      "metadata": {
        "id": "I2eT6iPJVwde"
      },
      "execution_count": null,
      "outputs": []
    }
  ]
}
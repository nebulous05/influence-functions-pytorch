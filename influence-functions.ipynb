{
  "nbformat": 4,
  "nbformat_minor": 0,
  "metadata": {
    "colab": {
      "provenance": [],
      "authorship_tag": "ABX9TyN7tE0yu85gea0RDmQA/T9g",
      "include_colab_link": true
    },
    "kernelspec": {
      "name": "python3",
      "display_name": "Python 3"
    },
    "language_info": {
      "name": "python"
    }
  },
  "cells": [
    {
      "cell_type": "markdown",
      "metadata": {
        "id": "view-in-github",
        "colab_type": "text"
      },
      "source": [
        "<a href=\"https://colab.research.google.com/github/nebulous05/influence-functions-pytorch/blob/main/influence-functions.ipynb\" target=\"_parent\"><img src=\"https://colab.research.google.com/assets/colab-badge.svg\" alt=\"Open In Colab\"/></a>"
      ]
    },
    {
      "cell_type": "code",
      "source": [
        "### PROCEDURE ###\n",
        "\n",
        "# Step 1: Train a model on the 10-class MNIST dataset\n",
        "# Step 2: Arbitrarily select a wrongly-classified test point, z_test\n",
        "# Step 3: Compute the influence I_up,loss(z, z_test) for every training point z\n",
        "# Step 4: Select the 500 training points with the largest |I_up,loss(z, z_test)|\n",
        "# Step 5: Compute the actual change in test loss after removing the point and\n",
        "#         retraining for each of the 500 points\n",
        "# Step 6: Plot -1/n (I_up,loss(z, z_test)) vs. actual change in test loss for\n",
        "#         each of the 500 points"
      ],
      "metadata": {
        "id": "J2QDScO9mR5s"
      },
      "execution_count": 13,
      "outputs": []
    },
    {
      "cell_type": "code",
      "source": [
        "# Step 1: Train a model on the 10-class MNIST dataset"
      ],
      "metadata": {
        "id": "mVuujdT-oNOb"
      },
      "execution_count": 14,
      "outputs": []
    },
    {
      "cell_type": "code",
      "source": [
        "import torch\n",
        "import torch.nn as nn\n",
        "import torch.optim as optim\n",
        "from torchvision import datasets, transforms\n",
        "from torch.utils.data import DataLoader, random_split"
      ],
      "metadata": {
        "id": "cwQH8J4ipnyh"
      },
      "execution_count": 15,
      "outputs": []
    },
    {
      "cell_type": "code",
      "source": [
        "# define model architecture\n",
        "model = nn.Sequential(\n",
        "    nn.Linear(784, 64),\n",
        "    nn.ReLU(),\n",
        "    nn.Linear(64, 64),\n",
        "    nn.ReLU(),\n",
        "    nn.Linear(64, 10)\n",
        ")\n",
        "\n",
        "# define optimizer\n",
        "optimizer = optim.Adam(model.parameters(), lr=0.001)\n",
        "\n",
        "# define loss function\n",
        "criterion = nn.CrossEntropyLoss()"
      ],
      "metadata": {
        "id": "0VzLbKHKpszA"
      },
      "execution_count": 16,
      "outputs": []
    },
    {
      "cell_type": "code",
      "source": [
        "# training, validation data\n",
        "train_data = datasets.MNIST('data', train=True, download=False, transform=transforms.ToTensor())\n",
        "train, val = random_split(train_data, [55000, 5000])\n",
        "\n",
        "# data loaders\n",
        "train_loader = DataLoader(train, batch_size=32)\n",
        "val_loader = DataLoader(val, batch_size=32)"
      ],
      "metadata": {
        "id": "GnCx1J1BsH7v"
      },
      "execution_count": 17,
      "outputs": []
    },
    {
      "cell_type": "code",
      "source": [
        "# training loops\n",
        "epochs = 5\n",
        "for epoch in range(epochs):\n",
        "    losses = list()\n",
        "    for batch in train_loader:\n",
        "        x, y = batch\n",
        "        x = x.view(x.size(0), -1) # x.shape == [batch_size, 784]\n",
        "\n",
        "        y_hat = model(x)\n",
        "        loss = criterion(y_hat, y)\n",
        "\n",
        "        optimizer.zero_grad()\n",
        "        loss.backward()\n",
        "        optimizer.step()\n",
        "\n",
        "        losses.append(loss.item())\n",
        "    print(f'Epoch: {epoch+1}, train loss: {torch.tensor(losses).mean():.2f}')\n"
      ],
      "metadata": {
        "id": "bnqdRWIXqbSG",
        "outputId": "ce5b60ef-8060-4432-f157-8e495114f328",
        "colab": {
          "base_uri": "https://localhost:8080/"
        }
      },
      "execution_count": 12,
      "outputs": [
        {
          "output_type": "stream",
          "name": "stdout",
          "text": [
            "Epoch: 1, train loss: 0.34\n",
            "Epoch: 2, train loss: 0.15\n",
            "Epoch: 3, train loss: 0.11\n",
            "Epoch: 4, train loss: 0.08\n",
            "Epoch: 5, train loss: 0.06\n"
          ]
        }
      ]
    },
    {
      "cell_type": "code",
      "source": [
        "# training loops\n",
        "\n",
        "losses = list()\n",
        "for batch in val_loader:\n",
        "    x, y = batch\n",
        "    x = x.view(x.size(0), -1) # x.shape == [batch_size, 784]\n",
        "\n",
        "    with torch.no_grad():\n",
        "      y_hat = model(x)\n",
        "    loss = criterion(y_hat, y)\n",
        "    losses.append(loss.item())\n",
        "print(f'Epoch: {epoch+1}, val loss: {torch.tensor(losses).mean():.2f}')"
      ],
      "metadata": {
        "id": "SiMC8y9euwyY"
      },
      "execution_count": null,
      "outputs": []
    }
  ]
}
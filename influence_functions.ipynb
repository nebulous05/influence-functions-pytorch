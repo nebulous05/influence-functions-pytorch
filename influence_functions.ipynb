{
  "nbformat": 4,
  "nbformat_minor": 0,
  "metadata": {
    "colab": {
      "provenance": [],
      "authorship_tag": "ABX9TyM6Pp+dha1ZKp/qGwxR9i4U",
      "include_colab_link": true
    },
    "kernelspec": {
      "name": "python3",
      "display_name": "Python 3"
    },
    "language_info": {
      "name": "python"
    }
  },
  "cells": [
    {
      "cell_type": "markdown",
      "metadata": {
        "id": "view-in-github",
        "colab_type": "text"
      },
      "source": [
        "<a href=\"https://colab.research.google.com/github/nebulous05/influence-functions-pytorch/blob/main/influence_functions.ipynb\" target=\"_parent\"><img src=\"https://colab.research.google.com/assets/colab-badge.svg\" alt=\"Open In Colab\"/></a>"
      ]
    },
    {
      "cell_type": "code",
      "execution_count": 48,
      "metadata": {
        "id": "NKBl5oYXwcki"
      },
      "outputs": [],
      "source": [
        "### PROCEDURE ###\n",
        "\n",
        "# Step 1: Train a model on the 10-class MNIST dataset\n",
        "# Step 2: Arbitrarily select a wrongly-classified test point, z_test\n",
        "# Step 3: Compute the influence I_up,loss(z, z_test) for every training point z\n",
        "# Step 4: Select the 500 training points with the largest |I_up,loss(z, z_test)|\n",
        "# Step 5: Compute the actual change in test loss after removing the point and\n",
        "#         retraining for each of the 500 points\n",
        "# Step 6: Plot -1/n (I_up,loss(z, z_test)) vs. actual change in test loss for\n",
        "#         each of the 500 points"
      ]
    },
    {
      "cell_type": "code",
      "source": [
        "# Step 2: Arbitrarily select a wrongly-classified test point, z_test"
      ],
      "metadata": {
        "id": "RaCfGKqRwjI2"
      },
      "execution_count": 49,
      "outputs": []
    },
    {
      "cell_type": "code",
      "source": [
        "import torch\n",
        "import torch.nn as nn\n",
        "import torch.optim as optim\n",
        "import torchvision\n",
        "from torchvision import datasets, transforms\n",
        "from torch.utils.data import DataLoader, random_split\n",
        "import matplotlib.pyplot as plt\n",
        "import numpy as np\n",
        "import random\n",
        "from torch.autograd import grad\n",
        "from torch.autograd.functional import hvp\n",
        "from torch.utils.data import Subset"
      ],
      "metadata": {
        "id": "7F1A0iOpwm8o"
      },
      "execution_count": 1,
      "outputs": []
    },
    {
      "cell_type": "code",
      "source": [
        "# data is torch.FloatTensor; shape = (1, 28, 28)\n",
        "# load train data: 60,000 samples\n",
        "train_dataset = datasets.MNIST(root='./data', train=True, download=True, transform=transforms.ToTensor())\n",
        "\n",
        "#loading test data: 10,000 samples\n",
        "test_dataset = datasets.MNIST(root='./data', train=False, transform=transforms.ToTensor())"
      ],
      "metadata": {
        "colab": {
          "base_uri": "https://localhost:8080/"
        },
        "id": "kmn3n0bpwpwI",
        "outputId": "d0836188-cb2c-44c9-d823-31dda9c2e005"
      },
      "execution_count": 2,
      "outputs": [
        {
          "output_type": "stream",
          "name": "stdout",
          "text": [
            "Downloading http://yann.lecun.com/exdb/mnist/train-images-idx3-ubyte.gz\n",
            "Failed to download (trying next):\n",
            "HTTP Error 403: Forbidden\n",
            "\n",
            "Downloading https://ossci-datasets.s3.amazonaws.com/mnist/train-images-idx3-ubyte.gz\n",
            "Downloading https://ossci-datasets.s3.amazonaws.com/mnist/train-images-idx3-ubyte.gz to ./data/MNIST/raw/train-images-idx3-ubyte.gz\n"
          ]
        },
        {
          "output_type": "stream",
          "name": "stderr",
          "text": [
            "100%|██████████| 9912422/9912422 [00:00<00:00, 30963544.63it/s]\n"
          ]
        },
        {
          "output_type": "stream",
          "name": "stdout",
          "text": [
            "Extracting ./data/MNIST/raw/train-images-idx3-ubyte.gz to ./data/MNIST/raw\n",
            "\n",
            "Downloading http://yann.lecun.com/exdb/mnist/train-labels-idx1-ubyte.gz\n",
            "Failed to download (trying next):\n",
            "HTTP Error 403: Forbidden\n",
            "\n",
            "Downloading https://ossci-datasets.s3.amazonaws.com/mnist/train-labels-idx1-ubyte.gz\n",
            "Downloading https://ossci-datasets.s3.amazonaws.com/mnist/train-labels-idx1-ubyte.gz to ./data/MNIST/raw/train-labels-idx1-ubyte.gz\n"
          ]
        },
        {
          "output_type": "stream",
          "name": "stderr",
          "text": [
            "100%|██████████| 28881/28881 [00:00<00:00, 3468452.22it/s]\n"
          ]
        },
        {
          "output_type": "stream",
          "name": "stdout",
          "text": [
            "Extracting ./data/MNIST/raw/train-labels-idx1-ubyte.gz to ./data/MNIST/raw\n",
            "\n",
            "Downloading http://yann.lecun.com/exdb/mnist/t10k-images-idx3-ubyte.gz\n",
            "Failed to download (trying next):\n",
            "HTTP Error 403: Forbidden\n",
            "\n",
            "Downloading https://ossci-datasets.s3.amazonaws.com/mnist/t10k-images-idx3-ubyte.gz\n",
            "Downloading https://ossci-datasets.s3.amazonaws.com/mnist/t10k-images-idx3-ubyte.gz to ./data/MNIST/raw/t10k-images-idx3-ubyte.gz\n"
          ]
        },
        {
          "output_type": "stream",
          "name": "stderr",
          "text": [
            "100%|██████████| 1648877/1648877 [00:00<00:00, 8610454.72it/s]\n"
          ]
        },
        {
          "output_type": "stream",
          "name": "stdout",
          "text": [
            "Extracting ./data/MNIST/raw/t10k-images-idx3-ubyte.gz to ./data/MNIST/raw\n",
            "\n",
            "Downloading http://yann.lecun.com/exdb/mnist/t10k-labels-idx1-ubyte.gz\n",
            "Failed to download (trying next):\n",
            "HTTP Error 403: Forbidden\n",
            "\n",
            "Downloading https://ossci-datasets.s3.amazonaws.com/mnist/t10k-labels-idx1-ubyte.gz\n",
            "Downloading https://ossci-datasets.s3.amazonaws.com/mnist/t10k-labels-idx1-ubyte.gz to ./data/MNIST/raw/t10k-labels-idx1-ubyte.gz\n"
          ]
        },
        {
          "output_type": "stream",
          "name": "stderr",
          "text": [
            "100%|██████████| 4542/4542 [00:00<00:00, 7810794.90it/s]\n"
          ]
        },
        {
          "output_type": "stream",
          "name": "stdout",
          "text": [
            "Extracting ./data/MNIST/raw/t10k-labels-idx1-ubyte.gz to ./data/MNIST/raw\n",
            "\n"
          ]
        }
      ]
    },
    {
      "cell_type": "code",
      "source": [
        "def get_item(index, dataset='train'):\n",
        "    ''' returns a pair (image_tensor, label_int) '''\n",
        "    if dataset == 'train':\n",
        "        return train_dataset[index]\n",
        "    elif dataset == 'test':\n",
        "        return test_dataset[index]\n",
        "\n",
        "def show_image(index, dataset='train'):\n",
        "    ''' show an image with matplotlib '''\n",
        "    if dataset == 'train':\n",
        "        img = train_dataset[index][0].numpy().reshape(28, 28)\n",
        "        plt.imshow(img, cmap='gray')\n",
        "        plt.show()\n",
        "    elif dataset == 'test':\n",
        "        img = test_dataset[index][0].numpy().reshape(28, 28)\n",
        "        plt.imshow(img, cmap='gray')\n",
        "        plt.show()"
      ],
      "metadata": {
        "id": "sISqw3Bjwve_"
      },
      "execution_count": 3,
      "outputs": []
    },
    {
      "cell_type": "code",
      "source": [
        "# load train and test data samples into dataloader\n",
        "batch_size = 32\n",
        "train_loader = DataLoader(dataset=train_dataset, batch_size=batch_size, shuffle=True)\n",
        "test_loader = DataLoader(dataset=test_dataset, batch_size=batch_size, shuffle=False)"
      ],
      "metadata": {
        "id": "Pp6y3-vJw2av"
      },
      "execution_count": 4,
      "outputs": []
    },
    {
      "cell_type": "code",
      "source": [
        "# custom module for logistic regression\n",
        "class LRModel(nn.Module):\n",
        "    def __init__(self, n_inputs, n_outputs):\n",
        "        super(LRModel, self).__init__()\n",
        "        self.linear = nn.Linear(n_inputs, n_outputs)\n",
        "\n",
        "    def forward(self, x):\n",
        "        y_pred = torch.sigmoid(self.linear(x))\n",
        "        return y_pred"
      ],
      "metadata": {
        "id": "14I5FLzyw5nX"
      },
      "execution_count": 5,
      "outputs": []
    },
    {
      "cell_type": "code",
      "source": [
        "# instantiate the model\n",
        "n_inputs = 28*28\n",
        "n_outputs = 10\n",
        "model = LRModel(n_inputs, n_outputs)\n",
        "model.load_state_dict(torch.load('model_weights.pth'))"
      ],
      "metadata": {
        "colab": {
          "base_uri": "https://localhost:8080/"
        },
        "id": "bH-9cY1Fw706",
        "outputId": "a8eb910d-836c-415f-d22e-f15f85a7e52c"
      },
      "execution_count": 11,
      "outputs": [
        {
          "output_type": "stream",
          "name": "stderr",
          "text": [
            "<ipython-input-11-ac56d928a54d>:5: FutureWarning: You are using `torch.load` with `weights_only=False` (the current default value), which uses the default pickle module implicitly. It is possible to construct malicious pickle data which will execute arbitrary code during unpickling (See https://github.com/pytorch/pytorch/blob/main/SECURITY.md#untrusted-models for more details). In a future release, the default value for `weights_only` will be flipped to `True`. This limits the functions that could be executed during unpickling. Arbitrary objects will no longer be allowed to be loaded via this mode unless they are explicitly allowlisted by the user via `torch.serialization.add_safe_globals`. We recommend you start setting `weights_only=True` for any use case where you don't have full control of the loaded file. Please open an issue on GitHub for any issues related to this experimental feature.\n",
            "  model.load_state_dict(torch.load('model_weights.pth'))\n"
          ]
        },
        {
          "output_type": "execute_result",
          "data": {
            "text/plain": [
              "<All keys matched successfully>"
            ]
          },
          "metadata": {},
          "execution_count": 11
        }
      ]
    },
    {
      "cell_type": "code",
      "source": [
        "def find_misclassified_indices(model=model, test_dataset=test_dataset):\n",
        "  ''' returns a list of indices of all incorrectly labeled test points '''\n",
        "  model.eval()\n",
        "  indices = []\n",
        "  for i in range(len(test_dataset)):\n",
        "    image, label = get_item(i, dataset='test')\n",
        "    image = image.view(-1, 28*28)\n",
        "    with torch.no_grad():\n",
        "      y_pred = model(image)\n",
        "      _, predicted = torch.max(y_pred.data, 1)\n",
        "      if predicted != label:\n",
        "        indices.append(i)\n",
        "  return indices\n",
        "\n",
        "mislabeled_indices = find_misclassified_indices()"
      ],
      "metadata": {
        "id": "x7gVRrERxJqu"
      },
      "execution_count": 12,
      "outputs": []
    },
    {
      "cell_type": "code",
      "source": [
        "# print(random.choice(mislabeled_indices))"
      ],
      "metadata": {
        "colab": {
          "base_uri": "https://localhost:8080/"
        },
        "id": "cSFnT8fJQBkG",
        "outputId": "6403b671-28bf-4d16-8500-df304b630596"
      },
      "execution_count": null,
      "outputs": [
        {
          "output_type": "stream",
          "name": "stdout",
          "text": [
            "3476\n"
          ]
        }
      ]
    },
    {
      "cell_type": "code",
      "source": [
        "# loss function\n",
        "loss_fn = nn.CrossEntropyLoss()\n",
        "\n",
        "image, label = get_item(3476, dataset='test')\n",
        "y_pred = model(image.view(-1, 28*28))\n",
        "_, predicted = torch.max(y_pred.data, 1)\n",
        "\n",
        "# z_test\n",
        "z_test = image.view(-1, 28*28)\n",
        "z_test_label = torch.tensor([test_dataset[3476][1]])\n",
        "\n",
        "print(\"predicted value: \", predicted)\n",
        "print(\"actual value: \", z_test_label)\n",
        "show_image(3476, dataset='test')"
      ],
      "metadata": {
        "colab": {
          "base_uri": "https://localhost:8080/",
          "height": 465
        },
        "id": "_Z6mEJy2QvBt",
        "outputId": "f6aab107-0a4a-4750-8fb2-92cfadb9ab8f"
      },
      "execution_count": 13,
      "outputs": [
        {
          "output_type": "stream",
          "name": "stdout",
          "text": [
            "predicted value:  tensor([8])\n",
            "actual value:  tensor([3])\n"
          ]
        },
        {
          "output_type": "display_data",
          "data": {
            "text/plain": [
              "<Figure size 640x480 with 1 Axes>"
            ],
            "image/png": "[encoded data removed]"
          },
          "metadata": {}
        }
      ]
    },
    {
      "cell_type": "code",
      "source": [
        "# Step 3: Compute the influence I_up,loss(z, z_test) for every training point z"
      ],
      "metadata": {
        "id": "Yy1HW-rgQxa7"
      },
      "execution_count": 14,
      "outputs": []
    },
    {
      "cell_type": "code",
      "source": [
        "# get gradient of loss wrt params to kick off LiSSA\n",
        "def compute_v(model, z_test, z_test_label, loss_fn):\n",
        "    model.zero_grad()\n",
        "    output = model(z_test)\n",
        "    loss = loss_fn(output, z_test_label)\n",
        "\n",
        "    v = grad(loss, model.parameters())\n",
        "    return v\n",
        "\n",
        "# returns list of torch tensors containing product of Hessian and v.\n",
        "def hvp(y, w, v):\n",
        "    # First backprop: Compute the gradient of y with respect to w\n",
        "    first_grads = grad(y, w, retain_graph=True, create_graph=True)\n",
        "\n",
        "    # Elementwise products\n",
        "    elemwise_products = 0\n",
        "    for grad_elem, v_elem in zip(first_grads, v):\n",
        "        elemwise_products += torch.sum(grad_elem * v_elem)\n",
        "\n",
        "    # Second backprop: Compute gradient of elementwise product with respect to w\n",
        "    return_grads = grad(elemwise_products, w, create_graph=True)\n",
        "\n",
        "    return return_grads\n",
        "\n",
        "# Precompute s_test using stochastic estimation, now using a mini-batch from the training data\n",
        "def compute_s_test(model, z_test, v, loss_fn, scale=25, recursion_depth=5000, damping=0, batch_size=1, num_samples=10):\n",
        "    model.eval()\n",
        "    s_test = None\n",
        "\n",
        "    for j in range(num_samples):\n",
        "        print(\"Beginning of repeat #\", j+1)\n",
        "        h_estimate = v  # Start with the gradient of z_test\n",
        "\n",
        "        for i in range(recursion_depth):\n",
        "            # Sample a random mini-batch from the training data\n",
        "            batch_indices = random.sample(range(len(train_dataset)), batch_size)\n",
        "            train_batch = [train_dataset[i] for i in batch_indices]\n",
        "            train_batch_inputs = torch.stack([x[0].view(-1, 28*28).squeeze() for x in train_batch])\n",
        "            train_batch_labels = torch.tensor([x[1] for x in train_batch])\n",
        "\n",
        "            model.zero_grad()\n",
        "            output = model(train_batch_inputs)\n",
        "            loss = loss_fn(output, train_batch_labels)\n",
        "\n",
        "            # Compute the Hessian-vector product\n",
        "            hv = hvp(loss, list(model.parameters()), h_estimate)\n",
        "\n",
        "            # Recursively update h_estimate\n",
        "            h_estimate = [\n",
        "                _v + (1 - damping) * _h_e - _hv / scale\n",
        "                for _v, _h_e, _hv in zip(v, h_estimate, hv)\n",
        "            ]\n",
        "\n",
        "            # Detach to prevent graph retention and memory buildup\n",
        "            h_estimate = [h.detach() for h in h_estimate]\n",
        "\n",
        "            if i%1000 == 0:\n",
        "              print(\"Completed \", i, \" iterations\")\n",
        "\n",
        "        if s_test is None:\n",
        "            s_test = h_estimate\n",
        "        else:\n",
        "            s_test = [s + h for s, h in zip(s_test, h_estimate)]\n",
        "\n",
        "    # Average over the number of samples\n",
        "    s_test = [s / num_samples for s in s_test]\n",
        "\n",
        "    return s_test"
      ],
      "metadata": {
        "id": "e3zKOynsS9VI"
      },
      "execution_count": 15,
      "outputs": []
    },
    {
      "cell_type": "code",
      "source": [
        "v = compute_v(model, z_test, z_test_label, loss_fn)\n",
        "s_test = compute_s_test(model, z_test, v, loss_fn)"
      ],
      "metadata": {
        "id": "Y0sssOok_pz_",
        "colab": {
          "base_uri": "https://localhost:8080/"
        },
        "outputId": "f0cc4da0-dd37-4a9e-b297-52373644938a"
      },
      "execution_count": 16,
      "outputs": [
        {
          "output_type": "stream",
          "name": "stdout",
          "text": [
            "Beginning of repeat # 1\n",
            "Completed  0  iterations\n",
            "Completed  1000  iterations\n",
            "Completed  2000  iterations\n",
            "Completed  3000  iterations\n",
            "Completed  4000  iterations\n",
            "Beginning of repeat # 2\n",
            "Completed  0  iterations\n",
            "Completed  1000  iterations\n",
            "Completed  2000  iterations\n",
            "Completed  3000  iterations\n",
            "Completed  4000  iterations\n",
            "Beginning of repeat # 3\n",
            "Completed  0  iterations\n",
            "Completed  1000  iterations\n",
            "Completed  2000  iterations\n",
            "Completed  3000  iterations\n",
            "Completed  4000  iterations\n",
            "Beginning of repeat # 4\n",
            "Completed  0  iterations\n",
            "Completed  1000  iterations\n",
            "Completed  2000  iterations\n",
            "Completed  3000  iterations\n",
            "Completed  4000  iterations\n",
            "Beginning of repeat # 5\n",
            "Completed  0  iterations\n",
            "Completed  1000  iterations\n",
            "Completed  2000  iterations\n",
            "Completed  3000  iterations\n",
            "Completed  4000  iterations\n",
            "Beginning of repeat # 6\n",
            "Completed  0  iterations\n",
            "Completed  1000  iterations\n",
            "Completed  2000  iterations\n",
            "Completed  3000  iterations\n",
            "Completed  4000  iterations\n",
            "Beginning of repeat # 7\n",
            "Completed  0  iterations\n",
            "Completed  1000  iterations\n",
            "Completed  2000  iterations\n",
            "Completed  3000  iterations\n",
            "Completed  4000  iterations\n",
            "Beginning of repeat # 8\n",
            "Completed  0  iterations\n",
            "Completed  1000  iterations\n",
            "Completed  2000  iterations\n",
            "Completed  3000  iterations\n",
            "Completed  4000  iterations\n",
            "Beginning of repeat # 9\n",
            "Completed  0  iterations\n",
            "Completed  1000  iterations\n",
            "Completed  2000  iterations\n",
            "Completed  3000  iterations\n",
            "Completed  4000  iterations\n",
            "Beginning of repeat # 10\n",
            "Completed  0  iterations\n",
            "Completed  1000  iterations\n",
            "Completed  2000  iterations\n",
            "Completed  3000  iterations\n",
            "Completed  4000  iterations\n"
          ]
        }
      ]
    },
    {
      "cell_type": "code",
      "source": [
        "# returns a list where the ith index is the value of the influence for index i\n",
        "# of the training set\n",
        "def compute_influence(model, train_dataset, s_test, loss_fn):\n",
        "    model.eval()\n",
        "\n",
        "    # List to store influence scores for each training point\n",
        "    influence_scores = []\n",
        "\n",
        "    # Loop over each data point in the training set\n",
        "    for z in train_dataset:\n",
        "        # Extract input and label from training dataset point\n",
        "        z_input = z[0].view(-1, 28*28)\n",
        "        z_label = torch.tensor([z[1]])\n",
        "\n",
        "        # Compute the gradient of the loss of the training point wrt the model parameters (v)\n",
        "        v = compute_v(model, z_input, z_label, loss_fn)\n",
        "\n",
        "        # Now compute the dot product between s_test and v\n",
        "        influence = 0\n",
        "        for s, v_i in zip(s_test, v):\n",
        "            influence += torch.sum(s * v_i)\n",
        "\n",
        "        # Store the negative of the influence as we want -s_test . v\n",
        "        influence_scores.append(-influence.item())  # Append scalar value to the list\n",
        "\n",
        "    return influence_scores\n"
      ],
      "metadata": {
        "id": "CCklO7L_ygrT"
      },
      "execution_count": 17,
      "outputs": []
    },
    {
      "cell_type": "code",
      "source": [
        "influence_scores = compute_influence(model, train_dataset, s_test, loss_fn)"
      ],
      "metadata": {
        "id": "SBPv4i2e7KzV"
      },
      "execution_count": 18,
      "outputs": []
    },
    {
      "cell_type": "code",
      "source": [
        "def select_top_influential_points(influence_scores, top_n=500):\n",
        "    # Create a dictionary mapping index i to the influence score\n",
        "    influence_dict = {i: influence_scores[i] for i in range(len(influence_scores))}\n",
        "\n",
        "    # Sort the dictionary by the absolute value of the influence scores in descending order\n",
        "    sorted_influences = sorted(influence_dict.items(), key=lambda item: abs(item[1]), reverse=True)\n",
        "\n",
        "    # Select the top N most influential points\n",
        "    top_influential_dict = dict(sorted_influences[:top_n])\n",
        "\n",
        "    return top_influential_dict"
      ],
      "metadata": {
        "id": "-hOFbfSK_DXb"
      },
      "execution_count": 19,
      "outputs": []
    },
    {
      "cell_type": "code",
      "source": [
        "top_influential_dict = select_top_influential_points(influence_scores)\n",
        "print(len(top_influential_dict))"
      ],
      "metadata": {
        "colab": {
          "base_uri": "https://localhost:8080/"
        },
        "id": "lzKPHqXO_ErD",
        "outputId": "34dff903-e2d0-43a3-b4c4-c871bfb29262"
      },
      "execution_count": 20,
      "outputs": [
        {
          "output_type": "stream",
          "name": "stdout",
          "text": [
            "500\n"
          ]
        }
      ]
    },
    {
      "cell_type": "code",
      "source": [
        "print(top_influential_dict)"
      ],
      "metadata": {
        "colab": {
          "base_uri": "https://localhost:8080/"
        },
        "id": "1LsBPhMK_vz2",
        "outputId": "fd5a1d73-0348-4e09-ba94-b2aec41c4f07"
      },
      "execution_count": 21,
      "outputs": [
        {
          "output_type": "stream",
          "name": "stdout",
          "text": [
            "{27838: -1888.504638671875, 27795: -1807.0599365234375, 34140: -1707.6995849609375, 8708: -1669.60693359375, 48806: -1505.1011962890625, 26305: -1502.1468505859375, 3358: -1496.95361328125, 47207: -1468.4534912109375, 21182: -1443.5009765625, 25266: -1427.6785888671875, 49968: -1421.75048828125, 6398: -1418.408935546875, 25346: -1411.9080810546875, 35498: -1403.72509765625, 13656: -1382.3291015625, 48922: -1369.3443603515625, 18007: -1356.2271728515625, 9255: -1349.0557861328125, 58379: -1343.884033203125, 32031: -1323.140869140625, 33371: -1322.9954833984375, 15869: -1318.0118408203125, 52740: -1317.9273681640625, 49018: -1317.3077392578125, 48930: -1308.36962890625, 12546: -1300.30419921875, 56305: -1286.64892578125, 29670: -1275.9942626953125, 13488: -1266.1116943359375, 34846: -1258.08935546875, 33763: -1255.1480712890625, 40620: -1247.1812744140625, 22404: -1245.2318115234375, 24205: -1240.5933837890625, 16019: -1238.83740234375, 22459: -1233.349609375, 46329: -1231.065673828125, 37908: -1229.8917236328125, 40404: -1225.2442626953125, 2252: -1213.465576171875, 23888: -1213.2265625, 25328: -1211.2166748046875, 55488: -1209.4642333984375, 37260: -1206.5826416015625, 26194: -1203.467529296875, 30084: -1184.63720703125, 24111: -1168.7568359375, 43140: -1166.225341796875, 52972: -1155.6536865234375, 26399: -1151.9149169921875, 47930: -1143.02783203125, 53246: -1139.2027587890625, 19620: -1139.0223388671875, 28299: -1134.330810546875, 9089: -1131.04443359375, 13778: -1123.379150390625, 38752: -1105.5103759765625, 46296: -1104.62158203125, 24772: -1098.4742431640625, 28444: -1095.17431640625, 53619: -1086.293701171875, 37896: -1082.66845703125, 58086: -1082.4296875, 43256: -1073.7259521484375, 2042: -1067.3453369140625, 33729: -1064.467041015625, 3318: -1054.1370849609375, 53722: -1053.588134765625, 40298: -1053.2642822265625, 6827: -1048.212890625, 54694: -1045.4888916015625, 54402: -1044.4365234375, 52922: -1043.202880859375, 48904: -1034.7340087890625, 19016: -1031.5594482421875, 21468: -1030.180908203125, 48798: -1029.275390625, 18240: -1020.2787475585938, 35568: -1017.308837890625, 46592: -1016.6007690429688, 29936: -1004.56494140625, 58324: -1001.8878784179688, 51998: -1000.2705078125, 7383: -993.8216552734375, 15945: -993.3242797851562, 1436: -988.6651611328125, 1836: -986.7997436523438, 51038: -986.3119506835938, 11524: -982.2821655273438, 18227: -980.4658813476562, 42994: -978.3514404296875, 43747: -977.810546875, 24870: -975.1334228515625, 46442: -968.7830810546875, 52378: -968.1582641601562, 574: -963.2669067382812, 4866: 960.4984130859375, 44034: -959.892333984375, 40892: -958.544189453125, 3844: -957.0462646484375, 42097: -955.7118530273438, 36093: -952.3883056640625, 21660: -949.0776977539062, 16003: -948.4683837890625, 12109: -946.9569702148438, 5798: -945.0230712890625, 54898: -943.6790161132812, 42024: -942.3417358398438, 42804: -941.6033935546875, 50554: -941.2656860351562, 58421: -940.1708374023438, 52692: -940.0712890625, 21539: -938.8892822265625, 33745: -934.9721069335938, 5616: -934.7824096679688, 14686: -933.616943359375, 6016: -931.2406005859375, 43654: -929.5641479492188, 32850: -925.588134765625, 15980: -924.1851806640625, 19834: -921.1506958007812, 32656: -920.3067626953125, 28026: -914.7835083007812, 33837: -913.3765258789062, 13576: -900.6649169921875, 4471: 898.9053955078125, 25861: -898.8819580078125, 54398: -898.2099609375, 41773: -897.5350341796875, 13376: -893.15771484375, 46051: -889.5715942382812, 55715: -887.1736450195312, 40202: -886.854248046875, 58298: -884.7030029296875, 33875: -883.4357299804688, 42264: -881.3460693359375, 46480: -879.5021362304688, 51798: -876.0582885742188, 25883: -874.1414794921875, 23165: -872.6290893554688, 42220: -872.1268920898438, 6658: -870.7391357421875, 55694: -865.37841796875, 49946: -861.8961181640625, 47946: -857.0408935546875, 13212: -855.8905029296875, 50000: -850.728759765625, 30072: -847.44970703125, 26403: -845.4120483398438, 25034: -843.8180541992188, 19238: -843.692626953125, 39820: -843.0838623046875, 47352: -842.2960815429688, 9293: -841.394775390625, 17354: -841.0321655273438, 9696: -840.7355346679688, 16510: -839.283203125, 48788: -838.8849487304688, 4742: -838.4752197265625, 11951: -836.4508056640625, 29958: -833.6973876953125, 22468: -832.2135620117188, 22674: -828.4725341796875, 856: -826.3453979492188, 36488: -825.9312744140625, 34828: 824.6895751953125, 10450: -821.7698974609375, 23986: -819.437744140625, 52101: -813.4290161132812, 25941: -811.3660888671875, 46918: -811.2769775390625, 22172: -810.8035278320312, 35969: -810.7601928710938, 20708: -808.2440185546875, 48642: -807.70458984375, 23320: -805.4674072265625, 21726: -805.2306518554688, 3435: -804.0042724609375, 55628: -802.7771606445312, 53554: -795.5460205078125, 15008: -795.3494873046875, 28032: -794.995849609375, 47361: -788.7998046875, 5702: -787.178466796875, 25809: -786.7674560546875, 878: -786.1448364257812, 23076: -785.9445190429688, 48065: -784.7548828125, 55485: -783.5355834960938, 4328: -781.3153686523438, 34204: -779.5343627929688, 5148: -779.051025390625, 54199: -777.5314331054688, 52446: -777.2813720703125, 17442: -774.3500366210938, 34368: -773.0016479492188, 3048: -772.0067749023438, 38990: -771.8365478515625, 24835: -771.819091796875, 17409: -771.6910400390625, 31488: -771.6405029296875, 23157: -771.1261596679688, 29800: -769.3104248046875, 38892: -768.8880615234375, 6362: -767.5252075195312, 20252: -767.5245971679688, 27960: -763.7554931640625, 3824: -762.9581298828125, 28916: -762.4340209960938, 6342: -762.2328491210938, 48465: -760.8926391601562, 56204: -760.04931640625, 36815: -758.2274169921875, 9602: -757.1396484375, 9078: -756.8399658203125, 21610: -756.1414794921875, 33845: -754.3069458007812, 4257: -753.49365234375, 38116: -752.35009765625, 19976: -748.4221801757812, 34548: -748.226806640625, 44837: -747.64697265625, 1348: -747.6249389648438, 5127: -747.471435546875, 39445: -745.573486328125, 11554: -745.2314453125, 53591: -745.0692138671875, 10466: -742.5702514648438, 17646: -741.0365600585938, 54530: -740.466064453125, 47157: -740.2642211914062, 41781: -738.0593872070312, 23482: -737.968017578125, 19579: -737.21630859375, 42178: -736.451904296875, 13750: -736.43310546875, 33760: -735.9945068359375, 35814: -735.9486083984375, 33331: -732.65966796875, 15474: -732.6174926757812, 6711: -732.1388549804688, 32106: 730.9004516601562, 44240: 730.186279296875, 32490: -729.7162475585938, 29791: -728.1134033203125, 56616: -727.4323120117188, 37309: 727.0943603515625, 48300: -725.6478881835938, 40087: 725.3546142578125, 4638: -725.123046875, 37188: -723.9132080078125, 7295: -723.0830078125, 49948: -722.1473999023438, 42951: -720.334716796875, 39317: -720.021240234375, 24906: -719.2040405273438, 44058: -719.0562133789062, 10518: -718.8280029296875, 13906: -716.5050048828125, 540: -715.7562255859375, 18960: -714.9126586914062, 50195: -713.4197998046875, 8794: -712.5640869140625, 19883: -708.1205444335938, 36957: -707.733154296875, 35208: -707.6973876953125, 38053: -707.553466796875, 10762: -706.3942260742188, 30398: -704.5755615234375, 10214: -703.9837036132812, 51675: -703.9356079101562, 55179: -703.0309448242188, 56134: -702.6558837890625, 13294: -702.5661010742188, 30974: -698.686279296875, 18039: -697.0568237304688, 19855: -696.3778686523438, 56645: 695.7880859375, 44: -695.4916381835938, 55353: -695.0852661132812, 4988: -693.3132934570312, 49810: -693.117431640625, 22182: -692.3031005859375, 58654: -687.5148315429688, 35022: -686.7582397460938, 37555: 685.8716430664062, 44799: -684.4546508789062, 59598: -684.053955078125, 27625: -683.284423828125, 16530: -682.4362182617188, 21950: -682.0617065429688, 26048: -681.2058715820312, 30254: -679.1317138671875, 43476: -678.642822265625, 22536: -678.0906982421875, 41704: -673.0560913085938, 17460: -672.5835571289062, 15937: -672.3744506835938, 50378: -671.08740234375, 45814: -670.6883544921875, 52753: 670.4714965820312, 30740: -670.1572265625, 37065: -670.0905151367188, 22304: 669.10009765625, 46379: -668.6581420898438, 32764: -667.8780517578125, 13109: 666.7344970703125, 52027: -664.7855834960938, 20220: 664.6279907226562, 3810: -663.2339477539062, 24099: -662.9655151367188, 459: -660.6070556640625, 29610: -658.137939453125, 13745: -658.0648193359375, 39565: -657.9822387695312, 21306: -657.6338500976562, 33357: -657.2982788085938, 21930: 654.868896484375, 12086: -654.5623168945312, 5252: -654.4276733398438, 1862: -654.0047607421875, 16071: -653.5364379882812, 45015: -653.4732055664062, 46736: -652.2821655273438, 55509: -650.40576171875, 18390: 646.7415161132812, 56288: -646.5806884765625, 18285: -645.7579956054688, 3462: -644.7767333984375, 47749: 643.8340454101562, 55796: -642.9293823242188, 24784: -642.81396484375, 21866: -642.6780395507812, 23287: -640.6168212890625, 22598: -637.1558227539062, 34170: -636.8272705078125, 6754: -633.41796875, 24145: -633.1966552734375, 3174: -632.6005859375, 17328: -632.0411376953125, 37439: 631.7968139648438, 25915: -630.95556640625, 41820: -629.3169555664062, 24326: -629.262939453125, 50950: -627.9871826171875, 50260: -627.1954345703125, 53758: 627.0275268554688, 31952: -625.5419311523438, 26998: -625.1171875, 41822: 624.9667358398438, 37996: -624.2456665039062, 44146: -623.4735717773438, 34646: 623.2966918945312, 48998: -621.4451904296875, 7660: -620.63818359375, 43090: -620.5015258789062, 33911: -620.2490234375, 41776: 620.1875, 25867: -620.17822265625, 21606: -620.1229248046875, 11233: -619.3797607421875, 16029: -619.2060546875, 5270: -617.795166015625, 7030: -616.967041015625, 44510: -616.3250732421875, 11797: -615.406982421875, 21938: 614.404541015625, 3051: -612.7914428710938, 18299: -611.7005004882812, 27840: -610.8372802734375, 953: -610.8170166015625, 3108: -609.8464965820312, 30386: -608.4761962890625, 52917: -608.4697875976562, 33029: -608.1091918945312, 13144: -607.8641357421875, 24780: 607.5514526367188, 57040: -605.8976440429688, 38804: -605.86083984375, 17966: -605.3199462890625, 15076: -605.0114135742188, 14548: -604.85595703125, 11104: -604.6380615234375, 26849: -604.4454345703125, 48045: -603.0465087890625, 54084: -602.5728149414062, 55312: -600.9103393554688, 51940: -598.700439453125, 35794: -596.997314453125, 17820: 595.8760986328125, 37658: 595.4979858398438, 12814: -595.48828125, 20868: -595.3732299804688, 42434: -594.8088989257812, 38772: -594.2882080078125, 24512: -593.6605834960938, 54008: -593.081298828125, 43065: -592.7459716796875, 45043: -591.8545532226562, 5086: -590.6098022460938, 55926: -589.267822265625, 9141: -588.4943237304688, 40636: 587.9340209960938, 13670: -587.8763427734375, 9561: -585.7297973632812, 40691: 584.9033813476562, 48666: -583.7749633789062, 37991: 582.9136962890625, 35914: -582.6162719726562, 39301: -582.3198852539062, 53514: -581.8631591796875, 57856: -581.0977783203125, 19280: -580.4785766601562, 4632: -578.8316650390625, 42140: -577.323974609375, 26324: -577.1810913085938, 11708: -576.7978515625, 26662: -576.5866088867188, 42083: -576.1944580078125, 16096: 575.4705200195312, 17810: -573.7857666015625, 34716: 573.19775390625, 26419: -573.1279907226562, 21420: 573.0166015625, 57660: -572.9967041015625, 7794: -572.892578125, 53547: 570.3462524414062, 33421: -569.6466064453125, 35582: 568.4592895507812, 43677: -567.900146484375, 22488: -567.657470703125, 16208: 567.3683471679688, 15022: -567.16845703125, 40752: -566.7745971679688, 13190: 566.7448120117188, 29757: -566.1732177734375, 54797: -565.4158325195312, 27640: -564.59814453125, 14107: -564.1410522460938, 47925: 562.8756713867188, 29476: -562.55126953125, 7422: -562.0504150390625, 50312: -560.2703247070312, 4276: -560.0955200195312, 20902: -558.6502075195312, 24770: 558.2863159179688, 3332: -557.2479248046875, 45712: -556.9354248046875, 57612: -556.511474609375, 41267: 555.7366943359375, 31667: 553.7757568359375, 19465: -553.201416015625, 54739: -552.4105834960938, 52664: -552.1051025390625, 41299: 550.8668823242188, 28734: 550.8324584960938, 15443: -550.4102783203125, 1722: -550.3378295898438, 14431: -550.2652587890625, 41494: -550.0260620117188, 52828: -548.4487915039062, 16366: -547.7406005859375, 50417: -545.617919921875, 47720: 544.0468139648438, 48485: 543.194580078125, 11296: -542.9143676757812, 16462: -542.8473510742188, 42117: -542.4957275390625, 28137: -541.283203125, 5660: -541.220947265625, 8795: -541.2062377929688, 57336: -540.8021240234375, 43599: -540.6775512695312, 36048: -538.8056640625, 37652: -537.8394775390625, 17574: -537.79541015625, 23119: -537.3009033203125, 48163: -536.9742431640625, 42114: -536.0147094726562, 4373: 534.9757690429688, 33009: -533.7542114257812, 47329: -533.4664306640625, 43672: -533.447998046875, 10260: -532.8551025390625, 59778: -532.7449340820312, 32730: 531.1136474609375, 20492: -530.6407470703125, 27248: -530.2244262695312, 19536: -530.0210571289062, 11244: -529.96923828125, 40020: -528.6492919921875, 1007: -528.09130859375, 37169: -527.6625366210938, 18244: 527.345458984375, 8055: -525.9782104492188, 39982: -525.5361328125, 29823: 525.2373046875, 3491: -523.80810546875, 21278: -523.4533081054688, 59815: -523.1781616210938}\n"
          ]
        }
      ]
    },
    {
      "cell_type": "code",
      "source": [
        "# example of a negatively influential example\n",
        "\n",
        "image, label = get_item(27838)\n",
        "y_pred = model(image.view(-1, 28*28))\n",
        "_, predicted = torch.max(y_pred.data, 1)\n",
        "\n",
        "# z_test\n",
        "z_test = image.view(-1, 28*28)\n",
        "z_test_label = torch.tensor([train_dataset[27838][1]])\n",
        "\n",
        "print(\"predicted value: \", predicted)\n",
        "print(\"actual value: \", z_test_label)\n",
        "show_image(27838)"
      ],
      "metadata": {
        "colab": {
          "base_uri": "https://localhost:8080/",
          "height": 465
        },
        "id": "CqwEA6XX_4Su",
        "outputId": "c8d70e19-6c61-4373-cc5e-61f31bcec2d0"
      },
      "execution_count": 22,
      "outputs": [
        {
          "output_type": "stream",
          "name": "stdout",
          "text": [
            "predicted value:  tensor([8])\n",
            "actual value:  tensor([3])\n"
          ]
        },
        {
          "output_type": "display_data",
          "data": {
            "text/plain": [
              "<Figure size 640x480 with 1 Axes>"
            ],
            "image/png": "[encoded data removed]"
          },
          "metadata": {}
        }
      ]
    },
    {
      "cell_type": "code",
      "source": [
        "# example of a positively influential example\n",
        "\n",
        "image, label = get_item(4866)\n",
        "y_pred = model(image.view(-1, 28*28))\n",
        "_, predicted = torch.max(y_pred.data, 1)\n",
        "\n",
        "# z_test\n",
        "z_test = image.view(-1, 28*28)\n",
        "z_test_label = torch.tensor([train_dataset[4866][1]])\n",
        "\n",
        "print(\"predicted value: \", predicted)\n",
        "print(\"actual value: \", z_test_label)\n",
        "show_image(4866)"
      ],
      "metadata": {
        "id": "3EwrTHMWAK6N",
        "colab": {
          "base_uri": "https://localhost:8080/",
          "height": 465
        },
        "outputId": "9b46374d-130d-4f10-9b4a-de49004284db"
      },
      "execution_count": 23,
      "outputs": [
        {
          "output_type": "stream",
          "name": "stdout",
          "text": [
            "predicted value:  tensor([7])\n",
            "actual value:  tensor([3])\n"
          ]
        },
        {
          "output_type": "display_data",
          "data": {
            "text/plain": [
              "<Figure size 640x480 with 1 Axes>"
            ],
            "image/png": "[encoded data removed]"
          },
          "metadata": {}
        }
      ]
    },
    {
      "cell_type": "code",
      "source": [
        "# define a training function\n",
        "def train(model, epochs, training_loader, testing_loader, optimizer):\n",
        "  losses = []\n",
        "  accuracies = []\n",
        "\n",
        "  for epoch in range(epochs):\n",
        "      for i, (images, labels) in enumerate(training_loader):\n",
        "          optimizer.zero_grad()\n",
        "          outputs = model(images.view(-1, 28*28))\n",
        "          loss = loss_fn(outputs, labels)\n",
        "\n",
        "          loss.backward()\n",
        "          optimizer.step()\n",
        "      losses.append(loss.item())\n",
        "\n",
        "      correct = 0\n",
        "      for images, labels in testing_loader:\n",
        "          outputs = model(images.view(-1, 28*28))\n",
        "          _, predicted = torch.max(outputs.data, 1)\n",
        "          correct += (predicted == labels).sum()\n",
        "      accuracy = 100 * (correct.item()) / len(test_dataset)\n",
        "      accuracies.append(accuracy)\n",
        "      print('Epoch: {}. Loss: {}. Accuracy: {}'.format(epoch, loss.item(), accuracy))"
      ],
      "metadata": {
        "id": "YzPypTe74uPZ"
      },
      "execution_count": 24,
      "outputs": []
    },
    {
      "cell_type": "code",
      "source": [
        "def remove_element_from_dataset(dataset, remove_index):\n",
        "    # Get the list of all indices except the one to be removed\n",
        "    indices = list(range(len(dataset)))\n",
        "    indices.pop(remove_index)\n",
        "\n",
        "    # Create a new dataset as a subset using the remaining indices\n",
        "    new_dataset = Subset(dataset, indices)\n",
        "\n",
        "    return new_dataset"
      ],
      "metadata": {
        "id": "FI1NrbjB6FTl"
      },
      "execution_count": 25,
      "outputs": []
    },
    {
      "cell_type": "code",
      "source": [
        "def leave_one_out_retrain(z_test, z_test_label, old_model=model, top_influential=top_influential_dict):\n",
        "  # compute old test loss\n",
        "  old_loss = loss_fn(old_model(z_test), z_test_label)\n",
        "\n",
        "  change_in_test_loss = []\n",
        "  old_model.eval()\n",
        "  count = 0\n",
        "  for idx, val in top_influential.items():\n",
        "    new_train_dataset = remove_element_from_dataset(train_dataset, remove_index=idx)\n",
        "    new_train_loader = DataLoader(dataset=new_train_dataset, batch_size=batch_size, shuffle=True)\n",
        "\n",
        "    new_model = LRModel(n_inputs, n_outputs)\n",
        "    count += 1\n",
        "    print(\"Retraining model #\", count)\n",
        "    optimizer = optim.SGD(new_model.parameters(), lr=0.001)\n",
        "    train(model=new_model, epochs=10, training_loader=train_loader, testing_loader=test_loader, optimizer=optimizer)\n",
        "    new_loss = loss_fn(new_model(z_test), z_test_label)\n",
        "    change_in_test_loss.append(new_loss - old_loss)\n",
        "\n",
        "  return change_in_test_loss"
      ],
      "metadata": {
        "id": "dHqBBIwf5GFV"
      },
      "execution_count": 26,
      "outputs": []
    },
    {
      "cell_type": "code",
      "source": [
        "# loss function\n",
        "loss_fn = nn.CrossEntropyLoss()\n",
        "\n",
        "image, label = get_item(3476, dataset='test')\n",
        "y_pred = model(image.view(-1, 28*28))\n",
        "_, predicted = torch.max(y_pred.data, 1)\n",
        "\n",
        "# z_test\n",
        "z_test = image.view(-1, 28*28)\n",
        "z_test_label = torch.tensor([test_dataset[3476][1]])"
      ],
      "metadata": {
        "id": "ZGqZ3FD28FQO"
      },
      "execution_count": 27,
      "outputs": []
    },
    {
      "cell_type": "code",
      "source": [
        "change_in_test_loss = leave_one_out_retrain(z_test, z_test_label)"
      ],
      "metadata": {
        "colab": {
          "base_uri": "https://localhost:8080/",
          "height": 339
        },
        "id": "s365kiYQ8YtV",
        "outputId": "41e5e6a4-8b77-4a73-e2d4-4e7385699236"
      },
      "execution_count": 28,
      "outputs": [
        {
          "output_type": "stream",
          "name": "stdout",
          "text": [
            "Retraining model # 1\n",
            "Epoch: 0. Loss: 2.2016775608062744. Accuracy: 57.49\n",
            "Epoch: 1. Loss: 2.1185696125030518. Accuracy: 72.59\n"
          ]
        },
        {
          "output_type": "error",
          "ename": "KeyboardInterrupt",
          "evalue": "",
          "traceback": [
            "\u001b[0;31m---------------------------------------------------------------------------\u001b[0m",
            "\u001b[0;31mKeyboardInterrupt\u001b[0m                         Traceback (most recent call last)",
            "\u001b[0;32m<ipython-input-28-3f6049d74405>\u001b[0m in \u001b[0;36m<cell line: 1>\u001b[0;34m()\u001b[0m\n\u001b[0;32m----> 1\u001b[0;31m \u001b[0mchange_in_test_loss\u001b[0m \u001b[0;34m=\u001b[0m \u001b[0mleave_one_out_retrain\u001b[0m\u001b[0;34m(\u001b[0m\u001b[0mz_test\u001b[0m\u001b[0;34m,\u001b[0m \u001b[0mz_test_label\u001b[0m\u001b[0;34m)\u001b[0m\u001b[0;34m\u001b[0m\u001b[0;34m\u001b[0m\u001b[0m\n\u001b[0m",
            "\u001b[0;32m<ipython-input-26-3a222f0226cf>\u001b[0m in \u001b[0;36mleave_one_out_retrain\u001b[0;34m(z_test, z_test_label, old_model, top_influential)\u001b[0m\n\u001b[1;32m     14\u001b[0m     \u001b[0mprint\u001b[0m\u001b[0;34m(\u001b[0m\u001b[0;34m\"Retraining model #\"\u001b[0m\u001b[0;34m,\u001b[0m \u001b[0mcount\u001b[0m\u001b[0;34m)\u001b[0m\u001b[0;34m\u001b[0m\u001b[0;34m\u001b[0m\u001b[0m\n\u001b[1;32m     15\u001b[0m     \u001b[0moptimizer\u001b[0m \u001b[0;34m=\u001b[0m \u001b[0moptim\u001b[0m\u001b[0;34m.\u001b[0m\u001b[0mSGD\u001b[0m\u001b[0;34m(\u001b[0m\u001b[0mnew_model\u001b[0m\u001b[0;34m.\u001b[0m\u001b[0mparameters\u001b[0m\u001b[0;34m(\u001b[0m\u001b[0;34m)\u001b[0m\u001b[0;34m,\u001b[0m \u001b[0mlr\u001b[0m\u001b[0;34m=\u001b[0m\u001b[0;36m0.001\u001b[0m\u001b[0;34m)\u001b[0m\u001b[0;34m\u001b[0m\u001b[0;34m\u001b[0m\u001b[0m\n\u001b[0;32m---> 16\u001b[0;31m     \u001b[0mtrain\u001b[0m\u001b[0;34m(\u001b[0m\u001b[0mmodel\u001b[0m\u001b[0;34m=\u001b[0m\u001b[0mnew_model\u001b[0m\u001b[0;34m,\u001b[0m \u001b[0mepochs\u001b[0m\u001b[0;34m=\u001b[0m\u001b[0;36m10\u001b[0m\u001b[0;34m,\u001b[0m \u001b[0mtraining_loader\u001b[0m\u001b[0;34m=\u001b[0m\u001b[0mtrain_loader\u001b[0m\u001b[0;34m,\u001b[0m \u001b[0mtesting_loader\u001b[0m\u001b[0;34m=\u001b[0m\u001b[0mtest_loader\u001b[0m\u001b[0;34m,\u001b[0m \u001b[0moptimizer\u001b[0m\u001b[0;34m=\u001b[0m\u001b[0moptimizer\u001b[0m\u001b[0;34m)\u001b[0m\u001b[0;34m\u001b[0m\u001b[0;34m\u001b[0m\u001b[0m\n\u001b[0m\u001b[1;32m     17\u001b[0m     \u001b[0mnew_loss\u001b[0m \u001b[0;34m=\u001b[0m \u001b[0mloss_fn\u001b[0m\u001b[0;34m(\u001b[0m\u001b[0mnew_model\u001b[0m\u001b[0;34m(\u001b[0m\u001b[0mz_test\u001b[0m\u001b[0;34m)\u001b[0m\u001b[0;34m,\u001b[0m \u001b[0mz_test_label\u001b[0m\u001b[0;34m)\u001b[0m\u001b[0;34m\u001b[0m\u001b[0;34m\u001b[0m\u001b[0m\n\u001b[1;32m     18\u001b[0m     \u001b[0mchange_in_test_loss\u001b[0m\u001b[0;34m.\u001b[0m\u001b[0mappend\u001b[0m\u001b[0;34m(\u001b[0m\u001b[0mnew_loss\u001b[0m \u001b[0;34m-\u001b[0m \u001b[0mold_loss\u001b[0m\u001b[0;34m)\u001b[0m\u001b[0;34m\u001b[0m\u001b[0;34m\u001b[0m\u001b[0m\n",
            "\u001b[0;32m<ipython-input-24-a7bc95c2b8ac>\u001b[0m in \u001b[0;36mtrain\u001b[0;34m(model, epochs, training_loader, testing_loader, optimizer)\u001b[0m\n\u001b[1;32m     10\u001b[0m           \u001b[0mloss\u001b[0m \u001b[0;34m=\u001b[0m \u001b[0mloss_fn\u001b[0m\u001b[0;34m(\u001b[0m\u001b[0moutputs\u001b[0m\u001b[0;34m,\u001b[0m \u001b[0mlabels\u001b[0m\u001b[0;34m)\u001b[0m\u001b[0;34m\u001b[0m\u001b[0;34m\u001b[0m\u001b[0m\n\u001b[1;32m     11\u001b[0m \u001b[0;34m\u001b[0m\u001b[0m\n\u001b[0;32m---> 12\u001b[0;31m           \u001b[0mloss\u001b[0m\u001b[0;34m.\u001b[0m\u001b[0mbackward\u001b[0m\u001b[0;34m(\u001b[0m\u001b[0;34m)\u001b[0m\u001b[0;34m\u001b[0m\u001b[0;34m\u001b[0m\u001b[0m\n\u001b[0m\u001b[1;32m     13\u001b[0m           \u001b[0moptimizer\u001b[0m\u001b[0;34m.\u001b[0m\u001b[0mstep\u001b[0m\u001b[0;34m(\u001b[0m\u001b[0;34m)\u001b[0m\u001b[0;34m\u001b[0m\u001b[0;34m\u001b[0m\u001b[0m\n\u001b[1;32m     14\u001b[0m       \u001b[0mlosses\u001b[0m\u001b[0;34m.\u001b[0m\u001b[0mappend\u001b[0m\u001b[0;34m(\u001b[0m\u001b[0mloss\u001b[0m\u001b[0;34m.\u001b[0m\u001b[0mitem\u001b[0m\u001b[0;34m(\u001b[0m\u001b[0;34m)\u001b[0m\u001b[0;34m)\u001b[0m\u001b[0;34m\u001b[0m\u001b[0;34m\u001b[0m\u001b[0m\n",
            "\u001b[0;32m/usr/local/lib/python3.10/dist-packages/torch/_tensor.py\u001b[0m in \u001b[0;36mbackward\u001b[0;34m(self, gradient, retain_graph, create_graph, inputs)\u001b[0m\n\u001b[1;32m    519\u001b[0m                 \u001b[0minputs\u001b[0m\u001b[0;34m=\u001b[0m\u001b[0minputs\u001b[0m\u001b[0;34m,\u001b[0m\u001b[0;34m\u001b[0m\u001b[0;34m\u001b[0m\u001b[0m\n\u001b[1;32m    520\u001b[0m             )\n\u001b[0;32m--> 521\u001b[0;31m         torch.autograd.backward(\n\u001b[0m\u001b[1;32m    522\u001b[0m             \u001b[0mself\u001b[0m\u001b[0;34m,\u001b[0m \u001b[0mgradient\u001b[0m\u001b[0;34m,\u001b[0m \u001b[0mretain_graph\u001b[0m\u001b[0;34m,\u001b[0m \u001b[0mcreate_graph\u001b[0m\u001b[0;34m,\u001b[0m \u001b[0minputs\u001b[0m\u001b[0;34m=\u001b[0m\u001b[0minputs\u001b[0m\u001b[0;34m\u001b[0m\u001b[0;34m\u001b[0m\u001b[0m\n\u001b[1;32m    523\u001b[0m         )\n",
            "\u001b[0;32m/usr/local/lib/python3.10/dist-packages/torch/autograd/__init__.py\u001b[0m in \u001b[0;36mbackward\u001b[0;34m(tensors, grad_tensors, retain_graph, create_graph, grad_variables, inputs)\u001b[0m\n\u001b[1;32m    287\u001b[0m     \u001b[0;31m# some Python versions print out the first line of a multi-line function\u001b[0m\u001b[0;34m\u001b[0m\u001b[0;34m\u001b[0m\u001b[0m\n\u001b[1;32m    288\u001b[0m     \u001b[0;31m# calls in the traceback and some print out the last line\u001b[0m\u001b[0;34m\u001b[0m\u001b[0;34m\u001b[0m\u001b[0m\n\u001b[0;32m--> 289\u001b[0;31m     _engine_run_backward(\n\u001b[0m\u001b[1;32m    290\u001b[0m         \u001b[0mtensors\u001b[0m\u001b[0;34m,\u001b[0m\u001b[0;34m\u001b[0m\u001b[0;34m\u001b[0m\u001b[0m\n\u001b[1;32m    291\u001b[0m         \u001b[0mgrad_tensors_\u001b[0m\u001b[0;34m,\u001b[0m\u001b[0;34m\u001b[0m\u001b[0;34m\u001b[0m\u001b[0m\n",
            "\u001b[0;32m/usr/local/lib/python3.10/dist-packages/torch/autograd/graph.py\u001b[0m in \u001b[0;36m_engine_run_backward\u001b[0;34m(t_outputs, *args, **kwargs)\u001b[0m\n\u001b[1;32m    766\u001b[0m         \u001b[0munregister_hooks\u001b[0m \u001b[0;34m=\u001b[0m \u001b[0m_register_logging_hooks_on_whole_graph\u001b[0m\u001b[0;34m(\u001b[0m\u001b[0mt_outputs\u001b[0m\u001b[0;34m)\u001b[0m\u001b[0;34m\u001b[0m\u001b[0;34m\u001b[0m\u001b[0m\n\u001b[1;32m    767\u001b[0m     \u001b[0;32mtry\u001b[0m\u001b[0;34m:\u001b[0m\u001b[0;34m\u001b[0m\u001b[0;34m\u001b[0m\u001b[0m\n\u001b[0;32m--> 768\u001b[0;31m         return Variable._execution_engine.run_backward(  # Calls into the C++ engine to run the backward pass\n\u001b[0m\u001b[1;32m    769\u001b[0m             \u001b[0mt_outputs\u001b[0m\u001b[0;34m,\u001b[0m \u001b[0;34m*\u001b[0m\u001b[0margs\u001b[0m\u001b[0;34m,\u001b[0m \u001b[0;34m**\u001b[0m\u001b[0mkwargs\u001b[0m\u001b[0;34m\u001b[0m\u001b[0;34m\u001b[0m\u001b[0m\n\u001b[1;32m    770\u001b[0m         )  # Calls into the C++ engine to run the backward pass\n",
            "\u001b[0;31mKeyboardInterrupt\u001b[0m: "
          ]
        }
      ]
    },
    {
      "cell_type": "code",
      "source": [],
      "metadata": {
        "id": "AH0ciTmv8t4b"
      },
      "execution_count": null,
      "outputs": []
    }
  ]
}
{
  "nbformat": 4,
  "nbformat_minor": 0,
  "metadata": {
    "colab": {
      "provenance": [],
      "authorship_tag": "ABX9TyP2QxODY5e1InJBAhMcZ1pY",
      "include_colab_link": true
    },
    "kernelspec": {
      "name": "python3",
      "display_name": "Python 3"
    },
    "language_info": {
      "name": "python"
    }
  },
  "cells": [
    {
      "cell_type": "markdown",
      "metadata": {
        "id": "view-in-github",
        "colab_type": "text"
      },
      "source": [
        "<a href=\"https://colab.research.google.com/github/nebulous05/influence-functions-pytorch/blob/main/influence_functions.ipynb\" target=\"_parent\"><img src=\"https://colab.research.google.com/assets/colab-badge.svg\" alt=\"Open In Colab\"/></a>"
      ]
    },
    {
      "cell_type": "code",
      "execution_count": 1,
      "metadata": {
        "id": "NKBl5oYXwcki"
      },
      "outputs": [],
      "source": [
        "### PROCEDURE ###\n",
        "\n",
        "# Step 1: Train a model on the 10-class MNIST dataset\n",
        "# Step 2: Arbitrarily select a wrongly-classified test point, z_test\n",
        "# Step 3: Compute the influence I_up,loss(z, z_test) for every training point z\n",
        "# Step 4: Select the 500 training points with the largest |I_up,loss(z, z_test)|\n",
        "# Step 5: Compute the actual change in test loss after removing the point and\n",
        "#         retraining for each of the 500 points\n",
        "# Step 6: Plot -1/n (I_up,loss(z, z_test)) vs. actual change in test loss for\n",
        "#         each of the 500 points"
      ]
    },
    {
      "cell_type": "code",
      "source": [
        "# Step 2: Arbitrarily select a wrongly-classified test point, z_test"
      ],
      "metadata": {
        "id": "RaCfGKqRwjI2"
      },
      "execution_count": 2,
      "outputs": []
    },
    {
      "cell_type": "code",
      "source": [
        "import torch\n",
        "import torch.nn as nn\n",
        "import torch.optim as optim\n",
        "import torchvision\n",
        "from torchvision import datasets, transforms\n",
        "from torch.utils.data import DataLoader, random_split\n",
        "import matplotlib.pyplot as plt\n",
        "import numpy as np\n",
        "import random\n",
        "from torch.autograd import grad\n",
        "from torch.autograd.functional import hvp"
      ],
      "metadata": {
        "id": "7F1A0iOpwm8o"
      },
      "execution_count": 3,
      "outputs": []
    },
    {
      "cell_type": "code",
      "source": [
        "# data is torch.FloatTensor; shape = (1, 28, 28)\n",
        "# load train data: 60,000 samples\n",
        "train_dataset = datasets.MNIST(root='./data', train=True, download=True, transform=transforms.ToTensor())\n",
        "\n",
        "#loading test data: 10,000 samples\n",
        "test_dataset = datasets.MNIST(root='./data', train=False, transform=transforms.ToTensor())"
      ],
      "metadata": {
        "colab": {
          "base_uri": "https://localhost:8080/"
        },
        "id": "kmn3n0bpwpwI",
        "outputId": "e95856ad-b011-4b97-897b-a8da24f5cee1"
      },
      "execution_count": 4,
      "outputs": [
        {
          "output_type": "stream",
          "name": "stdout",
          "text": [
            "Downloading http://yann.lecun.com/exdb/mnist/train-images-idx3-ubyte.gz\n",
            "Failed to download (trying next):\n",
            "HTTP Error 403: Forbidden\n",
            "\n",
            "Downloading https://ossci-datasets.s3.amazonaws.com/mnist/train-images-idx3-ubyte.gz\n",
            "Downloading https://ossci-datasets.s3.amazonaws.com/mnist/train-images-idx3-ubyte.gz to ./data/MNIST/raw/train-images-idx3-ubyte.gz\n"
          ]
        },
        {
          "output_type": "stream",
          "name": "stderr",
          "text": [
            "100%|██████████| 9912422/9912422 [00:00<00:00, 33922491.79it/s]\n"
          ]
        },
        {
          "output_type": "stream",
          "name": "stdout",
          "text": [
            "Extracting ./data/MNIST/raw/train-images-idx3-ubyte.gz to ./data/MNIST/raw\n",
            "\n",
            "Downloading http://yann.lecun.com/exdb/mnist/train-labels-idx1-ubyte.gz\n",
            "Failed to download (trying next):\n",
            "HTTP Error 403: Forbidden\n",
            "\n",
            "Downloading https://ossci-datasets.s3.amazonaws.com/mnist/train-labels-idx1-ubyte.gz\n",
            "Downloading https://ossci-datasets.s3.amazonaws.com/mnist/train-labels-idx1-ubyte.gz to ./data/MNIST/raw/train-labels-idx1-ubyte.gz\n"
          ]
        },
        {
          "output_type": "stream",
          "name": "stderr",
          "text": [
            "100%|██████████| 28881/28881 [00:00<00:00, 1066898.84it/s]\n"
          ]
        },
        {
          "output_type": "stream",
          "name": "stdout",
          "text": [
            "Extracting ./data/MNIST/raw/train-labels-idx1-ubyte.gz to ./data/MNIST/raw\n",
            "\n",
            "Downloading http://yann.lecun.com/exdb/mnist/t10k-images-idx3-ubyte.gz\n",
            "Failed to download (trying next):\n",
            "HTTP Error 403: Forbidden\n",
            "\n",
            "Downloading https://ossci-datasets.s3.amazonaws.com/mnist/t10k-images-idx3-ubyte.gz\n",
            "Downloading https://ossci-datasets.s3.amazonaws.com/mnist/t10k-images-idx3-ubyte.gz to ./data/MNIST/raw/t10k-images-idx3-ubyte.gz\n"
          ]
        },
        {
          "output_type": "stream",
          "name": "stderr",
          "text": [
            "100%|██████████| 1648877/1648877 [00:00<00:00, 9557603.43it/s]\n"
          ]
        },
        {
          "output_type": "stream",
          "name": "stdout",
          "text": [
            "Extracting ./data/MNIST/raw/t10k-images-idx3-ubyte.gz to ./data/MNIST/raw\n",
            "\n",
            "Downloading http://yann.lecun.com/exdb/mnist/t10k-labels-idx1-ubyte.gz\n",
            "Failed to download (trying next):\n",
            "HTTP Error 403: Forbidden\n",
            "\n",
            "Downloading https://ossci-datasets.s3.amazonaws.com/mnist/t10k-labels-idx1-ubyte.gz\n",
            "Downloading https://ossci-datasets.s3.amazonaws.com/mnist/t10k-labels-idx1-ubyte.gz to ./data/MNIST/raw/t10k-labels-idx1-ubyte.gz\n"
          ]
        },
        {
          "output_type": "stream",
          "name": "stderr",
          "text": [
            "100%|██████████| 4542/4542 [00:00<00:00, 7734684.84it/s]"
          ]
        },
        {
          "output_type": "stream",
          "name": "stdout",
          "text": [
            "Extracting ./data/MNIST/raw/t10k-labels-idx1-ubyte.gz to ./data/MNIST/raw\n",
            "\n"
          ]
        },
        {
          "output_type": "stream",
          "name": "stderr",
          "text": [
            "\n"
          ]
        }
      ]
    },
    {
      "cell_type": "code",
      "source": [
        "def get_item(index, dataset='train'):\n",
        "    ''' returns a pair (image_tensor, label_int) '''\n",
        "    if dataset == 'train':\n",
        "        return train_dataset[index]\n",
        "    elif dataset == 'test':\n",
        "        return test_dataset[index]\n",
        "\n",
        "def show_image(index, dataset='train'):\n",
        "    ''' show an image with matplotlib '''\n",
        "    if dataset == 'train':\n",
        "        img = train_dataset[index][0].numpy().reshape(28, 28)\n",
        "        plt.imshow(img, cmap='gray')\n",
        "        plt.show()\n",
        "    elif dataset == 'test':\n",
        "        img = test_dataset[index][0].numpy().reshape(28, 28)\n",
        "        plt.imshow(img, cmap='gray')\n",
        "        plt.show()"
      ],
      "metadata": {
        "id": "sISqw3Bjwve_"
      },
      "execution_count": 5,
      "outputs": []
    },
    {
      "cell_type": "code",
      "source": [
        "# load train and test data samples into dataloader\n",
        "batch_size = 32\n",
        "train_loader = DataLoader(dataset=train_dataset, batch_size=batch_size, shuffle=True)\n",
        "test_loader = DataLoader(dataset=test_dataset, batch_size=batch_size, shuffle=False)"
      ],
      "metadata": {
        "id": "Pp6y3-vJw2av"
      },
      "execution_count": 6,
      "outputs": []
    },
    {
      "cell_type": "code",
      "source": [
        "# custom module for logistic regression\n",
        "class LRModel(nn.Module):\n",
        "    def __init__(self, n_inputs, n_outputs):\n",
        "        super(LRModel, self).__init__()\n",
        "        self.linear = nn.Linear(n_inputs, n_outputs)\n",
        "\n",
        "    def forward(self, x):\n",
        "        y_pred = torch.sigmoid(self.linear(x))\n",
        "        return y_pred"
      ],
      "metadata": {
        "id": "14I5FLzyw5nX"
      },
      "execution_count": 7,
      "outputs": []
    },
    {
      "cell_type": "code",
      "source": [
        "# instantiate the model\n",
        "n_inputs = 28*28\n",
        "n_outputs = 10\n",
        "model = LRModel(n_inputs, n_outputs)\n",
        "model.load_state_dict(torch.load('model_weights.pth'))"
      ],
      "metadata": {
        "colab": {
          "base_uri": "https://localhost:8080/"
        },
        "id": "bH-9cY1Fw706",
        "outputId": "0897045e-2f65-4ee7-8134-34b0d3cc9943"
      },
      "execution_count": 8,
      "outputs": [
        {
          "output_type": "stream",
          "name": "stderr",
          "text": [
            "<ipython-input-8-ac56d928a54d>:5: FutureWarning: You are using `torch.load` with `weights_only=False` (the current default value), which uses the default pickle module implicitly. It is possible to construct malicious pickle data which will execute arbitrary code during unpickling (See https://github.com/pytorch/pytorch/blob/main/SECURITY.md#untrusted-models for more details). In a future release, the default value for `weights_only` will be flipped to `True`. This limits the functions that could be executed during unpickling. Arbitrary objects will no longer be allowed to be loaded via this mode unless they are explicitly allowlisted by the user via `torch.serialization.add_safe_globals`. We recommend you start setting `weights_only=True` for any use case where you don't have full control of the loaded file. Please open an issue on GitHub for any issues related to this experimental feature.\n",
            "  model.load_state_dict(torch.load('model_weights.pth'))\n"
          ]
        },
        {
          "output_type": "execute_result",
          "data": {
            "text/plain": [
              "<All keys matched successfully>"
            ]
          },
          "metadata": {},
          "execution_count": 8
        }
      ]
    },
    {
      "cell_type": "code",
      "source": [
        "def find_misclassified_indices(model=model, test_dataset=test_dataset):\n",
        "  ''' returns a list of indices of all incorrectly labeled test points '''\n",
        "  model.eval()\n",
        "  indices = []\n",
        "  for i in range(len(test_dataset)):\n",
        "    image, label = get_item(i, dataset='test')\n",
        "    image = image.view(-1, 28*28)\n",
        "    with torch.no_grad():\n",
        "      y_pred = model(image)\n",
        "      _, predicted = torch.max(y_pred.data, 1)\n",
        "      if predicted != label:\n",
        "        indices.append(i)\n",
        "  return indices\n",
        "\n",
        "mislabeled_indices = find_misclassified_indices()"
      ],
      "metadata": {
        "id": "x7gVRrERxJqu"
      },
      "execution_count": 12,
      "outputs": []
    },
    {
      "cell_type": "code",
      "source": [
        "# print(random.choice(mislabeled_indices))"
      ],
      "metadata": {
        "colab": {
          "base_uri": "https://localhost:8080/"
        },
        "id": "cSFnT8fJQBkG",
        "outputId": "f3589751-25d0-4cf6-8c02-754165849500"
      },
      "execution_count": null,
      "outputs": [
        {
          "output_type": "stream",
          "name": "stdout",
          "text": [
            "7620\n"
          ]
        }
      ]
    },
    {
      "cell_type": "code",
      "source": [
        "# loss function\n",
        "loss_fn = nn.CrossEntropyLoss()\n",
        "\n",
        "image, label = get_item(7620, dataset='test')\n",
        "y_pred = model(image.view(-1, 28*28))\n",
        "_, predicted = torch.max(y_pred.data, 1)\n",
        "\n",
        "# z_test\n",
        "z_test = image.view(-1, 28*28)\n",
        "z_test_label = torch.tensor([test_dataset[7620][1]])\n",
        "\n",
        "print(\"predicted value: \", predicted)\n",
        "print(\"actual value: \", z_test_label)\n",
        "show_image(7620, dataset='test')"
      ],
      "metadata": {
        "colab": {
          "base_uri": "https://localhost:8080/",
          "height": 466
        },
        "id": "_Z6mEJy2QvBt",
        "outputId": "fd6dd4ef-a6ce-4691-b2cc-7f59c8a57a11"
      },
      "execution_count": 32,
      "outputs": [
        {
          "output_type": "stream",
          "name": "stdout",
          "text": [
            "predicted value:  tensor([5])\n",
            "actual value:  tensor([3])\n"
          ]
        },
        {
          "output_type": "display_data",
          "data": {
            "text/plain": [
              "<Figure size 640x480 with 1 Axes>"
            ],
            "image/png": "[encoded data removed]"
          },
          "metadata": {}
        }
      ]
    },
    {
      "cell_type": "code",
      "source": [
        "# Step 3: Compute the influence I_up,loss(z, z_test) for every training point z"
      ],
      "metadata": {
        "id": "Yy1HW-rgQxa7"
      },
      "execution_count": 33,
      "outputs": []
    },
    {
      "cell_type": "code",
      "source": [
        "# get gradient of loss wrt params to kick off LiSSA\n",
        "def compute_v(model, z_test, z_test_label, loss_fn):\n",
        "    model.zero_grad()\n",
        "    output = model(z_test)\n",
        "    loss = loss_fn(output, z_test_label)\n",
        "\n",
        "    v = grad(loss, model.parameters())\n",
        "    return v\n",
        "\n",
        "# returns list of torch tensors containing product of Hessian and v.\n",
        "def hvp(y, w, v):\n",
        "    # First backprop: Compute the gradient of y with respect to w\n",
        "    first_grads = grad(y, w, retain_graph=True, create_graph=True)\n",
        "\n",
        "    # Elementwise products\n",
        "    elemwise_products = 0\n",
        "    for grad_elem, v_elem in zip(first_grads, v):\n",
        "        elemwise_products += torch.sum(grad_elem * v_elem)\n",
        "\n",
        "    # Second backprop: Compute gradient of elementwise product with respect to w\n",
        "    return_grads = grad(elemwise_products, w, create_graph=True)\n",
        "\n",
        "    return return_grads\n",
        "\n",
        "# Precompute s_test using stochastic estimation, now using a mini-batch from the training data\n",
        "def compute_s_test(model, z_test, v, loss_fn, scale=25, recursion_depth=5000, damping=0, batch_size=1, num_samples=10):\n",
        "    model.eval()\n",
        "    s_test = None\n",
        "\n",
        "    for j in range(num_samples):\n",
        "        print(\"Beginning of repeat #\", j+1)\n",
        "        h_estimate = v  # Start with the gradient of z_test\n",
        "\n",
        "        for i in range(recursion_depth):\n",
        "            # Sample a random mini-batch from the training data\n",
        "            batch_indices = random.sample(range(len(train_dataset)), batch_size)\n",
        "            train_batch = [train_dataset[i] for i in batch_indices]\n",
        "            train_batch_inputs = torch.stack([x[0].view(-1, 28*28).squeeze() for x in train_batch])\n",
        "            train_batch_labels = torch.tensor([x[1] for x in train_batch])\n",
        "\n",
        "            model.zero_grad()\n",
        "            output = model(train_batch_inputs)\n",
        "            loss = loss_fn(output, train_batch_labels)\n",
        "\n",
        "            # Compute the Hessian-vector product\n",
        "            hv = hvp(loss, list(model.parameters()), h_estimate)\n",
        "\n",
        "            # Recursively update h_estimate\n",
        "            h_estimate = [\n",
        "                _v + (1 - damping) * _h_e - _hv / scale\n",
        "                for _v, _h_e, _hv in zip(v, h_estimate, hv)\n",
        "            ]\n",
        "\n",
        "            # Detach to prevent graph retention and memory buildup\n",
        "            h_estimate = [h.detach() for h in h_estimate]\n",
        "\n",
        "            if i%1000 == 0:\n",
        "              print(\"Completed \", i, \" iterations\")\n",
        "\n",
        "        if s_test is None:\n",
        "            s_test = h_estimate\n",
        "        else:\n",
        "            s_test = [s + h for s, h in zip(s_test, h_estimate)]\n",
        "\n",
        "    # Average over the number of samples\n",
        "    s_test = [s / num_samples for s in s_test]\n",
        "\n",
        "    return s_test"
      ],
      "metadata": {
        "id": "e3zKOynsS9VI"
      },
      "execution_count": 34,
      "outputs": []
    },
    {
      "cell_type": "code",
      "source": [
        "v = compute_v(model, z_test, z_test_label, loss_fn)\n",
        "s_test = compute_s_test(model, z_test, v, loss_fn)"
      ],
      "metadata": {
        "id": "Y0sssOok_pz_",
        "colab": {
          "base_uri": "https://localhost:8080/"
        },
        "outputId": "af776895-c738-48af-eaf1-0c15f51cf338"
      },
      "execution_count": 37,
      "outputs": [
        {
          "output_type": "stream",
          "name": "stdout",
          "text": [
            "Beginning of repeat # 1\n",
            "Completed  0  iterations\n",
            "Completed  1000  iterations\n",
            "Completed  2000  iterations\n",
            "Completed  3000  iterations\n",
            "Completed  4000  iterations\n",
            "Beginning of repeat # 2\n",
            "Completed  0  iterations\n",
            "Completed  1000  iterations\n",
            "Completed  2000  iterations\n",
            "Completed  3000  iterations\n",
            "Completed  4000  iterations\n",
            "Beginning of repeat # 3\n",
            "Completed  0  iterations\n",
            "Completed  1000  iterations\n",
            "Completed  2000  iterations\n",
            "Completed  3000  iterations\n",
            "Completed  4000  iterations\n",
            "Beginning of repeat # 4\n",
            "Completed  0  iterations\n",
            "Completed  1000  iterations\n",
            "Completed  2000  iterations\n",
            "Completed  3000  iterations\n",
            "Completed  4000  iterations\n",
            "Beginning of repeat # 5\n",
            "Completed  0  iterations\n",
            "Completed  1000  iterations\n",
            "Completed  2000  iterations\n",
            "Completed  3000  iterations\n",
            "Completed  4000  iterations\n",
            "Beginning of repeat # 6\n",
            "Completed  0  iterations\n",
            "Completed  1000  iterations\n",
            "Completed  2000  iterations\n",
            "Completed  3000  iterations\n",
            "Completed  4000  iterations\n",
            "Beginning of repeat # 7\n",
            "Completed  0  iterations\n",
            "Completed  1000  iterations\n",
            "Completed  2000  iterations\n",
            "Completed  3000  iterations\n",
            "Completed  4000  iterations\n",
            "Beginning of repeat # 8\n",
            "Completed  0  iterations\n",
            "Completed  1000  iterations\n",
            "Completed  2000  iterations\n",
            "Completed  3000  iterations\n",
            "Completed  4000  iterations\n",
            "Beginning of repeat # 9\n",
            "Completed  0  iterations\n",
            "Completed  1000  iterations\n",
            "Completed  2000  iterations\n",
            "Completed  3000  iterations\n",
            "Completed  4000  iterations\n",
            "Beginning of repeat # 10\n",
            "Completed  0  iterations\n",
            "Completed  1000  iterations\n",
            "Completed  2000  iterations\n",
            "Completed  3000  iterations\n",
            "Completed  4000  iterations\n"
          ]
        }
      ]
    },
    {
      "cell_type": "code",
      "source": [
        "# returns a list where the ith index is the value of the influence for index i\n",
        "# of the training set\n",
        "def compute_influence(model, train_dataset, s_test, loss_fn):\n",
        "    model.eval()\n",
        "\n",
        "    # List to store influence scores for each training point\n",
        "    influence_scores = []\n",
        "\n",
        "    # Loop over each data point in the training set\n",
        "    for z in train_dataset:\n",
        "        # Extract input and label from training dataset point\n",
        "        z_input = z[0].view(-1, 28*28)\n",
        "        z_label = torch.tensor([z[1]])\n",
        "\n",
        "        # Compute the gradient of the loss of the training point wrt the model parameters (v)\n",
        "        v = compute_v(model, z_input, z_label, loss_fn)\n",
        "\n",
        "        # Now compute the dot product between s_test and v\n",
        "        influence = 0\n",
        "        for s, v_i in zip(s_test, v):\n",
        "            influence += torch.sum(s * v_i)\n",
        "\n",
        "        # Store the negative of the influence as we want -s_test . v\n",
        "        influence_scores.append(-influence.item())  # Append scalar value to the list\n",
        "\n",
        "    return influence_scores\n"
      ],
      "metadata": {
        "id": "CCklO7L_ygrT"
      },
      "execution_count": 40,
      "outputs": []
    },
    {
      "cell_type": "code",
      "source": [
        "influence_scores = compute_influence(model, train_dataset, s_test, loss_fn)"
      ],
      "metadata": {
        "id": "SBPv4i2e7KzV"
      },
      "execution_count": 41,
      "outputs": []
    },
    {
      "cell_type": "code",
      "source": [
        "def select_top_influential_points(influence_scores, top_n=500):\n",
        "    # Create a dictionary mapping index i to the influence score\n",
        "    influence_dict = {i: influence_scores[i] for i in range(len(influence_scores))}\n",
        "\n",
        "    # Sort the dictionary by the absolute value of the influence scores in descending order\n",
        "    sorted_influences = sorted(influence_dict.items(), key=lambda item: abs(item[1]), reverse=True)\n",
        "\n",
        "    # Select the top N most influential points\n",
        "    top_influential_dict = dict(sorted_influences[:top_n])\n",
        "\n",
        "    return top_influential_dict"
      ],
      "metadata": {
        "id": "-hOFbfSK_DXb"
      },
      "execution_count": 43,
      "outputs": []
    },
    {
      "cell_type": "code",
      "source": [
        "top_influential_dict = select_top_influential_points(influence_scores)\n",
        "print(len(top_influential_dict))"
      ],
      "metadata": {
        "colab": {
          "base_uri": "https://localhost:8080/"
        },
        "id": "lzKPHqXO_ErD",
        "outputId": "22ac753b-3cdb-487a-967c-b54c248df0e5"
      },
      "execution_count": 45,
      "outputs": [
        {
          "output_type": "stream",
          "name": "stdout",
          "text": [
            "500\n"
          ]
        }
      ]
    },
    {
      "cell_type": "code",
      "source": [
        "print(top_influential_dict)"
      ],
      "metadata": {
        "colab": {
          "base_uri": "https://localhost:8080/"
        },
        "id": "1LsBPhMK_vz2",
        "outputId": "7a3f7632-da4a-4a21-9b0b-5621b234c104"
      },
      "execution_count": 46,
      "outputs": [
        {
          "output_type": "stream",
          "name": "stdout",
          "text": [
            "{31667: -2951.739990234375, 22304: -2677.640625, 45732: -2675.745849609375, 37374: -2638.887939453125, 56492: -2424.28955078125, 19338: -2345.50390625, 32850: -2294.9677734375, 42477: -2196.5478515625, 6710: -2168.8974609375, 13294: -2163.353515625, 5702: -2029.841552734375, 5798: -1993.93212890625, 10260: -1988.5362548828125, 45848: -1977.381591796875, 22522: -1976.130859375, 13894: -1927.8914794921875, 33760: -1912.827880859375, 20080: -1907.1158447265625, 42220: -1902.0499267578125, 30400: -1877.369384765625, 26208: -1855.73291015625, 57660: -1820.4375, 26866: -1810.2100830078125, 42476: -1801.8480224609375, 4328: -1785.850830078125, 19829: -1777.3314208984375, 58379: -1770.1788330078125, 39928: -1755.892822265625, 43080: -1726.9263916015625, 41776: -1709.136474609375, 21112: -1706.5577392578125, 24528: -1639.361572265625, 18240: -1636.9185791015625, 55628: -1585.33447265625, 2931: -1571.2320556640625, 7283: -1568.9654541015625, 54534: -1529.6917724609375, 31452: -1507.115234375, 17820: -1493.617431640625, 16748: -1487.6495361328125, 12244: -1482.0853271484375, 44032: -1478.3848876953125, 2917: -1466.737060546875, 32490: -1465.7845458984375, 43672: -1461.666259765625, 29300: -1459.5208740234375, 51274: -1451.3941650390625, 12080: -1446.624755859375, 46157: -1439.015380859375, 35226: -1426.8636474609375, 54996: -1415.81884765625, 17864: -1412.6904296875, 58660: -1400.2200927734375, 46208: -1398.5634765625, 3034: -1396.564697265625, 50470: -1385.44140625, 32444: -1377.0457763671875, 8350: -1373.6988525390625, 39768: -1368.9207763671875, 52972: -1354.16748046875, 53954: -1347.3245849609375, 5088: -1340.720703125, 52378: -1340.2166748046875, 44020: -1339.0267333984375, 40620: -1321.9552001953125, 58086: -1320.0909423828125, 17712: -1319.9119873046875, 10674: -1314.748779296875, 43619: -1311.9818115234375, 6182: -1310.0924072265625, 22182: -1294.753173828125, 30136: -1291.0667724609375, 16190: -1289.085693359375, 52939: 1286.4454345703125, 32656: -1285.9957275390625, 6106: -1279.5465087890625, 13026: -1277.60400390625, 36862: -1276.843505859375, 540: -1269.593994140625, 57016: -1259.3358154296875, 26140: -1248.7286376953125, 2127: -1240.0106201171875, 24868: -1232.6015625, 21938: -1230.7554931640625, 47329: -1228.4697265625, 46882: -1219.4454345703125, 459: -1213.549560546875, 43978: -1212.782470703125, 49406: -1209.722900390625, 18007: -1208.86865234375, 26942: -1201.06689453125, 14686: -1197.775390625, 34318: -1188.239990234375, 42545: -1172.1455078125, 228: -1153.65673828125, 43833: -1146.4781494140625, 27840: -1146.1597900390625, 18390: -1144.2828369140625, 19280: -1127.7755126953125, 21714: -1114.53759765625, 58822: -1114.2474365234375, 21946: -1113.95947265625, 4138: -1113.31884765625, 17404: -1111.351318359375, 52891: 1111.2471923828125, 45628: -1109.7147216796875, 8241: 1108.198974609375, 20868: -1104.4290771484375, 23482: -1102.3604736328125, 49410: -1100.78173828125, 39618: -1100.6771240234375, 9466: -1094.186279296875, 9078: -1091.7110595703125, 30962: -1090.6177978515625, 35498: -1086.3072509765625, 54898: -1085.189453125, 31488: -1082.42919921875, 47361: -1082.06689453125, 6016: -1075.9761962890625, 4510: -1064.1771240234375, 30306: -1062.41748046875, 19855: -1061.464111328125, 19836: 1057.5389404296875, 43865: -1057.3133544921875, 31952: -1051.3673095703125, 19386: -1050.294921875, 40205: 1043.2274169921875, 30511: 1042.9522705078125, 55926: -1040.639404296875, 3844: -1030.1024169921875, 24560: -1025.2940673828125, 17988: 1024.5308837890625, 25883: -1014.501708984375, 20942: 1013.07421875, 19549: -1007.86181640625, 6706: -1007.791748046875, 50554: -1004.25, 37940: -1002.3242797851562, 28536: -998.074462890625, 42201: 996.8284912109375, 53554: -987.006591796875, 25855: -983.129638671875, 24063: -983.1123046875, 12392: -982.0419921875, 50976: -981.626220703125, 14558: -977.5140991210938, 34721: 974.5792236328125, 36132: -973.3251342773438, 37478: -971.5673828125, 629: 969.7440795898438, 41048: -965.8313598632812, 42994: -963.869140625, 44: -962.2975463867188, 40202: -961.0579223632812, 56324: -957.5558471679688, 9289: -953.5894165039062, 7980: -953.1388549804688, 30072: -952.8576049804688, 17354: -952.6158447265625, 1348: -952.1439819335938, 52298: -947.101318359375, 58064: -945.13330078125, 57308: 942.0643920898438, 5770: -941.3309326171875, 7832: -938.1632690429688, 16940: -935.4312133789062, 25431: -933.2517700195312, 29483: -925.877685546875, 14388: -925.4999389648438, 34685: 924.0093383789062, 9602: -921.3514404296875, 27783: -920.87841796875, 1260: -917.6364135742188, 35504: -915.3507690429688, 35876: 913.7990112304688, 9670: -913.486572265625, 42024: -911.9210205078125, 42203: 910.9222412109375, 18039: -910.8049926757812, 22366: -910.5112915039062, 24356: -909.8705444335938, 51154: -909.6649169921875, 10116: -908.6558227539062, 1351: 899.4453125, 33510: -898.8421020507812, 26542: -898.5780029296875, 34239: -897.8693237304688, 57474: -896.610107421875, 21726: -892.8204956054688, 3108: -891.8951416015625, 13713: -887.818359375, 36324: -887.6304931640625, 58080: -882.91259765625, 21182: -882.9041748046875, 53042: -881.2318725585938, 38321: -879.3388671875, 46692: -876.7031860351562, 16208: -876.3733520507812, 1119: 875.1741333007812, 57336: -875.1183471679688, 15022: -873.7349853515625, 43256: -873.6741943359375, 28264: -869.9241943359375, 21690: -863.9722290039062, 1097: -858.7380981445312, 37260: -857.3421020507812, 43230: -856.4285888671875, 14107: -850.2830200195312, 40078: -848.4688110351562, 25809: -848.042236328125, 24539: -847.86279296875, 46736: -846.9002685546875, 18244: -845.015625, 47913: 844.3754272460938, 38602: -843.9510498046875, 1644: -843.26513671875, 40223: 840.7943115234375, 26662: -840.0265502929688, 52272: -839.9950561523438, 14636: -836.5388793945312, 7058: 827.225341796875, 30206: -824.94677734375, 36525: -824.8416748046875, 12153: 819.674072265625, 4866: -815.407470703125, 10390: 815.3214721679688, 30692: -814.46728515625, 40247: 814.3333740234375, 46899: -811.5438842773438, 25187: -808.9364013671875, 48642: -807.3622436523438, 425: 807.0680541992188, 9620: -806.6023559570312, 28137: -805.8237915039062, 39124: -804.4364624023438, 40520: -801.1870727539062, 9491: -798.6527099609375, 46853: -797.9022216796875, 25284: -796.91064453125, 42906: -794.5629272460938, 4864: -791.5989379882812, 9516: -790.3033447265625, 26929: 789.3143310546875, 760: -788.0830688476562, 12189: 782.650146484375, 53262: -780.2991333007812, 2092: -779.568603515625, 52252: -776.5999145507812, 48599: -776.0985717773438, 59195: 775.4661865234375, 30304: -774.9234008789062, 11804: -767.495849609375, 45836: -765.1326293945312, 7692: -764.6520385742188, 15486: -762.8171997070312, 39329: -762.3560180664062, 21580: -760.0491943359375, 878: -760.0126953125, 47925: 758.3970947265625, 47461: 758.1485595703125, 42137: 757.921630859375, 3810: -756.2843627929688, 20166: -755.4120483398438, 11951: 753.6993408203125, 46506: -753.4244384765625, 40184: -753.3048095703125, 42161: 751.9833984375, 33594: -749.9738159179688, 10896: -749.025146484375, 9778: -748.2725219726562, 28757: 747.1539916992188, 13352: -746.5179443359375, 18542: -743.3738403320312, 41704: -743.3714599609375, 21524: -739.757080078125, 9664: 738.66552734375, 14552: -733.3193359375, 7915: -732.8605346679688, 51987: 731.837890625, 30256: -731.4609375, 40079: 731.038330078125, 52974: -730.8023681640625, 45644: -729.5503540039062, 15261: -727.8995361328125, 47424: -727.8391723632812, 9279: -727.0689086914062, 13656: -726.790283203125, 48352: 726.0613403320312, 36515: -721.4022827148438, 5911: 721.3190307617188, 50824: -720.2562866210938, 17646: -720.1277465820312, 15472: -720.0777587890625, 2252: -718.27294921875, 40752: -717.4166259765625, 21306: -715.90966796875, 50210: -714.6273803710938, 28359: -713.3246459960938, 14635: 712.6795043945312, 34188: 712.0149536132812, 50378: -710.2894897460938, 21390: 709.8974609375, 12012: -707.8838500976562, 52785: -705.7963256835938, 19620: -703.3324584960938, 14025: -702.6040649414062, 47352: -702.2244262695312, 33239: 702.2227783203125, 46246: -701.447998046875, 32730: -700.3579711914062, 33049: 700.297119140625, 8700: 699.9984130859375, 40636: -699.2109375, 47455: 699.126220703125, 48179: 697.9506225585938, 56495: 697.9454956054688, 56288: -694.1046752929688, 40382: -692.3826904296875, 11719: 691.2720336914062, 28380: -689.8896484375, 19246: -689.4387817382812, 32409: 688.5695190429688, 39678: -688.288818359375, 37658: 688.084228515625, 43482: 686.1339721679688, 5728: 685.2513427734375, 27786: -684.6785888671875, 34204: -684.0692749023438, 54915: 680.8411254882812, 35381: -678.7387084960938, 46729: -675.5148315429688, 5875: 672.6314697265625, 1158: -672.2684936523438, 26391: -671.128662109375, 37860: -670.00439453125, 25867: -668.46044921875, 16954: 667.2526245117188, 31759: -667.114990234375, 32203: 666.66162109375, 36093: -664.1939086914062, 38130: -663.5702514648438, 41491: 662.638671875, 20150: -660.4602661132812, 26928: -659.3228759765625, 30960: -657.3936767578125, 47749: -656.2980346679688, 5679: -655.004638671875, 1185: 654.2861938476562, 25538: -654.1044921875, 31404: -652.153564453125, 14878: -650.7891235351562, 31428: -649.5496215820312, 53595: -647.9544677734375, 25829: -646.895751953125, 52753: -644.74560546875, 53527: -644.445556640625, 33911: 642.2001953125, 11216: -641.4896850585938, 22496: -641.07421875, 32193: 640.5757446289062, 1035: -638.7454223632812, 36032: 638.4782104492188, 22488: -638.436767578125, 54248: -636.070068359375, 44596: -635.7683715820312, 28256: -634.660400390625, 57914: -633.7984008789062, 45736: -633.5677490234375, 48480: -630.9183959960938, 25955: -630.3978881835938, 59229: 629.97607421875, 33169: 629.0181274414062, 46902: -628.6049194335938, 34551: -628.4954833984375, 11232: -628.216552734375, 49566: -626.5694580078125, 16220: -624.05078125, 39349: 623.853759765625, 22536: -623.8019409179688, 29094: -623.39453125, 48798: -622.1893920898438, 46126: 621.9552001953125, 32421: -621.4337768554688, 53246: 621.0822143554688, 56391: -619.9945068359375, 20756: -619.7064208984375, 53035: 619.5868530273438, 39909: 618.9812622070312, 3178: 617.3998413085938, 15857: 615.260009765625, 24899: 614.8885498046875, 54694: -614.580078125, 16075: 614.5101928710938, 30354: -614.3854370117188, 1055: 614.2275390625, 40161: 613.5323486328125, 55353: 613.496337890625, 56198: -609.5757446289062, 17292: -608.7218017578125, 52931: 607.8740234375, 15052: 607.3392333984375, 40100: -606.8694458007812, 37132: -606.239501953125, 8958: -602.9297485351562, 46296: 602.31884765625, 23490: -601.6416015625, 12933: -601.0429077148438, 14454: 598.0999755859375, 54191: 598.0640869140625, 52664: -597.0773315429688, 4792: 596.10009765625, 37013: -595.5955810546875, 1529: -594.8452758789062, 53083: 594.4774169921875, 11999: 594.2517700195312, 17574: -593.8114624023438, 53758: -592.6007690429688, 51768: -592.5840454101562, 42966: -591.7892456054688, 11921: 591.5748291015625, 6898: 590.7178344726562, 32764: -588.6203002929688, 6398: -588.076171875, 14825: 587.966796875, 54074: 587.873046875, 59588: -587.5241088867188, 11978: -587.314697265625, 33009: 586.7376098632812, 9004: 586.3552856445312, 53345: -585.6395263671875, 27316: -585.5320434570312, 46070: 584.6441040039062, 12702: -584.5897827148438, 30833: -583.8756713867188, 29121: 582.6683959960938, 9592: -582.15869140625, 30398: -582.04736328125, 22155: 579.8145141601562, 22315: 579.4261474609375, 28472: -578.9055786132812, 35180: -576.167724609375, 38998: -575.7169799804688, 33099: 575.1221923828125, 39706: -574.3770141601562, 12546: -574.1098022460938, 12592: -573.7914428710938, 2726: -573.541259765625, 37271: 572.7110595703125, 19342: -572.2902221679688, 43476: -572.2228393554688, 17521: 571.2063598632812, 49968: -571.1714477539062, 47520: 569.9884033203125, 53570: -569.523681640625, 28418: 568.829833984375, 52922: -568.581787109375, 26419: -568.4465942382812, 30048: -568.017578125, 9255: -567.2376098632812, 45043: 567.0400390625, 28371: -566.572509765625, 34845: 565.4869995117188, 14266: -565.1661987304688, 39804: -564.3967895507812, 43817: -564.0645751953125, 19793: -563.9393920898438, 36337: -563.1671142578125, 32422: -562.3621826171875, 8830: -561.78955078125, 49926: -561.26611328125, 37636: -560.7637329101562, 32794: -559.5848388671875, 6863: 559.5604248046875, 38804: -557.8613891601562, 23888: -557.5928344726562, 15372: 557.586181640625, 1863: -557.5587158203125, 19967: -556.826416015625, 47643: -556.0440063476562, 1151: 555.163330078125, 49585: 552.5923461914062, 44889: -552.0077514648438, 4373: 551.0803833007812, 111: -550.8429565429688, 11645: 549.751708984375, 48722: -547.8973388671875, 47901: 547.6585693359375, 58812: -546.2976684570312, 14286: -546.17138671875, 34058: -545.8123168945312, 1233: 545.5018310546875, 41378: -544.9041137695312, 966: 543.5552978515625, 57004: -543.091796875, 41494: -542.1154174804688, 2740: -542.0549926757812, 47979: 541.8502197265625, 11233: -541.5895385742188, 45658: -540.6669921875, 2652: -540.33837890625}\n"
          ]
        }
      ]
    },
    {
      "cell_type": "code",
      "source": [
        "# loss function\n",
        "loss_fn = nn.CrossEntropyLoss()\n",
        "\n",
        "image, label = get_item(31667)\n",
        "y_pred = model(image.view(-1, 28*28))\n",
        "_, predicted = torch.max(y_pred.data, 1)\n",
        "\n",
        "# z_test\n",
        "z_test = image.view(-1, 28*28)\n",
        "z_test_label = torch.tensor([train_dataset[31667][1]])\n",
        "\n",
        "print(\"predicted value: \", predicted)\n",
        "print(\"actual value: \", z_test_label)\n",
        "show_image(31667)"
      ],
      "metadata": {
        "colab": {
          "base_uri": "https://localhost:8080/",
          "height": 466
        },
        "id": "CqwEA6XX_4Su",
        "outputId": "f75fd1d1-223d-45c0-8a27-13fd7dd08318"
      },
      "execution_count": 47,
      "outputs": [
        {
          "output_type": "stream",
          "name": "stdout",
          "text": [
            "predicted value:  tensor([5])\n",
            "actual value:  tensor([3])\n"
          ]
        },
        {
          "output_type": "display_data",
          "data": {
            "text/plain": [
              "<Figure size 640x480 with 1 Axes>"
            ],
            "image/png": "[encoded data removed]"
          },
          "metadata": {}
        }
      ]
    },
    {
      "cell_type": "code",
      "source": [],
      "metadata": {
        "id": "3EwrTHMWAK6N"
      },
      "execution_count": null,
      "outputs": []
    }
  ]
}
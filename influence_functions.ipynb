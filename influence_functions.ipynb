{
  "nbformat": 4,
  "nbformat_minor": 0,
  "metadata": {
    "colab": {
      "provenance": [],
      "authorship_tag": "ABX9TyMuVZ3mZ1cryBFEkEbJNW9G",
      "include_colab_link": true
    },
    "kernelspec": {
      "name": "python3",
      "display_name": "Python 3"
    },
    "language_info": {
      "name": "python"
    }
  },
  "cells": [
    {
      "cell_type": "markdown",
      "metadata": {
        "id": "view-in-github",
        "colab_type": "text"
      },
      "source": [
        "<a href=\"https://colab.research.google.com/github/nebulous05/influence-functions-pytorch/blob/main/influence_functions.ipynb\" target=\"_parent\"><img src=\"https://colab.research.google.com/assets/colab-badge.svg\" alt=\"Open In Colab\"/></a>"
      ]
    },
    {
      "cell_type": "code",
      "execution_count": null,
      "metadata": {
        "id": "NKBl5oYXwcki"
      },
      "outputs": [],
      "source": [
        "### PROCEDURE ###\n",
        "\n",
        "# Step 1: Train a model on the 10-class MNIST dataset\n",
        "# Step 2: Arbitrarily select a wrongly-classified test point, z_test\n",
        "# Step 3: Compute the influence I_up,loss(z, z_test) for every training point z\n",
        "# Step 4: Select the 500 training points with the largest |I_up,loss(z, z_test)|\n",
        "# Step 5: Compute the actual change in test loss after removing the point and\n",
        "#         retraining for each of the 500 points\n",
        "# Step 6: Plot -1/n (I_up,loss(z, z_test)) vs. actual change in test loss for\n",
        "#         each of the 500 points"
      ]
    },
    {
      "cell_type": "code",
      "source": [
        "# Step 2: Arbitrarily select a wrongly-classified test point, z_test"
      ],
      "metadata": {
        "id": "RaCfGKqRwjI2"
      },
      "execution_count": null,
      "outputs": []
    },
    {
      "cell_type": "code",
      "source": [
        "import torch\n",
        "import torch.nn as nn\n",
        "import torch.optim as optim\n",
        "import torchvision\n",
        "from torchvision import datasets, transforms\n",
        "from torch.utils.data import DataLoader, random_split\n",
        "import matplotlib.pyplot as plt\n",
        "import numpy as np\n",
        "import random\n",
        "from torch.autograd import grad"
      ],
      "metadata": {
        "id": "7F1A0iOpwm8o"
      },
      "execution_count": 3,
      "outputs": []
    },
    {
      "cell_type": "code",
      "source": [
        "# data is torch.FloatTensor; shape = (1, 28, 28)\n",
        "# load train data: 60,000 samples\n",
        "train_dataset = datasets.MNIST(root='./data', train=True, download=True, transform=transforms.ToTensor())\n",
        "\n",
        "#loading test data: 10,000 samples\n",
        "test_dataset = datasets.MNIST(root='./data', train=False, transform=transforms.ToTensor())"
      ],
      "metadata": {
        "colab": {
          "base_uri": "https://localhost:8080/"
        },
        "id": "kmn3n0bpwpwI",
        "outputId": "22f103dd-0d0e-4d00-b605-1951197f504f"
      },
      "execution_count": 2,
      "outputs": [
        {
          "output_type": "stream",
          "name": "stdout",
          "text": [
            "Downloading http://yann.lecun.com/exdb/mnist/train-images-idx3-ubyte.gz\n",
            "Failed to download (trying next):\n",
            "HTTP Error 403: Forbidden\n",
            "\n",
            "Downloading https://ossci-datasets.s3.amazonaws.com/mnist/train-images-idx3-ubyte.gz\n",
            "Downloading https://ossci-datasets.s3.amazonaws.com/mnist/train-images-idx3-ubyte.gz to ./data/MNIST/raw/train-images-idx3-ubyte.gz\n"
          ]
        },
        {
          "output_type": "stream",
          "name": "stderr",
          "text": [
            "100%|██████████| 9912422/9912422 [00:01<00:00, 5455731.29it/s]\n"
          ]
        },
        {
          "output_type": "stream",
          "name": "stdout",
          "text": [
            "Extracting ./data/MNIST/raw/train-images-idx3-ubyte.gz to ./data/MNIST/raw\n",
            "\n",
            "Downloading http://yann.lecun.com/exdb/mnist/train-labels-idx1-ubyte.gz\n",
            "Failed to download (trying next):\n",
            "HTTP Error 403: Forbidden\n",
            "\n",
            "Downloading https://ossci-datasets.s3.amazonaws.com/mnist/train-labels-idx1-ubyte.gz\n",
            "Downloading https://ossci-datasets.s3.amazonaws.com/mnist/train-labels-idx1-ubyte.gz to ./data/MNIST/raw/train-labels-idx1-ubyte.gz\n"
          ]
        },
        {
          "output_type": "stream",
          "name": "stderr",
          "text": [
            "100%|██████████| 28881/28881 [00:00<00:00, 157984.88it/s]\n"
          ]
        },
        {
          "output_type": "stream",
          "name": "stdout",
          "text": [
            "Extracting ./data/MNIST/raw/train-labels-idx1-ubyte.gz to ./data/MNIST/raw\n",
            "\n",
            "Downloading http://yann.lecun.com/exdb/mnist/t10k-images-idx3-ubyte.gz\n",
            "Failed to download (trying next):\n",
            "HTTP Error 403: Forbidden\n",
            "\n",
            "Downloading https://ossci-datasets.s3.amazonaws.com/mnist/t10k-images-idx3-ubyte.gz\n",
            "Downloading https://ossci-datasets.s3.amazonaws.com/mnist/t10k-images-idx3-ubyte.gz to ./data/MNIST/raw/t10k-images-idx3-ubyte.gz\n"
          ]
        },
        {
          "output_type": "stream",
          "name": "stderr",
          "text": [
            "100%|██████████| 1648877/1648877 [00:01<00:00, 1296625.42it/s]\n"
          ]
        },
        {
          "output_type": "stream",
          "name": "stdout",
          "text": [
            "Extracting ./data/MNIST/raw/t10k-images-idx3-ubyte.gz to ./data/MNIST/raw\n",
            "\n",
            "Downloading http://yann.lecun.com/exdb/mnist/t10k-labels-idx1-ubyte.gz\n",
            "Failed to download (trying next):\n",
            "HTTP Error 403: Forbidden\n",
            "\n",
            "Downloading https://ossci-datasets.s3.amazonaws.com/mnist/t10k-labels-idx1-ubyte.gz\n",
            "Downloading https://ossci-datasets.s3.amazonaws.com/mnist/t10k-labels-idx1-ubyte.gz to ./data/MNIST/raw/t10k-labels-idx1-ubyte.gz\n"
          ]
        },
        {
          "output_type": "stream",
          "name": "stderr",
          "text": [
            "100%|██████████| 4542/4542 [00:00<00:00, 2704888.37it/s]"
          ]
        },
        {
          "output_type": "stream",
          "name": "stdout",
          "text": [
            "Extracting ./data/MNIST/raw/t10k-labels-idx1-ubyte.gz to ./data/MNIST/raw\n",
            "\n"
          ]
        },
        {
          "output_type": "stream",
          "name": "stderr",
          "text": [
            "\n"
          ]
        }
      ]
    },
    {
      "cell_type": "code",
      "source": [
        "def get_item(index, dataset='train'):\n",
        "    ''' returns a pair (image_tensor, label_int) '''\n",
        "    if dataset == 'train':\n",
        "        return train_dataset[index]\n",
        "    elif dataset == 'test':\n",
        "        return test_dataset[index]\n",
        "\n",
        "def show_image(index, dataset='train'):\n",
        "    ''' show an image with matplotlib '''\n",
        "    if dataset == 'train':\n",
        "        img = train_dataset[index][0].numpy().reshape(28, 28)\n",
        "        plt.imshow(img, cmap='gray')\n",
        "        plt.show()\n",
        "    elif dataset == 'test':\n",
        "        img = test_dataset[index][0].numpy().reshape(28, 28)\n",
        "        plt.imshow(img, cmap='gray')\n",
        "        plt.show()"
      ],
      "metadata": {
        "id": "sISqw3Bjwve_"
      },
      "execution_count": 4,
      "outputs": []
    },
    {
      "cell_type": "code",
      "source": [
        "# load train and test data samples into dataloader\n",
        "batch_size = 32\n",
        "train_loader = DataLoader(dataset=train_dataset, batch_size=batch_size, shuffle=True)\n",
        "test_loader = DataLoader(dataset=test_dataset, batch_size=batch_size, shuffle=False)"
      ],
      "metadata": {
        "id": "Pp6y3-vJw2av"
      },
      "execution_count": 37,
      "outputs": []
    },
    {
      "cell_type": "code",
      "source": [
        "# custom module for logistic regression\n",
        "class LRModel(nn.Module):\n",
        "    def __init__(self, n_inputs, n_outputs):\n",
        "        super(LRModel, self).__init__()\n",
        "        self.linear = nn.Linear(n_inputs, n_outputs)\n",
        "\n",
        "    def forward(self, x):\n",
        "        y_pred = torch.sigmoid(self.linear(x))\n",
        "        return y_pred"
      ],
      "metadata": {
        "id": "14I5FLzyw5nX"
      },
      "execution_count": 6,
      "outputs": []
    },
    {
      "cell_type": "code",
      "source": [
        "# instantiate the model\n",
        "n_inputs = 28*28\n",
        "n_outputs = 10\n",
        "model = LRModel(n_inputs, n_outputs)\n",
        "model.load_state_dict(torch.load('model_weights.pth'))"
      ],
      "metadata": {
        "colab": {
          "base_uri": "https://localhost:8080/"
        },
        "id": "bH-9cY1Fw706",
        "outputId": "dcb3e1d4-9525-4f28-8fec-60ed37c39b96"
      },
      "execution_count": 7,
      "outputs": [
        {
          "output_type": "stream",
          "name": "stderr",
          "text": [
            "<ipython-input-7-ac56d928a54d>:5: FutureWarning: You are using `torch.load` with `weights_only=False` (the current default value), which uses the default pickle module implicitly. It is possible to construct malicious pickle data which will execute arbitrary code during unpickling (See https://github.com/pytorch/pytorch/blob/main/SECURITY.md#untrusted-models for more details). In a future release, the default value for `weights_only` will be flipped to `True`. This limits the functions that could be executed during unpickling. Arbitrary objects will no longer be allowed to be loaded via this mode unless they are explicitly allowlisted by the user via `torch.serialization.add_safe_globals`. We recommend you start setting `weights_only=True` for any use case where you don't have full control of the loaded file. Please open an issue on GitHub for any issues related to this experimental feature.\n",
            "  model.load_state_dict(torch.load('model_weights.pth'))\n"
          ]
        },
        {
          "output_type": "execute_result",
          "data": {
            "text/plain": [
              "<All keys matched successfully>"
            ]
          },
          "metadata": {},
          "execution_count": 7
        }
      ]
    },
    {
      "cell_type": "code",
      "source": [
        "loss_fn = nn.CrossEntropyLoss()\n",
        "\n",
        "def find_misclassified_indices(model=model, test_dataset=test_dataset):\n",
        "  ''' returns a list of indices of all incorrectly labeled test points '''\n",
        "  model.eval()\n",
        "  indices = []\n",
        "  for i in range(len(test_dataset)):\n",
        "    image, label = get_item(i, dataset='test')\n",
        "    image = image.view(-1, 28*28)\n",
        "    with torch.no_grad():\n",
        "      y_pred = model(image)\n",
        "      _, predicted = torch.max(y_pred.data, 1)\n",
        "      if predicted != label:\n",
        "        indices.append(i)\n",
        "  return indices\n",
        "\n",
        "mislabeled_indices = find_misclassified_indices()"
      ],
      "metadata": {
        "id": "x7gVRrERxJqu"
      },
      "execution_count": 20,
      "outputs": []
    },
    {
      "cell_type": "code",
      "source": [
        "# print(random.choice(mislabeled_indices))"
      ],
      "metadata": {
        "colab": {
          "base_uri": "https://localhost:8080/"
        },
        "id": "cSFnT8fJQBkG",
        "outputId": "f3589751-25d0-4cf6-8c02-754165849500"
      },
      "execution_count": null,
      "outputs": [
        {
          "output_type": "stream",
          "name": "stdout",
          "text": [
            "7620\n"
          ]
        }
      ]
    },
    {
      "cell_type": "code",
      "source": [
        "image_label = get_item(7620, dataset='test')\n",
        "z_test = image_label[0].view(-1, 28*28)\n",
        "z_test_label = torch.tensor([train_dataset[7620][1]])\n",
        "\n",
        "print(\"label: \", image_label[1])\n",
        "show_image(7620)"
      ],
      "metadata": {
        "colab": {
          "base_uri": "https://localhost:8080/",
          "height": 447
        },
        "id": "_Z6mEJy2QvBt",
        "outputId": "7b708227-29e9-47cb-e958-821e1e839e58"
      },
      "execution_count": 44,
      "outputs": [
        {
          "output_type": "stream",
          "name": "stdout",
          "text": [
            "label:  3\n"
          ]
        },
        {
          "output_type": "display_data",
          "data": {
            "text/plain": [
              "<Figure size 640x480 with 1 Axes>"
            ],
            "image/png": "[encoded data removed]"
          },
          "metadata": {}
        }
      ]
    },
    {
      "cell_type": "code",
      "source": [
        "# Step 3: Compute the influence I_up,loss(z, z_test) for every training point z"
      ],
      "metadata": {
        "id": "Yy1HW-rgQxa7"
      },
      "execution_count": null,
      "outputs": []
    },
    {
      "cell_type": "code",
      "source": [
        "batch_indices = [1,2,3]\n",
        "train_batch = [train_dataset[i] for i in batch_indices]\n",
        "train_batch_inputs = torch.stack([x[0].view(-1, 28*28).squeeze() for x in train_batch])\n",
        "train_batch_labels = torch.tensor([x[1] for x in train_batch])\n",
        "\n",
        "# model.zero_grad()\n",
        "# output = model(train_batch_inputs)\n",
        "# loss = loss_fn(output, train_batch_labels)\n",
        "\n",
        "# print(output.shape)\n",
        "# print(train_batch_labels.shape)"
      ],
      "metadata": {
        "colab": {
          "base_uri": "https://localhost:8080/"
        },
        "id": "9riTP564sl0w",
        "outputId": "e1689a1a-3731-4290-c2e6-cd643cea7de4"
      },
      "execution_count": 40,
      "outputs": [
        {
          "output_type": "stream",
          "name": "stdout",
          "text": [
            "torch.Size([3, 10])\n",
            "torch.Size([3])\n"
          ]
        }
      ]
    },
    {
      "cell_type": "code",
      "source": [
        "# get gradient of loss wrt params to kick off LiSSA\n",
        "def compute_v(model, z_test, z_test_label, loss_fn):\n",
        "    model.zero_grad()\n",
        "    output = model(z_test)\n",
        "    loss = loss_fn(output, z_test_label)\n",
        "\n",
        "    v = grad(loss, model.parameters())\n",
        "    return v\n",
        "\n",
        "# returns list of torch tensors containing product of Hessian and v.\n",
        "def hvp(y, w, v):\n",
        "    # First backprop: Compute the gradient of y with respect to w\n",
        "    first_grads = grad(y, w, retain_graph=True, create_graph=True)\n",
        "\n",
        "    # Elementwise products\n",
        "    elemwise_products = 0\n",
        "    for grad_elem, v_elem in zip(first_grads, v):\n",
        "        elemwise_products += torch.sum(grad_elem * v_elem)\n",
        "\n",
        "    # Second backprop: Compute gradient of elementwise product with respect to w\n",
        "    return_grads = grad(elemwise_products, w, create_graph=True)\n",
        "\n",
        "    return return_grads\n",
        "\n",
        "# Precompute s_test using stochastic estimation, now using a mini-batch from the training data\n",
        "def compute_s_test(model, z_test, v, loss_fn, scale=25, recursion_depth=5000, damping=0, batch_size=1, num_samples=10):\n",
        "    model.eval()\n",
        "    s_test = None\n",
        "\n",
        "    for _ in range(num_samples):\n",
        "        h_estimate = v  # Start with the gradient of z_test\n",
        "\n",
        "        for i in range(recursion_depth):\n",
        "            # Sample a random mini-batch from the training data\n",
        "            batch_indices = random.sample(range(len(train_dataset)), batch_size)\n",
        "            train_batch = [train_dataset[i] for i in batch_indices]\n",
        "            train_batch_inputs = torch.stack([x[0].view(-1, 28*28).squeeze() for x in train_batch])\n",
        "            train_batch_labels = torch.tensor([x[1] for x in train_batch])\n",
        "\n",
        "            model.zero_grad()\n",
        "            output = model(train_batch_inputs)\n",
        "            loss = loss_fn(output, train_batch_labels)\n",
        "\n",
        "            # Compute the Hessian-vector product\n",
        "            hv = hvp(loss, list(model.parameters()), h_estimate)\n",
        "\n",
        "            # Recursively update h_estimate\n",
        "            h_estimate = [\n",
        "                _v + (1 - damping) * _h_e - _hv / scale\n",
        "                for _v, _h_e, _hv in zip(v, h_estimate, hv)\n",
        "            ]\n",
        "\n",
        "        if s_test is None:\n",
        "            s_test = h_estimate\n",
        "        else:\n",
        "            s_test = [s + h for s, h in zip(s_test, h_estimate)]\n",
        "\n",
        "    # Average over the number of samples\n",
        "    s_test = [s / num_samples for s in s_test]\n",
        "\n",
        "    return s_test"
      ],
      "metadata": {
        "id": "e3zKOynsS9VI"
      },
      "execution_count": 66,
      "outputs": []
    },
    {
      "cell_type": "code",
      "source": [
        "v = compute_v(model, z_test, z_test_label, loss_fn)\n",
        "s_test = compute_s_test(model, z_test, v, loss_fn, recursion_depth=10, num_samples=1)\n",
        "\n",
        "print(s_test)"
      ],
      "metadata": {
        "colab": {
          "base_uri": "https://localhost:8080/"
        },
        "id": "-OdpQczx6P1h",
        "outputId": "86a07e6a-41c5-42d9-eb80-8732f7627685"
      },
      "execution_count": 65,
      "outputs": [
        {
          "output_type": "stream",
          "name": "stdout",
          "text": [
            "[tensor([[0., 0., 0.,  ..., 0., 0., 0.],\n",
            "        [0., 0., 0.,  ..., 0., 0., 0.],\n",
            "        [0., 0., 0.,  ..., 0., 0., 0.],\n",
            "        ...,\n",
            "        [0., 0., 0.,  ..., 0., 0., 0.],\n",
            "        [0., 0., 0.,  ..., 0., 0., 0.],\n",
            "        [0., 0., 0.,  ..., 0., 0., 0.]], grad_fn=<DivBackward0>), tensor([ 0.0167,  0.0057,  0.0045,  0.3037,  0.0918,  0.2346,  0.0062,  0.0256,\n",
            "         0.1686, -2.1770], grad_fn=<DivBackward0>)]\n"
          ]
        }
      ]
    },
    {
      "cell_type": "code",
      "source": [
        "v = compute_v(model, z_test, z_test_label, loss_fn)\n",
        "\n",
        "h_estimate = v\n",
        "damping = 0\n",
        "scale = 25\n",
        "\n",
        "print(h_estimate)\n",
        "\n",
        "\n",
        "batch_indices = [1,2,3]\n",
        "train_batch = [train_dataset[i] for i in batch_indices]\n",
        "train_batch_inputs = torch.stack([x[0].view(-1, 28*28).squeeze() for x in train_batch])\n",
        "train_batch_labels = torch.tensor([x[1] for x in train_batch])\n",
        "\n",
        "model.zero_grad()\n",
        "output = model(train_batch_inputs)\n",
        "loss = loss_fn(output, train_batch_labels)\n",
        "\n",
        "# Compute the Hessian-vector product\n",
        "hv = hvp(loss, list(model.parameters()), h_estimate)\n",
        "\n",
        "\n",
        "# # Recursively update h_estimate\n",
        "h_estimate = [\n",
        "    _v + (1 - damping) * _h_e - _hv / scale\n",
        "    for _v, _h_e, _hv in zip(v, h_estimate, hv)\n",
        "]\n",
        "\n",
        "print(h_estimate)\n",
        "\n",
        "# print(list(model.parameters()))"
      ],
      "metadata": {
        "colab": {
          "base_uri": "https://localhost:8080/"
        },
        "id": "VebdWpuJy1Ju",
        "outputId": "2fa0c907-f91e-459a-c82d-0334e77992ba"
      },
      "execution_count": 61,
      "outputs": [
        {
          "output_type": "stream",
          "name": "stdout",
          "text": [
            "(tensor([[0., 0., 0.,  ..., 0., 0., 0.],\n",
            "        [0., 0., 0.,  ..., 0., 0., 0.],\n",
            "        [0., 0., 0.,  ..., 0., 0., 0.],\n",
            "        ...,\n",
            "        [0., 0., 0.,  ..., 0., 0., 0.],\n",
            "        [0., 0., 0.,  ..., 0., 0., 0.],\n",
            "        [-0., -0., -0.,  ..., -0., -0., -0.]]), tensor([ 0.0016,  0.0007,  0.0005,  0.0287,  0.0084,  0.0224,  0.0006,  0.0027,\n",
            "         0.0164, -0.2074]))\n",
            "[tensor([[0., 0., 0.,  ..., 0., 0., 0.],\n",
            "        [0., 0., 0.,  ..., 0., 0., 0.],\n",
            "        [0., 0., 0.,  ..., 0., 0., 0.],\n",
            "        ...,\n",
            "        [0., 0., 0.,  ..., 0., 0., 0.],\n",
            "        [0., 0., 0.,  ..., 0., 0., 0.],\n",
            "        [-0., -0., -0.,  ..., -0., -0., -0.]], grad_fn=<SubBackward0>), tensor([ 0.0031,  0.0014,  0.0010,  0.0572,  0.0166,  0.0447,  0.0013,  0.0054,\n",
            "         0.0328, -0.4143], grad_fn=<SubBackward0>)]\n"
          ]
        }
      ]
    },
    {
      "cell_type": "code",
      "source": [],
      "metadata": {
        "id": "rlF-xR-334gI"
      },
      "execution_count": null,
      "outputs": []
    }
  ]
}
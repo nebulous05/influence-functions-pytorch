{
  "nbformat": 4,
  "nbformat_minor": 0,
  "metadata": {
    "colab": {
      "provenance": [],
      "gpuType": "T4",
      "authorship_tag": "ABX9TyPeCwa+AvFEmoaM6cTVLBiP",
      "include_colab_link": true
    },
    "kernelspec": {
      "name": "python3",
      "display_name": "Python 3"
    },
    "language_info": {
      "name": "python"
    },
    "accelerator": "GPU"
  },
  "cells": [
    {
      "cell_type": "markdown",
      "metadata": {
        "id": "view-in-github",
        "colab_type": "text"
      },
      "source": [
        "<a href=\"https://colab.research.google.com/github/nebulous05/influence-functions-pytorch/blob/main/mnist_log_reg.ipynb\" target=\"_parent\"><img src=\"https://colab.research.google.com/assets/colab-badge.svg\" alt=\"Open In Colab\"/></a>"
      ]
    },
    {
      "cell_type": "code",
      "source": [
        "### PROCEDURE ###\n",
        "\n",
        "# Step 1: Train a model on the 10-class MNIST dataset\n",
        "# Step 2: Arbitrarily select a wrongly-classified test point, z_test\n",
        "# Step 3: Compute the influence I_up,loss(z, z_test) for every training point z\n",
        "# Step 4: Select the 500 training points with the largest |I_up,loss(z, z_test)|\n",
        "# Step 5: Compute the actual change in test loss after removing the point and\n",
        "#         retraining for each of the 500 points\n",
        "# Step 6: Plot -1/n (I_up,loss(z, z_test)) vs. actual change in test loss for\n",
        "#         each of the 500 points"
      ],
      "metadata": {
        "id": "J2QDScO9mR5s"
      },
      "execution_count": null,
      "outputs": []
    },
    {
      "cell_type": "code",
      "source": [
        "# Step 1: Train a model on the 10-class MNIST dataset"
      ],
      "metadata": {
        "id": "mVuujdT-oNOb"
      },
      "execution_count": null,
      "outputs": []
    },
    {
      "cell_type": "code",
      "source": [
        "import torch\n",
        "import torch.nn as nn\n",
        "import torch.optim as optim\n",
        "import torchvision\n",
        "from torchvision import datasets, transforms\n",
        "from torch.utils.data import DataLoader, random_split\n",
        "import matplotlib.pyplot as plt\n",
        "import numpy as np"
      ],
      "metadata": {
        "id": "cwQH8J4ipnyh"
      },
      "execution_count": 1,
      "outputs": []
    },
    {
      "cell_type": "code",
      "source": [
        "# data is torch.FloatTensor; shape = (1, 28, 28)\n",
        "# load train data: 60,000 samples\n",
        "train_dataset = datasets.MNIST(root='./data', train=True, download=True, transform=transforms.ToTensor())\n",
        "\n",
        "#loading test data: 10,000 samples\n",
        "test_dataset = datasets.MNIST(root='./data', train=False, transform=transforms.ToTensor())"
      ],
      "metadata": {
        "id": "0VzLbKHKpszA",
        "colab": {
          "base_uri": "https://localhost:8080/"
        },
        "outputId": "e16b19ad-bc48-4d7b-e92d-e16ad5931ecb"
      },
      "execution_count": 2,
      "outputs": [
        {
          "output_type": "stream",
          "name": "stdout",
          "text": [
            "Downloading http://yann.lecun.com/exdb/mnist/train-images-idx3-ubyte.gz\n",
            "Failed to download (trying next):\n",
            "HTTP Error 403: Forbidden\n",
            "\n",
            "Downloading https://ossci-datasets.s3.amazonaws.com/mnist/train-images-idx3-ubyte.gz\n",
            "Downloading https://ossci-datasets.s3.amazonaws.com/mnist/train-images-idx3-ubyte.gz to ./data/MNIST/raw/train-images-idx3-ubyte.gz\n"
          ]
        },
        {
          "output_type": "stream",
          "name": "stderr",
          "text": [
            "100%|██████████| 9912422/9912422 [00:00<00:00, 16254334.74it/s]\n"
          ]
        },
        {
          "output_type": "stream",
          "name": "stdout",
          "text": [
            "Extracting ./data/MNIST/raw/train-images-idx3-ubyte.gz to ./data/MNIST/raw\n",
            "\n",
            "Downloading http://yann.lecun.com/exdb/mnist/train-labels-idx1-ubyte.gz\n",
            "Failed to download (trying next):\n",
            "HTTP Error 403: Forbidden\n",
            "\n",
            "Downloading https://ossci-datasets.s3.amazonaws.com/mnist/train-labels-idx1-ubyte.gz\n",
            "Downloading https://ossci-datasets.s3.amazonaws.com/mnist/train-labels-idx1-ubyte.gz to ./data/MNIST/raw/train-labels-idx1-ubyte.gz\n"
          ]
        },
        {
          "output_type": "stream",
          "name": "stderr",
          "text": [
            "100%|██████████| 28881/28881 [00:00<00:00, 497005.69it/s]\n"
          ]
        },
        {
          "output_type": "stream",
          "name": "stdout",
          "text": [
            "Extracting ./data/MNIST/raw/train-labels-idx1-ubyte.gz to ./data/MNIST/raw\n",
            "\n",
            "Downloading http://yann.lecun.com/exdb/mnist/t10k-images-idx3-ubyte.gz\n",
            "Failed to download (trying next):\n",
            "HTTP Error 403: Forbidden\n",
            "\n",
            "Downloading https://ossci-datasets.s3.amazonaws.com/mnist/t10k-images-idx3-ubyte.gz\n",
            "Downloading https://ossci-datasets.s3.amazonaws.com/mnist/t10k-images-idx3-ubyte.gz to ./data/MNIST/raw/t10k-images-idx3-ubyte.gz\n"
          ]
        },
        {
          "output_type": "stream",
          "name": "stderr",
          "text": [
            "100%|██████████| 1648877/1648877 [00:00<00:00, 4500072.48it/s]\n"
          ]
        },
        {
          "output_type": "stream",
          "name": "stdout",
          "text": [
            "Extracting ./data/MNIST/raw/t10k-images-idx3-ubyte.gz to ./data/MNIST/raw\n",
            "\n",
            "Downloading http://yann.lecun.com/exdb/mnist/t10k-labels-idx1-ubyte.gz\n",
            "Failed to download (trying next):\n",
            "HTTP Error 403: Forbidden\n",
            "\n",
            "Downloading https://ossci-datasets.s3.amazonaws.com/mnist/t10k-labels-idx1-ubyte.gz\n",
            "Downloading https://ossci-datasets.s3.amazonaws.com/mnist/t10k-labels-idx1-ubyte.gz to ./data/MNIST/raw/t10k-labels-idx1-ubyte.gz\n"
          ]
        },
        {
          "output_type": "stream",
          "name": "stderr",
          "text": [
            "100%|██████████| 4542/4542 [00:00<00:00, 3062785.98it/s]"
          ]
        },
        {
          "output_type": "stream",
          "name": "stdout",
          "text": [
            "Extracting ./data/MNIST/raw/t10k-labels-idx1-ubyte.gz to ./data/MNIST/raw\n",
            "\n"
          ]
        },
        {
          "output_type": "stream",
          "name": "stderr",
          "text": [
            "\n"
          ]
        }
      ]
    },
    {
      "cell_type": "code",
      "source": [
        "def get_item(index, dataset='train'):\n",
        "    ''' returns a pair (image_tensor, label_int) '''\n",
        "    if dataset == 'train':\n",
        "        return train_dataset[index]\n",
        "    elif dataset == 'test':\n",
        "        return test_dataset[index]"
      ],
      "metadata": {
        "id": "306JWBg3jXg9"
      },
      "execution_count": 3,
      "outputs": []
    },
    {
      "cell_type": "code",
      "source": [
        "def show_image(index, dataset='train'):\n",
        "    ''' show an image with matplotlib '''\n",
        "    img = train_dataset[index][0].numpy().reshape(28, 28)\n",
        "    plt.imshow(img, cmap='gray')\n",
        "    plt.show()"
      ],
      "metadata": {
        "id": "VUtugS-Tkmna"
      },
      "execution_count": 4,
      "outputs": []
    },
    {
      "cell_type": "code",
      "source": [
        "# load train and test data samples into dataloader\n",
        "batch_size = 32\n",
        "train_loader = DataLoader(dataset=train_dataset, batch_size=batch_size, shuffle=True)\n",
        "test_loader = DataLoader(dataset=test_dataset, batch_size=batch_size, shuffle=False)"
      ],
      "metadata": {
        "id": "3-6Gz7oslNka"
      },
      "execution_count": 5,
      "outputs": []
    },
    {
      "cell_type": "code",
      "source": [
        "# custom module for logistic regression\n",
        "class LRModel(nn.Module):\n",
        "    def __init__(self, n_inputs, n_outputs):\n",
        "        super(LRModel, self).__init__()\n",
        "        self.linear = nn.Linear(n_inputs, n_outputs)\n",
        "\n",
        "    def forward(self, x):\n",
        "        y_pred = torch.sigmoid(self.linear(x))\n",
        "        return y_pred"
      ],
      "metadata": {
        "id": "_s9RXb1Elzs2"
      },
      "execution_count": 6,
      "outputs": []
    },
    {
      "cell_type": "code",
      "source": [
        "# instantiate the model\n",
        "n_inputs = 28*28\n",
        "n_outputs = 10\n",
        "model = LRModel(n_inputs, n_outputs)\n",
        "\n",
        "# defining the optimizer\n",
        "optimizer = torch.optim.SGD(model.parameters(), lr=0.001)\n",
        "\n",
        "# defining Cross-Entropy loss\n",
        "loss_fn = torch.nn.CrossEntropyLoss()"
      ],
      "metadata": {
        "id": "qfbNFl2ImU5F"
      },
      "execution_count": 7,
      "outputs": []
    },
    {
      "cell_type": "code",
      "source": [
        "# train the model\n",
        "def train(model=model, epochs=50, training_loader=train_loader, testing_loader=test_loader):\n",
        "  losses = []\n",
        "  accuracies = []\n",
        "\n",
        "  for epoch in range(epochs):\n",
        "      for i, (images, labels) in enumerate(training_loader):\n",
        "          optimizer.zero_grad()\n",
        "          outputs = model(images.view(-1, 28*28))\n",
        "          loss = loss_fn(outputs, labels)\n",
        "\n",
        "          loss.backward()\n",
        "          optimizer.step()\n",
        "      losses.append(loss.item())\n",
        "\n",
        "      correct = 0\n",
        "      for images, labels in testing_loader:\n",
        "          outputs = model(images.view(-1, 28*28))\n",
        "          _, predicted = torch.max(outputs.data, 1)\n",
        "          correct += (predicted == labels).sum()\n",
        "      accuracy = 100 * (correct.item()) / len(test_dataset)\n",
        "      accuracies.append(accuracy)\n",
        "      print('Epoch: {}. Loss: {}. Accuracy: {}'.format(epoch, loss.item(), accuracy))"
      ],
      "metadata": {
        "id": "PpoXOYS9m5_Q"
      },
      "execution_count": 8,
      "outputs": []
    },
    {
      "cell_type": "code",
      "source": [
        "# train the model for 50 epochs\n",
        "train()"
      ],
      "metadata": {
        "colab": {
          "base_uri": "https://localhost:8080/"
        },
        "id": "H_eFX0_7qmFG",
        "outputId": "33c29c69-a7f7-4f24-f09b-99e638bcb62e"
      },
      "execution_count": 9,
      "outputs": [
        {
          "output_type": "stream",
          "name": "stdout",
          "text": [
            "Epoch: 0. Loss: 2.166508436203003. Accuracy: 62.96\n",
            "Epoch: 1. Loss: 2.1275529861450195. Accuracy: 72.98\n",
            "Epoch: 2. Loss: 2.0633058547973633. Accuracy: 76.89\n",
            "Epoch: 3. Loss: 1.9910814762115479. Accuracy: 78.94\n",
            "Epoch: 4. Loss: 2.039309501647949. Accuracy: 79.97\n",
            "Epoch: 5. Loss: 1.8971219062805176. Accuracy: 80.8\n",
            "Epoch: 6. Loss: 1.9076002836227417. Accuracy: 81.14\n",
            "Epoch: 7. Loss: 1.8423922061920166. Accuracy: 81.63\n",
            "Epoch: 8. Loss: 1.8234570026397705. Accuracy: 82.14\n",
            "Epoch: 9. Loss: 1.882889986038208. Accuracy: 82.5\n",
            "Epoch: 10. Loss: 1.788641333580017. Accuracy: 82.79\n",
            "Epoch: 11. Loss: 1.8190696239471436. Accuracy: 82.87\n",
            "Epoch: 12. Loss: 1.799787998199463. Accuracy: 83.05\n",
            "Epoch: 13. Loss: 1.7906941175460815. Accuracy: 83.25\n",
            "Epoch: 14. Loss: 1.8662105798721313. Accuracy: 83.43\n",
            "Epoch: 15. Loss: 1.7785074710845947. Accuracy: 83.58\n",
            "Epoch: 16. Loss: 1.7799181938171387. Accuracy: 83.82\n",
            "Epoch: 17. Loss: 1.7941840887069702. Accuracy: 83.96\n",
            "Epoch: 18. Loss: 1.8172158002853394. Accuracy: 84.12\n",
            "Epoch: 19. Loss: 1.7773544788360596. Accuracy: 84.22\n",
            "Epoch: 20. Loss: 1.7780691385269165. Accuracy: 84.37\n",
            "Epoch: 21. Loss: 1.7546367645263672. Accuracy: 84.49\n",
            "Epoch: 22. Loss: 1.737202763557434. Accuracy: 84.65\n",
            "Epoch: 23. Loss: 1.7363743782043457. Accuracy: 84.72\n",
            "Epoch: 24. Loss: 1.763606071472168. Accuracy: 84.83\n",
            "Epoch: 25. Loss: 1.710537314414978. Accuracy: 84.95\n",
            "Epoch: 26. Loss: 1.7577424049377441. Accuracy: 85.06\n",
            "Epoch: 27. Loss: 1.6720683574676514. Accuracy: 85.11\n",
            "Epoch: 28. Loss: 1.7697442770004272. Accuracy: 85.2\n",
            "Epoch: 29. Loss: 1.7137763500213623. Accuracy: 85.24\n",
            "Epoch: 30. Loss: 1.7374457120895386. Accuracy: 85.28\n",
            "Epoch: 31. Loss: 1.746091365814209. Accuracy: 85.33\n",
            "Epoch: 32. Loss: 1.7255597114562988. Accuracy: 85.44\n",
            "Epoch: 33. Loss: 1.7386958599090576. Accuracy: 85.53\n",
            "Epoch: 34. Loss: 1.7271620035171509. Accuracy: 85.6\n",
            "Epoch: 35. Loss: 1.7351701259613037. Accuracy: 85.67\n",
            "Epoch: 36. Loss: 1.7151165008544922. Accuracy: 85.7\n",
            "Epoch: 37. Loss: 1.6950180530548096. Accuracy: 85.77\n",
            "Epoch: 38. Loss: 1.7536590099334717. Accuracy: 85.82\n",
            "Epoch: 39. Loss: 1.6849586963653564. Accuracy: 85.89\n",
            "Epoch: 40. Loss: 1.7270506620407104. Accuracy: 86.0\n",
            "Epoch: 41. Loss: 1.7530547380447388. Accuracy: 86.06\n",
            "Epoch: 42. Loss: 1.7243119478225708. Accuracy: 86.1\n",
            "Epoch: 43. Loss: 1.6970243453979492. Accuracy: 86.17\n",
            "Epoch: 44. Loss: 1.7053388357162476. Accuracy: 86.22\n",
            "Epoch: 45. Loss: 1.7335377931594849. Accuracy: 86.24\n",
            "Epoch: 46. Loss: 1.6981254816055298. Accuracy: 86.25\n",
            "Epoch: 47. Loss: 1.6809452772140503. Accuracy: 86.29\n",
            "Epoch: 48. Loss: 1.697105884552002. Accuracy: 86.31\n",
            "Epoch: 49. Loss: 1.7173126935958862. Accuracy: 86.36\n"
          ]
        }
      ]
    },
    {
      "cell_type": "code",
      "source": [
        "# save the model\n",
        "torch.save(model.state_dict(), 'model_weights.pth')"
      ],
      "metadata": {
        "id": "Ic7CR2UUsmH0"
      },
      "execution_count": 10,
      "outputs": []
    },
    {
      "cell_type": "code",
      "source": [
        "# download the weights\n",
        "from google.colab import files\n",
        "files.download('model_weights.pth')"
      ],
      "metadata": {
        "colab": {
          "base_uri": "https://localhost:8080/",
          "height": 17
        },
        "id": "iUoMZcwQuZRG",
        "outputId": "cd3d64fd-9d73-42ae-cc64-6019bb691077"
      },
      "execution_count": 11,
      "outputs": [
        {
          "output_type": "display_data",
          "data": {
            "text/plain": [
              "<IPython.core.display.Javascript object>"
            ],
            "application/javascript": [
              "\n",
              "    async function download(id, filename, size) {\n",
              "      if (!google.colab.kernel.accessAllowed) {\n",
              "        return;\n",
              "      }\n",
              "      const div = document.createElement('div');\n",
              "      const label = document.createElement('label');\n",
              "      label.textContent = `Downloading \"${filename}\": `;\n",
              "      div.appendChild(label);\n",
              "      const progress = document.createElement('progress');\n",
              "      progress.max = size;\n",
              "      div.appendChild(progress);\n",
              "      document.body.appendChild(div);\n",
              "\n",
              "      const buffers = [];\n",
              "      let downloaded = 0;\n",
              "\n",
              "      const channel = await google.colab.kernel.comms.open(id);\n",
              "      // Send a message to notify the kernel that we're ready.\n",
              "      channel.send({})\n",
              "\n",
              "      for await (const message of channel.messages) {\n",
              "        // Send a message to notify the kernel that we're ready.\n",
              "        channel.send({})\n",
              "        if (message.buffers) {\n",
              "          for (const buffer of message.buffers) {\n",
              "            buffers.push(buffer);\n",
              "            downloaded += buffer.byteLength;\n",
              "            progress.value = downloaded;\n",
              "          }\n",
              "        }\n",
              "      }\n",
              "      const blob = new Blob(buffers, {type: 'application/binary'});\n",
              "      const a = document.createElement('a');\n",
              "      a.href = window.URL.createObjectURL(blob);\n",
              "      a.download = filename;\n",
              "      div.appendChild(a);\n",
              "      a.click();\n",
              "      div.remove();\n",
              "    }\n",
              "  "
            ]
          },
          "metadata": {}
        },
        {
          "output_type": "display_data",
          "data": {
            "text/plain": [
              "<IPython.core.display.Javascript object>"
            ],
            "application/javascript": [
              "download(\"download_26c47dbb-721a-4d5f-b666-8b3228af5e5e\", \"model_weights.pth\", 32956)"
            ]
          },
          "metadata": {}
        }
      ]
    },
    {
      "cell_type": "code",
      "source": [
        "# check on example\n",
        "image_example = get_item(4)\n",
        "\n",
        "outputs = model(image_example[0].view(-1, 28*28))\n",
        "print(outputs)\n",
        "\n",
        "show_image(4)"
      ],
      "metadata": {
        "colab": {
          "base_uri": "https://localhost:8080/",
          "height": 465
        },
        "id": "BOaMKKDHudQo",
        "outputId": "451e661e-2ca9-4bef-ba6d-fcc3bfbf0d00"
      },
      "execution_count": 13,
      "outputs": [
        {
          "output_type": "stream",
          "name": "stdout",
          "text": [
            "tensor([[0.0060, 0.0462, 0.0049, 0.0045, 0.7539, 0.0314, 0.0078, 0.2370, 0.0924,\n",
            "         0.9730]], grad_fn=<SigmoidBackward0>)\n"
          ]
        },
        {
          "output_type": "display_data",
          "data": {
            "text/plain": [
              "<Figure size 640x480 with 1 Axes>"
            ],
            "image/png": "[encoded data removed]"
          },
          "metadata": {}
        }
      ]
    },
    {
      "cell_type": "code",
      "source": [
        "# try to load a model from the weights\n",
        "model2 = LRModel(n_inputs, n_outputs)\n",
        "model2.load_state_dict(torch.load('model_weights.pth'))"
      ],
      "metadata": {
        "colab": {
          "base_uri": "https://localhost:8080/"
        },
        "id": "9seImTzpuzCC",
        "outputId": "eaf1c331-7930-49de-9a22-1473c046f62b"
      },
      "execution_count": 14,
      "outputs": [
        {
          "output_type": "stream",
          "name": "stderr",
          "text": [
            "<ipython-input-14-9ffdbb8b5253>:2: FutureWarning: You are using `torch.load` with `weights_only=False` (the current default value), which uses the default pickle module implicitly. It is possible to construct malicious pickle data which will execute arbitrary code during unpickling (See https://github.com/pytorch/pytorch/blob/main/SECURITY.md#untrusted-models for more details). In a future release, the default value for `weights_only` will be flipped to `True`. This limits the functions that could be executed during unpickling. Arbitrary objects will no longer be allowed to be loaded via this mode unless they are explicitly allowlisted by the user via `torch.serialization.add_safe_globals`. We recommend you start setting `weights_only=True` for any use case where you don't have full control of the loaded file. Please open an issue on GitHub for any issues related to this experimental feature.\n",
            "  model2.load_state_dict(torch.load('model_weights.pth'))\n"
          ]
        },
        {
          "output_type": "execute_result",
          "data": {
            "text/plain": [
              "<All keys matched successfully>"
            ]
          },
          "metadata": {},
          "execution_count": 14
        }
      ]
    },
    {
      "cell_type": "code",
      "source": [
        "# check on example for new model\n",
        "image_example = get_item(4)\n",
        "\n",
        "outputs = model2(image_example[0].view(-1, 28*28))\n",
        "print(outputs)\n",
        "\n",
        "show_image(4)"
      ],
      "metadata": {
        "colab": {
          "base_uri": "https://localhost:8080/",
          "height": 465
        },
        "id": "mB3eWb8ovEiI",
        "outputId": "11533925-441a-4ea6-fbb9-67f5fd7e1084"
      },
      "execution_count": 15,
      "outputs": [
        {
          "output_type": "stream",
          "name": "stdout",
          "text": [
            "tensor([[0.0060, 0.0462, 0.0049, 0.0045, 0.7539, 0.0314, 0.0078, 0.2370, 0.0924,\n",
            "         0.9730]], grad_fn=<SigmoidBackward0>)\n"
          ]
        },
        {
          "output_type": "display_data",
          "data": {
            "text/plain": [
              "<Figure size 640x480 with 1 Axes>"
            ],
            "image/png": "[encoded data removed]"
          },
          "metadata": {}
        }
      ]
    },
    {
      "cell_type": "code",
      "source": [],
      "metadata": {
        "id": "WLxcBz5SvHbY"
      },
      "execution_count": null,
      "outputs": []
    }
  ]
}